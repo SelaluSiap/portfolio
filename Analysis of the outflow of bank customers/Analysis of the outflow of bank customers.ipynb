{
 "cells": [
  {
   "cell_type": "markdown",
   "id": "39a4523f",
   "metadata": {
    "id": "39a4523f"
   },
   "source": [
    "# Анализ оттока клиентов банка"
   ]
  },
  {
   "cell_type": "markdown",
   "id": "54768137",
   "metadata": {},
   "source": [
    "В данном проекте используются следущие новыки:\n",
    "\n",
    "- Python,\n",
    "- Pandas,\n",
    "- Matplotlib,\n",
    "- Seaborn,\n",
    "- классификация,\n",
    "- A/B-тестирование,\n",
    "- описательная статистика,\n",
    "- проверка статистических гипотез."
   ]
  },
  {
   "cell_type": "markdown",
   "id": "aedb415f",
   "metadata": {
    "id": "aedb415f"
   },
   "source": [
    "**План:**\n",
    "- Проведём предобработку данных и исследовательский анализ данных, в ходе которого определим все значимые признаки отточности.\n",
    "- Сформулируем и проверим статистические гипотезы, относительно представленных данных, которые помогут внести ясность в исследование.\n",
    "- Объединяя признаки отточности, сформируем сегменты, отберём из них лучшие и дадим по ним рекомендации."
   ]
  },
  {
   "cell_type": "markdown",
   "id": "e35cda23",
   "metadata": {
    "id": "e35cda23"
   },
   "source": [
    "**Оглавление:**\n",
    "- [Знакомство c данными](#1.-Знакомство-c-данными)\n",
    " - [Импорт библиотек и прочие настройки](#1.1-Импорт-библиотек-и-прочие-настройки)\n",
    " - [Загрузка и чтение данных](#1.2-Загрузка-и-чтение-данных)\n",
    "- [Предобработка данных](#2.-Предобработка-данных)\n",
    " - [Корректность наименований столбцов](#2.1-Корректность-наименований-столбцов)\n",
    " - [Обработка пропусков](#2.2-Обработка-пропусков)\n",
    " - [Корректность типов данных](#2.3-Корректность-типов-данных)\n",
    "    - [Столбцы с качественными данными](#2.3.1-Столбцы-с-качественными-данными)\n",
    "    - [Столбцы с количественными данными](#2.3.2-Столбцы-с-количественными-данными)\n",
    " - [Обработка дубликатов](#2.4-Обработка-дубликатов)\n",
    " - [Распределения и категоризация](#2.5-Распределения-и-категоризация)\n",
    "     - [Распределения](#2.5.1-Распределения)\n",
    "     - [Категоризация](#2.5.2-Категоризация)\n",
    "- [Исследовательский анализ](#3.-Исследовательский-анализ)\n",
    " - [Портреты клиентов](#3.1-Портреты-клиентов)\n",
    " - [Корреляция](#3.2-Корреляция)\n",
    " - [Статистический анализ](#3.3.-Статистический-анализ)\n",
    "- [Сегментация ](#4.-Сегментация)\n",
    "- [Выводы и рекомендации](#Выводы-и-рекомендации)\n",
    " - [Общие выводы](#Общие-выводы)\n",
    " - [Рекомендации](#Рекомендации)\n",
    " - [Приложения](#Приложения)"
   ]
  },
  {
   "cell_type": "markdown",
   "id": "40db2779",
   "metadata": {
    "id": "40db2779"
   },
   "source": [
    "## 1. Знакомство с данными"
   ]
  },
  {
   "cell_type": "markdown",
   "id": "0385d04b",
   "metadata": {
    "id": "0385d04b"
   },
   "source": [
    "#### 1.1 Импорт библиотек и прочие настройки"
   ]
  },
  {
   "cell_type": "code",
   "execution_count": 1,
   "id": "79771c31",
   "metadata": {
    "id": "79771c31"
   },
   "outputs": [],
   "source": [
    "# импортируем библиотеки\n",
    "import pandas as pd\n",
    "import re\n",
    "import numpy as np\n",
    "import matplotlib.pyplot as plt\n",
    "import seaborn as sns\n",
    "from scipy import stats as st\n",
    "import warnings"
   ]
  },
  {
   "cell_type": "code",
   "execution_count": 2,
   "id": "503ad07d",
   "metadata": {
    "id": "503ad07d"
   },
   "outputs": [],
   "source": [
    "# настройки отображения\n",
    "\n",
    "# формат отображения\n",
    "pd.set_option('display.max_columns', None)\n",
    "# предупреждения\n",
    "warnings.filterwarnings('ignore')\n",
    "# стиль графиков и шрифтов\n",
    "plt.style.use(\"seaborn-whitegrid\")\n",
    "class font:\n",
    "        BOLD = \"\\033[1m\"\n",
    "        END = \"\\033[0m\"\n",
    "color = '#4884af'\n",
    "palette = 'Blues_r'"
   ]
  },
  {
   "cell_type": "markdown",
   "id": "3572aa00",
   "metadata": {
    "id": "3572aa00"
   },
   "source": [
    "#### 1.2 Загрузка и чтение данных"
   ]
  },
  {
   "cell_type": "code",
   "execution_count": 4,
   "id": "1123c669",
   "metadata": {
    "colab": {
     "base_uri": "https://localhost:8080/",
     "height": 0
    },
    "id": "1123c669",
    "outputId": "270e0e64-9307-449e-88a0-9b0bfc119ab5"
   },
   "outputs": [
    {
     "name": "stdout",
     "output_type": "stream",
     "text": [
      "<class 'pandas.core.frame.DataFrame'>\n",
      "RangeIndex: 10000 entries, 0 to 9999\n",
      "Data columns (total 12 columns):\n",
      " #   Column         Non-Null Count  Dtype  \n",
      "---  ------         --------------  -----  \n",
      " 0   USERID         10000 non-null  int64  \n",
      " 1   score          10000 non-null  float64\n",
      " 2   city           10000 non-null  object \n",
      " 3   gender         10000 non-null  object \n",
      " 4   age            9974 non-null   float64\n",
      " 5   equity         10000 non-null  int64  \n",
      " 6   balance        7705 non-null   float64\n",
      " 7   products       10000 non-null  int64  \n",
      " 8   credit_card    10000 non-null  int64  \n",
      " 9   last_activity  10000 non-null  int64  \n",
      " 10  EST_SALARY     10000 non-null  float64\n",
      " 11  churn          10000 non-null  int64  \n",
      "dtypes: float64(4), int64(6), object(2)\n",
      "memory usage: 937.6+ KB\n"
     ]
    },
    {
     "data": {
      "text/plain": [
       "None"
      ]
     },
     "metadata": {},
     "output_type": "display_data"
    },
    {
     "data": {
      "text/html": [
       "<div>\n",
       "<style scoped>\n",
       "    .dataframe tbody tr th:only-of-type {\n",
       "        vertical-align: middle;\n",
       "    }\n",
       "\n",
       "    .dataframe tbody tr th {\n",
       "        vertical-align: top;\n",
       "    }\n",
       "\n",
       "    .dataframe thead th {\n",
       "        text-align: right;\n",
       "    }\n",
       "</style>\n",
       "<table border=\"1\" class=\"dataframe\">\n",
       "  <thead>\n",
       "    <tr style=\"text-align: right;\">\n",
       "      <th></th>\n",
       "      <th>USERID</th>\n",
       "      <th>score</th>\n",
       "      <th>city</th>\n",
       "      <th>gender</th>\n",
       "      <th>age</th>\n",
       "      <th>equity</th>\n",
       "      <th>balance</th>\n",
       "      <th>products</th>\n",
       "      <th>credit_card</th>\n",
       "      <th>last_activity</th>\n",
       "      <th>EST_SALARY</th>\n",
       "      <th>churn</th>\n",
       "    </tr>\n",
       "  </thead>\n",
       "  <tbody>\n",
       "    <tr>\n",
       "      <th>4551</th>\n",
       "      <td>197329</td>\n",
       "      <td>938.0</td>\n",
       "      <td>Ярославль</td>\n",
       "      <td>М</td>\n",
       "      <td>39.0</td>\n",
       "      <td>5</td>\n",
       "      <td>912305.55</td>\n",
       "      <td>2</td>\n",
       "      <td>1</td>\n",
       "      <td>1</td>\n",
       "      <td>178485.29</td>\n",
       "      <td>1</td>\n",
       "    </tr>\n",
       "    <tr>\n",
       "      <th>7967</th>\n",
       "      <td>215341</td>\n",
       "      <td>950.0</td>\n",
       "      <td>Ярославль</td>\n",
       "      <td>М</td>\n",
       "      <td>37.0</td>\n",
       "      <td>0</td>\n",
       "      <td>NaN</td>\n",
       "      <td>1</td>\n",
       "      <td>0</td>\n",
       "      <td>1</td>\n",
       "      <td>284816.69</td>\n",
       "      <td>0</td>\n",
       "    </tr>\n",
       "    <tr>\n",
       "      <th>3086</th>\n",
       "      <td>205630</td>\n",
       "      <td>855.0</td>\n",
       "      <td>Рыбинск</td>\n",
       "      <td>Ж</td>\n",
       "      <td>45.0</td>\n",
       "      <td>2</td>\n",
       "      <td>574755.13</td>\n",
       "      <td>2</td>\n",
       "      <td>0</td>\n",
       "      <td>1</td>\n",
       "      <td>85116.27</td>\n",
       "      <td>0</td>\n",
       "    </tr>\n",
       "    <tr>\n",
       "      <th>8875</th>\n",
       "      <td>130395</td>\n",
       "      <td>929.0</td>\n",
       "      <td>Ярославль</td>\n",
       "      <td>Ж</td>\n",
       "      <td>60.0</td>\n",
       "      <td>0</td>\n",
       "      <td>NaN</td>\n",
       "      <td>1</td>\n",
       "      <td>1</td>\n",
       "      <td>1</td>\n",
       "      <td>469934.64</td>\n",
       "      <td>0</td>\n",
       "    </tr>\n",
       "    <tr>\n",
       "      <th>1724</th>\n",
       "      <td>186531</td>\n",
       "      <td>846.0</td>\n",
       "      <td>Рыбинск</td>\n",
       "      <td>Ж</td>\n",
       "      <td>39.0</td>\n",
       "      <td>5</td>\n",
       "      <td>508273.56</td>\n",
       "      <td>2</td>\n",
       "      <td>0</td>\n",
       "      <td>1</td>\n",
       "      <td>89104.40</td>\n",
       "      <td>0</td>\n",
       "    </tr>\n",
       "    <tr>\n",
       "      <th>3367</th>\n",
       "      <td>136187</td>\n",
       "      <td>916.0</td>\n",
       "      <td>Ярославль</td>\n",
       "      <td>М</td>\n",
       "      <td>44.0</td>\n",
       "      <td>1</td>\n",
       "      <td>1125916.53</td>\n",
       "      <td>2</td>\n",
       "      <td>1</td>\n",
       "      <td>0</td>\n",
       "      <td>167759.18</td>\n",
       "      <td>0</td>\n",
       "    </tr>\n",
       "    <tr>\n",
       "      <th>899</th>\n",
       "      <td>204555</td>\n",
       "      <td>803.0</td>\n",
       "      <td>Ярославль</td>\n",
       "      <td>Ж</td>\n",
       "      <td>47.0</td>\n",
       "      <td>0</td>\n",
       "      <td>105020.53</td>\n",
       "      <td>2</td>\n",
       "      <td>1</td>\n",
       "      <td>1</td>\n",
       "      <td>71774.48</td>\n",
       "      <td>0</td>\n",
       "    </tr>\n",
       "    <tr>\n",
       "      <th>5113</th>\n",
       "      <td>169660</td>\n",
       "      <td>782.0</td>\n",
       "      <td>Ярославль</td>\n",
       "      <td>М</td>\n",
       "      <td>38.0</td>\n",
       "      <td>5</td>\n",
       "      <td>528619.75</td>\n",
       "      <td>3</td>\n",
       "      <td>1</td>\n",
       "      <td>1</td>\n",
       "      <td>110193.29</td>\n",
       "      <td>0</td>\n",
       "    </tr>\n",
       "    <tr>\n",
       "      <th>577</th>\n",
       "      <td>202624</td>\n",
       "      <td>771.0</td>\n",
       "      <td>Рыбинск</td>\n",
       "      <td>Ж</td>\n",
       "      <td>48.0</td>\n",
       "      <td>3</td>\n",
       "      <td>271765.72</td>\n",
       "      <td>2</td>\n",
       "      <td>0</td>\n",
       "      <td>1</td>\n",
       "      <td>139792.10</td>\n",
       "      <td>0</td>\n",
       "    </tr>\n",
       "    <tr>\n",
       "      <th>1116</th>\n",
       "      <td>200452</td>\n",
       "      <td>834.0</td>\n",
       "      <td>Рыбинск</td>\n",
       "      <td>Ж</td>\n",
       "      <td>35.0</td>\n",
       "      <td>5</td>\n",
       "      <td>725677.04</td>\n",
       "      <td>1</td>\n",
       "      <td>1</td>\n",
       "      <td>1</td>\n",
       "      <td>76249.42</td>\n",
       "      <td>0</td>\n",
       "    </tr>\n",
       "  </tbody>\n",
       "</table>\n",
       "</div>"
      ],
      "text/plain": [
       "      USERID  score       city gender   age  equity     balance  products  \\\n",
       "4551  197329  938.0  Ярославль      М  39.0       5   912305.55         2   \n",
       "7967  215341  950.0  Ярославль      М  37.0       0         NaN         1   \n",
       "3086  205630  855.0    Рыбинск      Ж  45.0       2   574755.13         2   \n",
       "8875  130395  929.0  Ярославль      Ж  60.0       0         NaN         1   \n",
       "1724  186531  846.0    Рыбинск      Ж  39.0       5   508273.56         2   \n",
       "3367  136187  916.0  Ярославль      М  44.0       1  1125916.53         2   \n",
       "899   204555  803.0  Ярославль      Ж  47.0       0   105020.53         2   \n",
       "5113  169660  782.0  Ярославль      М  38.0       5   528619.75         3   \n",
       "577   202624  771.0    Рыбинск      Ж  48.0       3   271765.72         2   \n",
       "1116  200452  834.0    Рыбинск      Ж  35.0       5   725677.04         1   \n",
       "\n",
       "      credit_card  last_activity  EST_SALARY  churn  \n",
       "4551            1              1   178485.29      1  \n",
       "7967            0              1   284816.69      0  \n",
       "3086            0              1    85116.27      0  \n",
       "8875            1              1   469934.64      0  \n",
       "1724            0              1    89104.40      0  \n",
       "3367            1              0   167759.18      0  \n",
       "899             1              1    71774.48      0  \n",
       "5113            1              1   110193.29      0  \n",
       "577             0              1   139792.10      0  \n",
       "1116            1              1    76249.42      0  "
      ]
     },
     "metadata": {},
     "output_type": "display_data"
    }
   ],
   "source": [
    "# выводим основную информацию по датафрейму\n",
    "display(data.info(), data.sample(10))"
   ]
  },
  {
   "cell_type": "markdown",
   "id": "78a98d63",
   "metadata": {
    "id": "78a98d63"
   },
   "source": [
    "Представленный датафрейм состоит из 12 столбцов на 10000 строк и содержит информацию о клиентах разных филиалов банка и их признаков. Однако при проверке качества данных были обнаружены пропущенные значения и некорректные типы данных в некоторых столбцах, которые необходимо исправить."
   ]
  },
  {
   "cell_type": "markdown",
   "id": "a463408e",
   "metadata": {
    "id": "a463408e"
   },
   "source": [
    "## 2. Предобработка данных"
   ]
  },
  {
   "cell_type": "markdown",
   "id": "8e5dba5c",
   "metadata": {
    "id": "8e5dba5c"
   },
   "source": [
    "#### 2.1 Корректность наименований столбцов\n",
    "Скорректируем название столбцов."
   ]
  },
  {
   "cell_type": "code",
   "execution_count": 5,
   "id": "34bb66c0",
   "metadata": {
    "colab": {
     "base_uri": "https://localhost:8080/"
    },
    "id": "34bb66c0",
    "outputId": "3d8fc18e-8184-478e-e60d-b9dd73b2c1ed"
   },
   "outputs": [
    {
     "data": {
      "text/plain": [
       "['user_id',\n",
       " 'score',\n",
       " 'city',\n",
       " 'gender',\n",
       " 'age',\n",
       " 'equity',\n",
       " 'balance',\n",
       " 'products',\n",
       " 'credit_card',\n",
       " 'last_activity',\n",
       " 'est_salary',\n",
       " 'churn']"
      ]
     },
     "execution_count": 5,
     "metadata": {},
     "output_type": "execute_result"
    }
   ],
   "source": [
    "# приводим названия к нижнему регистру\n",
    "data.columns = data.columns.str.lower()\n",
    "#\n",
    "data = data.rename(columns = {'userid':'user_id'})\n",
    "# проверка\n",
    "list(data.columns)"
   ]
  },
  {
   "cell_type": "markdown",
   "id": "a82219f0",
   "metadata": {
    "id": "a82219f0"
   },
   "source": [
    "#### 2.2 Обработка пропусков"
   ]
  },
  {
   "cell_type": "code",
   "execution_count": 6,
   "id": "51a82213",
   "metadata": {
    "colab": {
     "base_uri": "https://localhost:8080/",
     "height": 0
    },
    "id": "51a82213",
    "outputId": "ae9801fb-27bd-4a3f-e6ef-a1dd32556846"
   },
   "outputs": [
    {
     "data": {
      "text/html": [
       "<style type=\"text/css\">\n",
       "#T_97f56_row0_col0, #T_97f56_row1_col0, #T_97f56_row2_col0, #T_97f56_row3_col0, #T_97f56_row5_col0, #T_97f56_row7_col0, #T_97f56_row8_col0, #T_97f56_row9_col0, #T_97f56_row10_col0, #T_97f56_row11_col0 {\n",
       "  background-color: #fff5f0;\n",
       "  color: #000000;\n",
       "}\n",
       "#T_97f56_row4_col0 {\n",
       "  background-color: #fcb89e;\n",
       "  color: #000000;\n",
       "}\n",
       "#T_97f56_row6_col0 {\n",
       "  background-color: #67000d;\n",
       "  color: #f1f1f1;\n",
       "}\n",
       "</style>\n",
       "<table id=\"T_97f56\">\n",
       "  <thead>\n",
       "    <tr>\n",
       "      <th class=\"blank level0\" >&nbsp;</th>\n",
       "      <th id=\"T_97f56_level0_col0\" class=\"col_heading level0 col0\" >0</th>\n",
       "    </tr>\n",
       "  </thead>\n",
       "  <tbody>\n",
       "    <tr>\n",
       "      <th id=\"T_97f56_level0_row0\" class=\"row_heading level0 row0\" >user_id</th>\n",
       "      <td id=\"T_97f56_row0_col0\" class=\"data row0 col0\" >0.000000</td>\n",
       "    </tr>\n",
       "    <tr>\n",
       "      <th id=\"T_97f56_level0_row1\" class=\"row_heading level0 row1\" >score</th>\n",
       "      <td id=\"T_97f56_row1_col0\" class=\"data row1 col0\" >0.000000</td>\n",
       "    </tr>\n",
       "    <tr>\n",
       "      <th id=\"T_97f56_level0_row2\" class=\"row_heading level0 row2\" >city</th>\n",
       "      <td id=\"T_97f56_row2_col0\" class=\"data row2 col0\" >0.000000</td>\n",
       "    </tr>\n",
       "    <tr>\n",
       "      <th id=\"T_97f56_level0_row3\" class=\"row_heading level0 row3\" >gender</th>\n",
       "      <td id=\"T_97f56_row3_col0\" class=\"data row3 col0\" >0.000000</td>\n",
       "    </tr>\n",
       "    <tr>\n",
       "      <th id=\"T_97f56_level0_row4\" class=\"row_heading level0 row4\" >age</th>\n",
       "      <td id=\"T_97f56_row4_col0\" class=\"data row4 col0\" >0.260000</td>\n",
       "    </tr>\n",
       "    <tr>\n",
       "      <th id=\"T_97f56_level0_row5\" class=\"row_heading level0 row5\" >equity</th>\n",
       "      <td id=\"T_97f56_row5_col0\" class=\"data row5 col0\" >0.000000</td>\n",
       "    </tr>\n",
       "    <tr>\n",
       "      <th id=\"T_97f56_level0_row6\" class=\"row_heading level0 row6\" >balance</th>\n",
       "      <td id=\"T_97f56_row6_col0\" class=\"data row6 col0\" >22.950000</td>\n",
       "    </tr>\n",
       "    <tr>\n",
       "      <th id=\"T_97f56_level0_row7\" class=\"row_heading level0 row7\" >products</th>\n",
       "      <td id=\"T_97f56_row7_col0\" class=\"data row7 col0\" >0.000000</td>\n",
       "    </tr>\n",
       "    <tr>\n",
       "      <th id=\"T_97f56_level0_row8\" class=\"row_heading level0 row8\" >credit_card</th>\n",
       "      <td id=\"T_97f56_row8_col0\" class=\"data row8 col0\" >0.000000</td>\n",
       "    </tr>\n",
       "    <tr>\n",
       "      <th id=\"T_97f56_level0_row9\" class=\"row_heading level0 row9\" >last_activity</th>\n",
       "      <td id=\"T_97f56_row9_col0\" class=\"data row9 col0\" >0.000000</td>\n",
       "    </tr>\n",
       "    <tr>\n",
       "      <th id=\"T_97f56_level0_row10\" class=\"row_heading level0 row10\" >est_salary</th>\n",
       "      <td id=\"T_97f56_row10_col0\" class=\"data row10 col0\" >0.000000</td>\n",
       "    </tr>\n",
       "    <tr>\n",
       "      <th id=\"T_97f56_level0_row11\" class=\"row_heading level0 row11\" >churn</th>\n",
       "      <td id=\"T_97f56_row11_col0\" class=\"data row11 col0\" >0.000000</td>\n",
       "    </tr>\n",
       "  </tbody>\n",
       "</table>\n"
      ],
      "text/plain": [
       "<pandas.io.formats.style.Styler at 0x1e50d49c7f0>"
      ]
     },
     "execution_count": 6,
     "metadata": {},
     "output_type": "execute_result"
    }
   ],
   "source": [
    "# выводим долю пропусков в каждом из столбцов датафрейма\n",
    "pd.DataFrame(\n",
    "        data.isna().mean() * 100\n",
    ").style.background_gradient(cmap=\"Reds\", vmax=1)"
   ]
  },
  {
   "cell_type": "markdown",
   "id": "277fa502",
   "metadata": {
    "id": "277fa502"
   },
   "source": [
    "При проверке данных на пропуски было выявлены пропуски в столбцах age (0.26%) и balance (~23%). Доля пропусков в столбце age очень мала, поэтому их удаление не повлияет на дальнейший анализ. Чем вызваны наличие пропусков в столбце age выясним далее."
   ]
  },
  {
   "cell_type": "code",
   "execution_count": 7,
   "id": "0f333d68",
   "metadata": {
    "colab": {
     "base_uri": "https://localhost:8080/",
     "height": 0
    },
    "id": "0f333d68",
    "outputId": "2770d3c4-ae42-44da-ea79-76e98288e404"
   },
   "outputs": [
    {
     "data": {
      "text/html": [
       "<style type=\"text/css\">\n",
       "#T_f0e7c_row0_col0, #T_f0e7c_row1_col0, #T_f0e7c_row2_col0, #T_f0e7c_row3_col0, #T_f0e7c_row4_col0, #T_f0e7c_row5_col0, #T_f0e7c_row7_col0, #T_f0e7c_row8_col0, #T_f0e7c_row9_col0, #T_f0e7c_row10_col0, #T_f0e7c_row11_col0 {\n",
       "  background-color: #fff5f0;\n",
       "  color: #000000;\n",
       "}\n",
       "#T_f0e7c_row6_col0 {\n",
       "  background-color: #67000d;\n",
       "  color: #f1f1f1;\n",
       "}\n",
       "</style>\n",
       "<table id=\"T_f0e7c\">\n",
       "  <thead>\n",
       "    <tr>\n",
       "      <th class=\"blank level0\" >&nbsp;</th>\n",
       "      <th id=\"T_f0e7c_level0_col0\" class=\"col_heading level0 col0\" >0</th>\n",
       "    </tr>\n",
       "  </thead>\n",
       "  <tbody>\n",
       "    <tr>\n",
       "      <th id=\"T_f0e7c_level0_row0\" class=\"row_heading level0 row0\" >user_id</th>\n",
       "      <td id=\"T_f0e7c_row0_col0\" class=\"data row0 col0\" >0.000000</td>\n",
       "    </tr>\n",
       "    <tr>\n",
       "      <th id=\"T_f0e7c_level0_row1\" class=\"row_heading level0 row1\" >score</th>\n",
       "      <td id=\"T_f0e7c_row1_col0\" class=\"data row1 col0\" >0.000000</td>\n",
       "    </tr>\n",
       "    <tr>\n",
       "      <th id=\"T_f0e7c_level0_row2\" class=\"row_heading level0 row2\" >city</th>\n",
       "      <td id=\"T_f0e7c_row2_col0\" class=\"data row2 col0\" >0.000000</td>\n",
       "    </tr>\n",
       "    <tr>\n",
       "      <th id=\"T_f0e7c_level0_row3\" class=\"row_heading level0 row3\" >gender</th>\n",
       "      <td id=\"T_f0e7c_row3_col0\" class=\"data row3 col0\" >0.000000</td>\n",
       "    </tr>\n",
       "    <tr>\n",
       "      <th id=\"T_f0e7c_level0_row4\" class=\"row_heading level0 row4\" >age</th>\n",
       "      <td id=\"T_f0e7c_row4_col0\" class=\"data row4 col0\" >0.000000</td>\n",
       "    </tr>\n",
       "    <tr>\n",
       "      <th id=\"T_f0e7c_level0_row5\" class=\"row_heading level0 row5\" >equity</th>\n",
       "      <td id=\"T_f0e7c_row5_col0\" class=\"data row5 col0\" >0.000000</td>\n",
       "    </tr>\n",
       "    <tr>\n",
       "      <th id=\"T_f0e7c_level0_row6\" class=\"row_heading level0 row6\" >balance</th>\n",
       "      <td id=\"T_f0e7c_row6_col0\" class=\"data row6 col0\" >22.849408</td>\n",
       "    </tr>\n",
       "    <tr>\n",
       "      <th id=\"T_f0e7c_level0_row7\" class=\"row_heading level0 row7\" >products</th>\n",
       "      <td id=\"T_f0e7c_row7_col0\" class=\"data row7 col0\" >0.000000</td>\n",
       "    </tr>\n",
       "    <tr>\n",
       "      <th id=\"T_f0e7c_level0_row8\" class=\"row_heading level0 row8\" >credit_card</th>\n",
       "      <td id=\"T_f0e7c_row8_col0\" class=\"data row8 col0\" >0.000000</td>\n",
       "    </tr>\n",
       "    <tr>\n",
       "      <th id=\"T_f0e7c_level0_row9\" class=\"row_heading level0 row9\" >last_activity</th>\n",
       "      <td id=\"T_f0e7c_row9_col0\" class=\"data row9 col0\" >0.000000</td>\n",
       "    </tr>\n",
       "    <tr>\n",
       "      <th id=\"T_f0e7c_level0_row10\" class=\"row_heading level0 row10\" >est_salary</th>\n",
       "      <td id=\"T_f0e7c_row10_col0\" class=\"data row10 col0\" >0.000000</td>\n",
       "    </tr>\n",
       "    <tr>\n",
       "      <th id=\"T_f0e7c_level0_row11\" class=\"row_heading level0 row11\" >churn</th>\n",
       "      <td id=\"T_f0e7c_row11_col0\" class=\"data row11 col0\" >0.000000</td>\n",
       "    </tr>\n",
       "  </tbody>\n",
       "</table>\n"
      ],
      "text/plain": [
       "<pandas.io.formats.style.Styler at 0x1e50d4a1970>"
      ]
     },
     "execution_count": 7,
     "metadata": {},
     "output_type": "execute_result"
    }
   ],
   "source": [
    "# удаляем пропуски в столбце age\n",
    "data = data.dropna(subset=['age'])\n",
    "# проверка\n",
    "pd.DataFrame(\n",
    "        data.isna().mean() * 100\n",
    ").style.background_gradient(cmap=\"Reds\", vmax=1)"
   ]
  },
  {
   "cell_type": "markdown",
   "id": "e3da61ca",
   "metadata": {
    "id": "e3da61ca"
   },
   "source": [
    "Теперь перейдем к детальному рассмотрению пропусков в столбце `balance`."
   ]
  },
  {
   "cell_type": "code",
   "execution_count": 8,
   "id": "685e876a",
   "metadata": {
    "colab": {
     "base_uri": "https://localhost:8080/"
    },
    "id": "685e876a",
    "outputId": "170297ac-be1e-4e64-f333-3ad3a4195317"
   },
   "outputs": [
    {
     "name": "stdout",
     "output_type": "stream",
     "text": [
      "[nan]\n"
     ]
    }
   ],
   "source": [
    "# создаём срез где в столбце balance только пропуски\n",
    "nan_balance = data.query('balance.isna() == True')\n",
    "# проверка\n",
    "print(nan_balance['balance'].unique())"
   ]
  },
  {
   "cell_type": "code",
   "execution_count": 9,
   "id": "70b1dbe3",
   "metadata": {
    "colab": {
     "base_uri": "https://localhost:8080/"
    },
    "id": "70b1dbe3",
    "outputId": "6e826178-0a1d-46d2-ccc1-de8b6b07b6af"
   },
   "outputs": [
    {
     "data": {
      "text/plain": [
       "0"
      ]
     },
     "execution_count": 9,
     "metadata": {},
     "output_type": "execute_result"
    }
   ],
   "source": [
    "# создаём срез где в столбце balance пропусков нет\n",
    "positive_balance = data.query('balance > 0')\n",
    "# проверка\n",
    "positive_balance['balance'].isna().sum()"
   ]
  },
  {
   "cell_type": "code",
   "execution_count": 10,
   "id": "05d0e391",
   "metadata": {
    "colab": {
     "base_uri": "https://localhost:8080/",
     "height": 0
    },
    "id": "05d0e391",
    "outputId": "12834efa-224b-4b81-e844-54afdacea945"
   },
   "outputs": [
    {
     "data": {
      "text/html": [
       "<style type=\"text/css\">\n",
       "#T_e48ab_row0_col1 {\n",
       "  background-color: #fef6fb;\n",
       "  color: #000000;\n",
       "}\n",
       "#T_e48ab_row0_col2, #T_e48ab_row1_col1, #T_e48ab_row1_col2, #T_e48ab_row2_col1, #T_e48ab_row2_col2, #T_e48ab_row3_col1, #T_e48ab_row3_col2, #T_e48ab_row4_col1, #T_e48ab_row4_col2, #T_e48ab_row5_col1, #T_e48ab_row5_col2, #T_e48ab_row7_col1, #T_e48ab_row7_col2 {\n",
       "  background-color: #fff7fb;\n",
       "  color: #000000;\n",
       "}\n",
       "#T_e48ab_row6_col1, #T_e48ab_row6_col2 {\n",
       "  background-color: #023858;\n",
       "  color: #f1f1f1;\n",
       "}\n",
       "</style>\n",
       "<table id=\"T_e48ab\">\n",
       "  <thead>\n",
       "    <tr>\n",
       "      <th class=\"blank level0\" >&nbsp;</th>\n",
       "      <th id=\"T_e48ab_level0_col0\" class=\"col_heading level0 col0\" >columns</th>\n",
       "      <th id=\"T_e48ab_level0_col1\" class=\"col_heading level0 col1\" >mean</th>\n",
       "      <th id=\"T_e48ab_level0_col2\" class=\"col_heading level0 col2\" >nan_mean</th>\n",
       "    </tr>\n",
       "  </thead>\n",
       "  <tbody>\n",
       "    <tr>\n",
       "      <th id=\"T_e48ab_level0_row0\" class=\"row_heading level0 row0\" >0</th>\n",
       "      <td id=\"T_e48ab_row0_col0\" class=\"data row0 col0\" >score</td>\n",
       "      <td id=\"T_e48ab_row0_col1\" class=\"data row0 col1\" >843.762901</td>\n",
       "      <td id=\"T_e48ab_row0_col2\" class=\"data row0 col2\" >865.357174</td>\n",
       "    </tr>\n",
       "    <tr>\n",
       "      <th id=\"T_e48ab_level0_row1\" class=\"row_heading level0 row1\" >1</th>\n",
       "      <td id=\"T_e48ab_row1_col0\" class=\"data row1 col0\" >age</td>\n",
       "      <td id=\"T_e48ab_row1_col1\" class=\"data row1 col1\" >42.930586</td>\n",
       "      <td id=\"T_e48ab_row1_col2\" class=\"data row1 col2\" >42.093023</td>\n",
       "    </tr>\n",
       "    <tr>\n",
       "      <th id=\"T_e48ab_level0_row2\" class=\"row_heading level0 row2\" >2</th>\n",
       "      <td id=\"T_e48ab_row2_col0\" class=\"data row2 col0\" >equity</td>\n",
       "      <td id=\"T_e48ab_row2_col1\" class=\"data row2 col1\" >3.395424</td>\n",
       "      <td id=\"T_e48ab_row2_col2\" class=\"data row2 col2\" >0.051338</td>\n",
       "    </tr>\n",
       "    <tr>\n",
       "      <th id=\"T_e48ab_level0_row3\" class=\"row_heading level0 row3\" >3</th>\n",
       "      <td id=\"T_e48ab_row3_col0\" class=\"data row3 col0\" >products</td>\n",
       "      <td id=\"T_e48ab_row3_col1\" class=\"data row3 col1\" >2.081243</td>\n",
       "      <td id=\"T_e48ab_row3_col2\" class=\"data row3 col2\" >1.163229</td>\n",
       "    </tr>\n",
       "    <tr>\n",
       "      <th id=\"T_e48ab_level0_row4\" class=\"row_heading level0 row4\" >4</th>\n",
       "      <td id=\"T_e48ab_row4_col0\" class=\"data row4 col0\" >credit_card</td>\n",
       "      <td id=\"T_e48ab_row4_col1\" class=\"data row4 col1\" >0.640062</td>\n",
       "      <td id=\"T_e48ab_row4_col2\" class=\"data row4 col2\" >0.815270</td>\n",
       "    </tr>\n",
       "    <tr>\n",
       "      <th id=\"T_e48ab_level0_row5\" class=\"row_heading level0 row5\" >5</th>\n",
       "      <td id=\"T_e48ab_row5_col0\" class=\"data row5 col0\" >last_activity</td>\n",
       "      <td id=\"T_e48ab_row5_col1\" class=\"data row5 col1\" >0.515144</td>\n",
       "      <td id=\"T_e48ab_row5_col2\" class=\"data row5 col2\" >0.548925</td>\n",
       "    </tr>\n",
       "    <tr>\n",
       "      <th id=\"T_e48ab_level0_row6\" class=\"row_heading level0 row6\" >6</th>\n",
       "      <td id=\"T_e48ab_row6_col0\" class=\"data row6 col0\" >est_salary</td>\n",
       "      <td id=\"T_e48ab_row6_col1\" class=\"data row6 col1\" >124541.272458</td>\n",
       "      <td id=\"T_e48ab_row6_col2\" class=\"data row6 col2\" >226345.417464</td>\n",
       "    </tr>\n",
       "    <tr>\n",
       "      <th id=\"T_e48ab_level0_row7\" class=\"row_heading level0 row7\" >7</th>\n",
       "      <td id=\"T_e48ab_row7_col0\" class=\"data row7 col0\" >churn</td>\n",
       "      <td id=\"T_e48ab_row7_col1\" class=\"data row7 col1\" >0.234759</td>\n",
       "      <td id=\"T_e48ab_row7_col2\" class=\"data row7 col2\" >0.005704</td>\n",
       "    </tr>\n",
       "  </tbody>\n",
       "</table>\n"
      ],
      "text/plain": [
       "<pandas.io.formats.style.Styler at 0x1e5127cbbb0>"
      ]
     },
     "execution_count": 10,
     "metadata": {},
     "output_type": "execute_result"
    }
   ],
   "source": [
    "# смотрим средние значения столбцов без пропусков и с ними\n",
    "(\n",
    "    positive_balance\n",
    "    .drop(['user_id','balance'], axis=1)\n",
    "    .describe().T[[\"mean\"]].reset_index()\n",
    "    .merge(\n",
    "        nan_balance.describe().T[[\"mean\"]].reset_index(), on=\"index\", how=\"left\"\n",
    "    ).rename(columns={\n",
    "        \"index\": \"columns\",\n",
    "        \"mean_x\": \"mean\",\n",
    "        \"mean_y\": \"nan_mean\"\n",
    "    })\n",
    ").style.background_gradient()"
   ]
  },
  {
   "cell_type": "markdown",
   "id": "2690abdf",
   "metadata": {
    "id": "2690abdf"
   },
   "source": [
    "Теперь перейдем к детальному рассмотрению пропусков в столбце `balance`.\n",
    "\n",
    "Проанализировав данную таблицу можно сделать вывод, что пропуски данных о балансе преимущественно у тех клиентов, у которых из продуктов банка оформлена только кредитная карта, баланс которой не относиться к информации в столбце датафрейма balance, так как в этом столбце записана информация о дебетовых счетах. Такую информацию невозможно заменить и удаления такого количества пропусков сильно исказить дальнейшее исследование, поэтому оставляем пропуски как есть. Еще здесь можно увидеть явную взаимосвязь с equity. У клиентов с пропущенным значением в балансе низкий балл собственности."
   ]
  },
  {
   "cell_type": "markdown",
   "id": "ec3de4a8",
   "metadata": {
    "id": "ec3de4a8"
   },
   "source": [
    "#### 2.3  Корректность типов данных"
   ]
  },
  {
   "cell_type": "markdown",
   "id": "9393e413",
   "metadata": {
    "id": "9393e413"
   },
   "source": [
    "Более детально рассмотрим типы данных во всех столбцах датафрейма и их уникальные значения для последующей корректировки."
   ]
  },
  {
   "cell_type": "code",
   "execution_count": 11,
   "id": "9861105d",
   "metadata": {
    "colab": {
     "base_uri": "https://localhost:8080/"
    },
    "id": "9861105d",
    "outputId": "58c4fb6a-56db-44d3-ccfa-c8d11738a92d"
   },
   "outputs": [
    {
     "name": "stdout",
     "output_type": "stream",
     "text": [
      "\u001b[1m\n",
      "column: user_id\n",
      "type: int64\n",
      "\u001b[0m\n",
      "[ 94561  94590  95384 ... 229130 229136 229145]\n",
      " \n",
      "\u001b[1m\n",
      "column: score\n",
      "type: float64\n",
      "\u001b[0m\n",
      "[ 642.  646.  648.  649.  650.  651.  652.  653.  654.  655.  656.  657.\n",
      "  658.  659.  660.  661.  662.  663.  664.  665.  666.  667.  668.  669.\n",
      "  670.  671.  673.  678.  680.  681.  682.  684.  685.  686.  687.  688.\n",
      "  689.  690.  691.  692.  693.  694.  695.  696.  697.  698.  699.  700.\n",
      "  701.  702.  703.  704.  705.  706.  707.  708.  709.  710.  711.  712.\n",
      "  713.  714.  715.  716.  717.  718.  719.  720.  721.  722.  723.  724.\n",
      "  725.  726.  727.  728.  729.  730.  731.  732.  733.  734.  735.  736.\n",
      "  737.  738.  739.  740.  741.  742.  743.  744.  745.  746.  747.  748.\n",
      "  749.  750.  751.  752.  753.  754.  755.  756.  757.  758.  759.  760.\n",
      "  761.  762.  763.  764.  765.  766.  767.  768.  769.  770.  771.  772.\n",
      "  773.  774.  775.  776.  777.  778.  779.  780.  781.  782.  783.  784.\n",
      "  785.  786.  787.  788.  789.  790.  791.  792.  793.  794.  795.  796.\n",
      "  797.  798.  799.  800.  801.  802.  803.  804.  805.  806.  807.  808.\n",
      "  809.  810.  811.  812.  813.  814.  815.  816.  817.  818.  819.  820.\n",
      "  821.  822.  823.  824.  825.  826.  827.  828.  829.  830.  831.  832.\n",
      "  833.  834.  835.  836.  837.  838.  839.  840.  841.  842.  843.  844.\n",
      "  845.  846.  847.  848.  849.  850.  851.  852.  853.  854.  855.  856.\n",
      "  857.  858.  859.  860.  861.  862.  863.  864.  865.  866.  867.  868.\n",
      "  869.  870.  871.  872.  873.  874.  875.  876.  877.  878.  879.  880.\n",
      "  881.  882.  883.  884.  885.  886.  887.  888.  889.  890.  891.  892.\n",
      "  893.  894.  895.  896.  897.  898.  899.  900.  901.  902.  903.  904.\n",
      "  905.  906.  907.  908.  909.  910.  911.  912.  913.  914.  915.  916.\n",
      "  917.  918.  919.  920.  921.  922.  923.  924.  925.  926.  927.  928.\n",
      "  929.  930.  931.  932.  933.  934.  935.  936.  937.  938.  939.  940.\n",
      "  941.  942.  943.  944.  945.  946.  947.  948.  949.  950.  951.  952.\n",
      "  953.  954.  955.  956.  957.  958.  959.  960.  961.  962.  963.  964.\n",
      "  965.  966.  967.  968.  969.  970.  971.  972.  973.  974.  975.  976.\n",
      "  977.  978.  979.  980.  981.  982.  983.  984.  985.  986.  987.  988.\n",
      "  989.  990.  991.  992.  993.  994.  995.  996.  997.  998.  999. 1000.]\n",
      " \n",
      "\u001b[1m\n",
      "column: city\n",
      "type: object\n",
      "\u001b[0m\n",
      "['Ростов' 'Рыбинск' 'Ярославль']\n",
      " \n",
      "\u001b[1m\n",
      "column: gender\n",
      "type: object\n",
      "\u001b[0m\n",
      "['Ж' 'М']\n",
      " \n",
      "\u001b[1m\n",
      "column: age\n",
      "type: float64\n",
      "\u001b[0m\n",
      "[18. 19. 20. 21. 22. 23. 24. 25. 26. 27. 28. 29. 30. 31. 32. 33. 34. 35.\n",
      " 36. 37. 38. 39. 40. 41. 42. 43. 44. 45. 46. 47. 48. 49. 50. 51. 52. 53.\n",
      " 54. 55. 56. 57. 58. 59. 60. 61. 62. 63. 64. 65. 66. 67. 68. 69. 70. 71.\n",
      " 72. 73. 74. 75. 76. 77. 78. 79. 80. 81. 82. 83. 84. 86.]\n",
      " \n",
      "\u001b[1m\n",
      "column: equity\n",
      "type: int64\n",
      "\u001b[0m\n",
      "[0 1 2 3 4 5 6 7 8 9]\n",
      " \n",
      "\u001b[1m\n",
      "column: balance\n",
      "type: float64\n",
      "\u001b[0m\n",
      "[0.00000000e+00 6.00000000e+00 7.00000000e+00 ... 6.48662101e+07\n",
      " 1.19113552e+08            nan]\n",
      " \n",
      "\u001b[1m\n",
      "column: products\n",
      "type: int64\n",
      "\u001b[0m\n",
      "[0 1 2 3 4 5]\n",
      " \n",
      "\u001b[1m\n",
      "column: credit_card\n",
      "type: int64\n",
      "\u001b[0m\n",
      "[0 1]\n",
      " \n",
      "\u001b[1m\n",
      "column: last_activity\n",
      "type: int64\n",
      "\u001b[0m\n",
      "[0 1]\n",
      " \n",
      "\u001b[1m\n",
      "column: est_salary\n",
      "type: float64\n",
      "\u001b[0m\n",
      "[   2546.3     3487.33    5043.14 ... 1333687.36 1363549.52 1395064.45]\n",
      " \n",
      "\u001b[1m\n",
      "column: churn\n",
      "type: int64\n",
      "\u001b[0m\n",
      "[0 1]\n",
      " \n"
     ]
    }
   ],
   "source": [
    "# выводим информацию о типах данных и уникальные значения столбцов одним блоком\n",
    "for col in data.columns:\n",
    "    print(\n",
    "        font.BOLD,\n",
    "        f'column: {col}',\n",
    "        f'type: {data[col].dtypes}',\n",
    "        font.END,\n",
    "        (data[col].sort_values().unique()),\n",
    "         \" \",\n",
    "        sep=\"\\n\"\n",
    "          )"
   ]
  },
  {
   "cell_type": "markdown",
   "id": "f1198534",
   "metadata": {
    "id": "f1198534"
   },
   "source": [
    "##### 2.3.1 Столбцы с качественными данными"
   ]
  },
  {
   "cell_type": "markdown",
   "id": "5fd5fa71",
   "metadata": {
    "id": "5fd5fa71"
   },
   "source": [
    "**`user_id`**"
   ]
  },
  {
   "cell_type": "code",
   "execution_count": 12,
   "id": "4073a9e1",
   "metadata": {
    "colab": {
     "base_uri": "https://localhost:8080/"
    },
    "id": "4073a9e1",
    "outputId": "1b1f98d3-5e53-4a59-df8b-09ceec24d60d"
   },
   "outputs": [
    {
     "data": {
      "text/plain": [
       "9049    139969\n",
       "7533    153172\n",
       "6307    177929\n",
       "1945    197623\n",
       "3884    138642\n",
       "3845    148440\n",
       "7787    139823\n",
       "6497    141117\n",
       "6046    156812\n",
       "1386    128216\n",
       "Name: user_id, dtype: object"
      ]
     },
     "execution_count": 12,
     "metadata": {},
     "output_type": "execute_result"
    }
   ],
   "source": [
    "# меняем тип данных\n",
    "data['user_id'] = data['user_id'].astype('str')\n",
    "# проверка\n",
    "data['user_id'].sample(10)"
   ]
  },
  {
   "cell_type": "markdown",
   "id": "4f3251a7",
   "metadata": {
    "id": "4f3251a7"
   },
   "source": [
    "**`city`**"
   ]
  },
  {
   "cell_type": "markdown",
   "id": "c81b8b5c",
   "metadata": {
    "id": "c81b8b5c"
   },
   "source": [
    "Для того, чтобы вычислить корреляцию по городам, необходимо привести данную информацию в другой вид. Преобразовываем категориальные переменные в фиктивные, которые представляют собой числовые переменные."
   ]
  },
  {
   "cell_type": "code",
   "execution_count": 13,
   "id": "7c0b8f41",
   "metadata": {
    "colab": {
     "base_uri": "https://localhost:8080/"
    },
    "id": "7c0b8f41",
    "outputId": "dbefc8cf-de5f-4d23-f748-45982f1ed05c"
   },
   "outputs": [
    {
     "name": "stdout",
     "output_type": "stream",
     "text": [
      "['рыбинск' 'ярославль' 'ростов']\n"
     ]
    }
   ],
   "source": [
    "# приводим к нижнему регистру\n",
    "data['city'] = data['city'].str.lower()\n",
    "# проверка\n",
    "print(\n",
    "    data['city'].unique()\n",
    ")"
   ]
  },
  {
   "cell_type": "code",
   "execution_count": 14,
   "id": "ccaf599c",
   "metadata": {
    "colab": {
     "base_uri": "https://localhost:8080/",
     "height": 0
    },
    "id": "ccaf599c",
    "outputId": "f2ed8fe6-b9b3-4c6f-9ef4-f88debe8cf10"
   },
   "outputs": [
    {
     "data": {
      "text/html": [
       "<div>\n",
       "<style scoped>\n",
       "    .dataframe tbody tr th:only-of-type {\n",
       "        vertical-align: middle;\n",
       "    }\n",
       "\n",
       "    .dataframe tbody tr th {\n",
       "        vertical-align: top;\n",
       "    }\n",
       "\n",
       "    .dataframe thead th {\n",
       "        text-align: right;\n",
       "    }\n",
       "</style>\n",
       "<table border=\"1\" class=\"dataframe\">\n",
       "  <thead>\n",
       "    <tr style=\"text-align: right;\">\n",
       "      <th></th>\n",
       "      <th>city_name</th>\n",
       "      <th>city</th>\n",
       "    </tr>\n",
       "  </thead>\n",
       "  <tbody>\n",
       "    <tr>\n",
       "      <th>1296</th>\n",
       "      <td>ярославль</td>\n",
       "      <td>ярославль</td>\n",
       "    </tr>\n",
       "    <tr>\n",
       "      <th>7040</th>\n",
       "      <td>ярославль</td>\n",
       "      <td>ярославль</td>\n",
       "    </tr>\n",
       "    <tr>\n",
       "      <th>4085</th>\n",
       "      <td>ростов</td>\n",
       "      <td>ростов</td>\n",
       "    </tr>\n",
       "    <tr>\n",
       "      <th>9455</th>\n",
       "      <td>рыбинск</td>\n",
       "      <td>рыбинск</td>\n",
       "    </tr>\n",
       "    <tr>\n",
       "      <th>4422</th>\n",
       "      <td>ярославль</td>\n",
       "      <td>ярославль</td>\n",
       "    </tr>\n",
       "  </tbody>\n",
       "</table>\n",
       "</div>"
      ],
      "text/plain": [
       "      city_name       city\n",
       "1296  ярославль  ярославль\n",
       "7040  ярославль  ярославль\n",
       "4085     ростов     ростов\n",
       "9455    рыбинск    рыбинск\n",
       "4422  ярославль  ярославль"
      ]
     },
     "execution_count": 14,
     "metadata": {},
     "output_type": "execute_result"
    }
   ],
   "source": [
    "# копируем инофрмацию столбца\n",
    "data['city_name'] = data['city']\n",
    "# проверка\n",
    "data[['city_name','city']].sample(5)"
   ]
  },
  {
   "cell_type": "code",
   "execution_count": 15,
   "id": "05a38c9d",
   "metadata": {
    "colab": {
     "base_uri": "https://localhost:8080/",
     "height": 0
    },
    "id": "05a38c9d",
    "outputId": "44304391-06c4-450c-a1f4-4dea9ec4dd7b"
   },
   "outputs": [
    {
     "data": {
      "text/html": [
       "<div>\n",
       "<style scoped>\n",
       "    .dataframe tbody tr th:only-of-type {\n",
       "        vertical-align: middle;\n",
       "    }\n",
       "\n",
       "    .dataframe tbody tr th {\n",
       "        vertical-align: top;\n",
       "    }\n",
       "\n",
       "    .dataframe thead th {\n",
       "        text-align: right;\n",
       "    }\n",
       "</style>\n",
       "<table border=\"1\" class=\"dataframe\">\n",
       "  <thead>\n",
       "    <tr style=\"text-align: right;\">\n",
       "      <th></th>\n",
       "      <th>user_id</th>\n",
       "      <th>score</th>\n",
       "      <th>gender</th>\n",
       "      <th>age</th>\n",
       "      <th>equity</th>\n",
       "      <th>balance</th>\n",
       "      <th>products</th>\n",
       "      <th>credit_card</th>\n",
       "      <th>last_activity</th>\n",
       "      <th>est_salary</th>\n",
       "      <th>churn</th>\n",
       "      <th>city_name</th>\n",
       "      <th>rostov</th>\n",
       "      <th>rybinsk</th>\n",
       "      <th>yaroslavl</th>\n",
       "    </tr>\n",
       "  </thead>\n",
       "  <tbody>\n",
       "    <tr>\n",
       "      <th>4578</th>\n",
       "      <td>145240</td>\n",
       "      <td>901.0</td>\n",
       "      <td>Ж</td>\n",
       "      <td>69.0</td>\n",
       "      <td>5</td>\n",
       "      <td>1019223.54</td>\n",
       "      <td>2</td>\n",
       "      <td>1</td>\n",
       "      <td>1</td>\n",
       "      <td>29938.48</td>\n",
       "      <td>0</td>\n",
       "      <td>ярославль</td>\n",
       "      <td>0</td>\n",
       "      <td>0</td>\n",
       "      <td>1</td>\n",
       "    </tr>\n",
       "    <tr>\n",
       "      <th>8255</th>\n",
       "      <td>207737</td>\n",
       "      <td>875.0</td>\n",
       "      <td>М</td>\n",
       "      <td>51.0</td>\n",
       "      <td>4</td>\n",
       "      <td>811944.23</td>\n",
       "      <td>1</td>\n",
       "      <td>1</td>\n",
       "      <td>0</td>\n",
       "      <td>124713.64</td>\n",
       "      <td>0</td>\n",
       "      <td>ярославль</td>\n",
       "      <td>0</td>\n",
       "      <td>0</td>\n",
       "      <td>1</td>\n",
       "    </tr>\n",
       "    <tr>\n",
       "      <th>1866</th>\n",
       "      <td>210435</td>\n",
       "      <td>849.0</td>\n",
       "      <td>Ж</td>\n",
       "      <td>64.0</td>\n",
       "      <td>3</td>\n",
       "      <td>540956.23</td>\n",
       "      <td>2</td>\n",
       "      <td>0</td>\n",
       "      <td>1</td>\n",
       "      <td>57267.59</td>\n",
       "      <td>0</td>\n",
       "      <td>рыбинск</td>\n",
       "      <td>0</td>\n",
       "      <td>1</td>\n",
       "      <td>0</td>\n",
       "    </tr>\n",
       "    <tr>\n",
       "      <th>1841</th>\n",
       "      <td>146130</td>\n",
       "      <td>867.0</td>\n",
       "      <td>Ж</td>\n",
       "      <td>25.0</td>\n",
       "      <td>4</td>\n",
       "      <td>275460.26</td>\n",
       "      <td>3</td>\n",
       "      <td>1</td>\n",
       "      <td>0</td>\n",
       "      <td>20524.48</td>\n",
       "      <td>0</td>\n",
       "      <td>рыбинск</td>\n",
       "      <td>0</td>\n",
       "      <td>1</td>\n",
       "      <td>0</td>\n",
       "    </tr>\n",
       "    <tr>\n",
       "      <th>7391</th>\n",
       "      <td>174761</td>\n",
       "      <td>845.0</td>\n",
       "      <td>Ж</td>\n",
       "      <td>49.0</td>\n",
       "      <td>2</td>\n",
       "      <td>344115.23</td>\n",
       "      <td>2</td>\n",
       "      <td>1</td>\n",
       "      <td>0</td>\n",
       "      <td>68492.82</td>\n",
       "      <td>1</td>\n",
       "      <td>ростов</td>\n",
       "      <td>1</td>\n",
       "      <td>0</td>\n",
       "      <td>0</td>\n",
       "    </tr>\n",
       "    <tr>\n",
       "      <th>8347</th>\n",
       "      <td>141957</td>\n",
       "      <td>845.0</td>\n",
       "      <td>Ж</td>\n",
       "      <td>59.0</td>\n",
       "      <td>3</td>\n",
       "      <td>365016.98</td>\n",
       "      <td>1</td>\n",
       "      <td>1</td>\n",
       "      <td>0</td>\n",
       "      <td>63988.04</td>\n",
       "      <td>0</td>\n",
       "      <td>ростов</td>\n",
       "      <td>1</td>\n",
       "      <td>0</td>\n",
       "      <td>0</td>\n",
       "    </tr>\n",
       "    <tr>\n",
       "      <th>8779</th>\n",
       "      <td>145608</td>\n",
       "      <td>977.0</td>\n",
       "      <td>М</td>\n",
       "      <td>55.0</td>\n",
       "      <td>3</td>\n",
       "      <td>447928.61</td>\n",
       "      <td>3</td>\n",
       "      <td>1</td>\n",
       "      <td>1</td>\n",
       "      <td>48742.27</td>\n",
       "      <td>1</td>\n",
       "      <td>ярославль</td>\n",
       "      <td>0</td>\n",
       "      <td>0</td>\n",
       "      <td>1</td>\n",
       "    </tr>\n",
       "    <tr>\n",
       "      <th>6287</th>\n",
       "      <td>134421</td>\n",
       "      <td>867.0</td>\n",
       "      <td>Ж</td>\n",
       "      <td>40.0</td>\n",
       "      <td>4</td>\n",
       "      <td>529807.66</td>\n",
       "      <td>2</td>\n",
       "      <td>0</td>\n",
       "      <td>0</td>\n",
       "      <td>190659.14</td>\n",
       "      <td>0</td>\n",
       "      <td>рыбинск</td>\n",
       "      <td>0</td>\n",
       "      <td>1</td>\n",
       "      <td>0</td>\n",
       "    </tr>\n",
       "    <tr>\n",
       "      <th>2539</th>\n",
       "      <td>184349</td>\n",
       "      <td>889.0</td>\n",
       "      <td>М</td>\n",
       "      <td>34.0</td>\n",
       "      <td>0</td>\n",
       "      <td>NaN</td>\n",
       "      <td>1</td>\n",
       "      <td>1</td>\n",
       "      <td>1</td>\n",
       "      <td>276308.50</td>\n",
       "      <td>0</td>\n",
       "      <td>ярославль</td>\n",
       "      <td>0</td>\n",
       "      <td>0</td>\n",
       "      <td>1</td>\n",
       "    </tr>\n",
       "    <tr>\n",
       "      <th>1895</th>\n",
       "      <td>116362</td>\n",
       "      <td>787.0</td>\n",
       "      <td>М</td>\n",
       "      <td>65.0</td>\n",
       "      <td>1</td>\n",
       "      <td>350938.89</td>\n",
       "      <td>2</td>\n",
       "      <td>1</td>\n",
       "      <td>1</td>\n",
       "      <td>37929.75</td>\n",
       "      <td>0</td>\n",
       "      <td>ярославль</td>\n",
       "      <td>0</td>\n",
       "      <td>0</td>\n",
       "      <td>1</td>\n",
       "    </tr>\n",
       "  </tbody>\n",
       "</table>\n",
       "</div>"
      ],
      "text/plain": [
       "     user_id  score gender   age  equity     balance  products  credit_card  \\\n",
       "4578  145240  901.0      Ж  69.0       5  1019223.54         2            1   \n",
       "8255  207737  875.0      М  51.0       4   811944.23         1            1   \n",
       "1866  210435  849.0      Ж  64.0       3   540956.23         2            0   \n",
       "1841  146130  867.0      Ж  25.0       4   275460.26         3            1   \n",
       "7391  174761  845.0      Ж  49.0       2   344115.23         2            1   \n",
       "8347  141957  845.0      Ж  59.0       3   365016.98         1            1   \n",
       "8779  145608  977.0      М  55.0       3   447928.61         3            1   \n",
       "6287  134421  867.0      Ж  40.0       4   529807.66         2            0   \n",
       "2539  184349  889.0      М  34.0       0         NaN         1            1   \n",
       "1895  116362  787.0      М  65.0       1   350938.89         2            1   \n",
       "\n",
       "      last_activity  est_salary  churn  city_name  rostov  rybinsk  yaroslavl  \n",
       "4578              1    29938.48      0  ярославль       0        0          1  \n",
       "8255              0   124713.64      0  ярославль       0        0          1  \n",
       "1866              1    57267.59      0    рыбинск       0        1          0  \n",
       "1841              0    20524.48      0    рыбинск       0        1          0  \n",
       "7391              0    68492.82      1     ростов       1        0          0  \n",
       "8347              0    63988.04      0     ростов       1        0          0  \n",
       "8779              1    48742.27      1  ярославль       0        0          1  \n",
       "6287              0   190659.14      0    рыбинск       0        1          0  \n",
       "2539              1   276308.50      0  ярославль       0        0          1  \n",
       "1895              1    37929.75      0  ярославль       0        0          1  "
      ]
     },
     "execution_count": 15,
     "metadata": {},
     "output_type": "execute_result"
    }
   ],
   "source": [
    "# создаём столцы с признаками по городам\n",
    "data = pd.get_dummies(data, columns=['city'])\n",
    "# переименовываем столбцы\n",
    "data = (\n",
    "    data\n",
    "    .rename(columns = {\n",
    "        'city_ростов':'rostov',\n",
    "        'city_рыбинск':'rybinsk',\n",
    "        'city_ярославль':'yaroslavl'\n",
    "    })\n",
    ")\n",
    "# проверка\n",
    "data.sample(10)"
   ]
  },
  {
   "cell_type": "markdown",
   "id": "73f04f1a",
   "metadata": {
    "id": "73f04f1a"
   },
   "source": [
    "**`gender`**"
   ]
  },
  {
   "cell_type": "markdown",
   "id": "c9e1d8f7",
   "metadata": {
    "id": "c9e1d8f7"
   },
   "source": [
    "Для последующих вычислений преобразуем значения в двоичные 1 и 0, где цифрой 1 будут обозначены мужчины, а цифрой 0 - женщины."
   ]
  },
  {
   "cell_type": "code",
   "execution_count": 16,
   "id": "cff685c8",
   "metadata": {
    "colab": {
     "base_uri": "https://localhost:8080/"
    },
    "id": "cff685c8",
    "outputId": "d58311b0-4f3d-4849-b260-32b91d0d548c"
   },
   "outputs": [
    {
     "name": "stdout",
     "output_type": "stream",
     "text": [
      "[0 1]\n",
      "int32\n"
     ]
    }
   ],
   "source": [
    "# перезаписываем значения в двоичные\n",
    "data['gender'] = data['gender'].str.replace('Ж', '0').str.replace('М', '1').astype('int')\n",
    "# проверка\n",
    "print(\n",
    "    data['gender'].unique(),\n",
    "    data['gender'].dtypes,\n",
    "    sep='\\n'\n",
    ")"
   ]
  },
  {
   "cell_type": "markdown",
   "id": "a1a6f8d7",
   "metadata": {
    "id": "a1a6f8d7"
   },
   "source": [
    "**`products`**"
   ]
  },
  {
   "cell_type": "code",
   "execution_count": 17,
   "id": "caaed004",
   "metadata": {
    "colab": {
     "base_uri": "https://localhost:8080/"
    },
    "id": "caaed004",
    "outputId": "6a641b3c-6009-477c-850a-316ae72be276"
   },
   "outputs": [
    {
     "name": "stdout",
     "output_type": "stream",
     "text": [
      "[0 1 2 3 4 5]\n"
     ]
    }
   ],
   "source": [
    "# ещё раз проверим уникальные значения\n",
    "print(data['products'].sort_values().unique())"
   ]
  },
  {
   "cell_type": "code",
   "execution_count": 18,
   "id": "9d377ce7",
   "metadata": {
    "colab": {
     "base_uri": "https://localhost:8080/"
    },
    "id": "9d377ce7",
    "outputId": "213cfb5e-53ee-41ac-d9f7-2c144ff90f28"
   },
   "outputs": [
    {
     "data": {
      "text/plain": [
       "2    5119\n",
       "1    3323\n",
       "3    1038\n",
       "4     474\n",
       "5      19\n",
       "0       1\n",
       "Name: products, dtype: int64"
      ]
     },
     "execution_count": 18,
     "metadata": {},
     "output_type": "execute_result"
    }
   ],
   "source": [
    "# рассмотрим распределения клиентов по количеству продуктов\n",
    "data['products'].value_counts()"
   ]
  },
  {
   "cell_type": "markdown",
   "id": "30729be5",
   "metadata": {
    "id": "30729be5"
   },
   "source": [
    "При рассмотрении распределения был обнаружен один клиент с нулевым количеством продуктов. В нашем случае мы проводим анализ по клиентам банка, а человек без единого оформленного продукта таковым не является, поэтому его стоит удалить из датафрейма."
   ]
  },
  {
   "cell_type": "code",
   "execution_count": 19,
   "id": "ee52cb53",
   "metadata": {
    "colab": {
     "base_uri": "https://localhost:8080/"
    },
    "id": "ee52cb53",
    "outputId": "9edecce2-933e-4a25-966b-9cf56c69c3f7"
   },
   "outputs": [
    {
     "data": {
      "text/plain": [
       "Int64Index([8957], dtype='int64')"
      ]
     },
     "execution_count": 19,
     "metadata": {},
     "output_type": "execute_result"
    }
   ],
   "source": [
    "# находим индекс клиента без продуктов\n",
    "data.query('products == 0').index"
   ]
  },
  {
   "cell_type": "code",
   "execution_count": 20,
   "id": "e5bde04c",
   "metadata": {
    "colab": {
     "base_uri": "https://localhost:8080/"
    },
    "id": "e5bde04c",
    "outputId": "fdd00d75-add7-4331-ddb2-acc4e6697015"
   },
   "outputs": [
    {
     "name": "stdout",
     "output_type": "stream",
     "text": [
      "[1 2 3 4 5]\n"
     ]
    }
   ],
   "source": [
    "# удалаяем данного клиента\n",
    "data = data.drop([8957])\n",
    "# проверка\n",
    "print(data['products'].sort_values().unique())"
   ]
  },
  {
   "cell_type": "markdown",
   "id": "8172939f",
   "metadata": {
    "id": "8172939f"
   },
   "source": [
    "##### 2.3.2 Столбцы с количественными данными"
   ]
  },
  {
   "cell_type": "markdown",
   "id": "ccfd382e",
   "metadata": {
    "id": "ccfd382e"
   },
   "source": [
    "**`score`**"
   ]
  },
  {
   "cell_type": "code",
   "execution_count": 21,
   "id": "7e86d184",
   "metadata": {
    "colab": {
     "base_uri": "https://localhost:8080/"
    },
    "id": "7e86d184",
    "outputId": "1e06d359-e8e1-4941-a45f-884721d0cbfa"
   },
   "outputs": [
    {
     "data": {
      "text/plain": [
       "1665    907\n",
       "7374    913\n",
       "45      826\n",
       "3624    722\n",
       "9915    782\n",
       "6346    762\n",
       "8612    801\n",
       "2799    908\n",
       "8955    824\n",
       "6049    856\n",
       "Name: score, dtype: int32"
      ]
     },
     "execution_count": 21,
     "metadata": {},
     "output_type": "execute_result"
    }
   ],
   "source": [
    "# изменяем тип данных\n",
    "data['score'] = data['score'].astype('int')\n",
    "# проверка\n",
    "data['score'].sample(10)"
   ]
  },
  {
   "cell_type": "code",
   "execution_count": 22,
   "id": "e7646d09",
   "metadata": {
    "colab": {
     "base_uri": "https://localhost:8080/"
    },
    "id": "e7646d09",
    "outputId": "3a10f28f-79f1-4c9c-a3b0-ffbd7249c33b"
   },
   "outputs": [
    {
     "data": {
      "text/plain": [
       "min     642.0\n",
       "max    1000.0\n",
       "Name: score, dtype: float64"
      ]
     },
     "execution_count": 22,
     "metadata": {},
     "output_type": "execute_result"
    }
   ],
   "source": [
    "# находим минимальное и максимальное значения\n",
    "data['score'].describe()[['min','max']]"
   ]
  },
  {
   "cell_type": "markdown",
   "id": "ee1711d0",
   "metadata": {
    "id": "ee1711d0"
   },
   "source": [
    "**`age`**"
   ]
  },
  {
   "cell_type": "code",
   "execution_count": 23,
   "id": "30a9ef53",
   "metadata": {
    "colab": {
     "base_uri": "https://localhost:8080/"
    },
    "id": "30a9ef53",
    "outputId": "8477b45b-e9f4-4925-b5c0-d83f98393cac"
   },
   "outputs": [
    {
     "data": {
      "text/plain": [
       "3062    65\n",
       "1191    52\n",
       "6396    36\n",
       "8185    48\n",
       "7814    42\n",
       "5317    63\n",
       "7498    32\n",
       "4923    59\n",
       "6794    33\n",
       "6226    63\n",
       "Name: age, dtype: int32"
      ]
     },
     "execution_count": 23,
     "metadata": {},
     "output_type": "execute_result"
    }
   ],
   "source": [
    "# изменяем тип данных\n",
    "data['age'] = data['age'].astype('int')\n",
    "# проверка\n",
    "data['age'].sample(10)"
   ]
  },
  {
   "cell_type": "code",
   "execution_count": 24,
   "id": "88cffa77",
   "metadata": {
    "colab": {
     "base_uri": "https://localhost:8080/"
    },
    "id": "88cffa77",
    "outputId": "3dc642c1-0a3e-4d04-b369-8730476a513a"
   },
   "outputs": [
    {
     "data": {
      "text/plain": [
       "min    18.0\n",
       "max    86.0\n",
       "Name: age, dtype: float64"
      ]
     },
     "execution_count": 24,
     "metadata": {},
     "output_type": "execute_result"
    }
   ],
   "source": [
    "# находим минимальное и максимальное значения\n",
    "data['age'].describe()[['min','max']]"
   ]
  },
  {
   "cell_type": "markdown",
   "id": "95d2f976",
   "metadata": {
    "id": "95d2f976"
   },
   "source": [
    "#### 2.4 Обработка дубликатов"
   ]
  },
  {
   "cell_type": "code",
   "execution_count": 25,
   "id": "fd993197",
   "metadata": {
    "colab": {
     "base_uri": "https://localhost:8080/"
    },
    "id": "fd993197",
    "outputId": "deec617f-a6e9-4681-e5be-1a8bf0133f84"
   },
   "outputs": [
    {
     "name": "stdout",
     "output_type": "stream",
     "text": [
      "Количество явных дубликатов в датафрейме: 0\n",
      "Количество дубликатов по столбцу user_id: 50\n",
      "Количество дубликатов по столбцу balance: 2281\n",
      "Количество дубликатов по столбцу id и balance: 0\n",
      "Количество дубликатов по столбцу est_salary и balance: 0\n"
     ]
    }
   ],
   "source": [
    "# посчитаем количество явных дубликатов и дубликатов по определенным столбцам\n",
    "print(\n",
    "    f'Количество явных дубликатов в датафрейме: {data.duplicated().sum()}',\n",
    "    f'Количество дубликатов по столбцу user_id: {data[\"user_id\"].duplicated().sum()}',\n",
    "    f'Количество дубликатов по столбцу balance: {data[\"balance\"].duplicated().sum()}',\n",
    "    f'Количество дубликатов по столбцу id и balance: {data[[\"user_id\", \"balance\"]].duplicated().sum()}',\n",
    "    f'Количество дубликатов по столбцу est_salary и balance: {data[[\"est_salary\", \"balance\"]].duplicated().sum()}',\n",
    "    sep='\\n'\n",
    "    )"
   ]
  },
  {
   "cell_type": "code",
   "execution_count": 26,
   "id": "c0130bac",
   "metadata": {
    "colab": {
     "base_uri": "https://localhost:8080/",
     "height": 0
    },
    "id": "c0130bac",
    "outputId": "f250dd76-9f1c-42d9-df00-2cfb3f9a9859"
   },
   "outputs": [
    {
     "data": {
      "text/html": [
       "<div>\n",
       "<style scoped>\n",
       "    .dataframe tbody tr th:only-of-type {\n",
       "        vertical-align: middle;\n",
       "    }\n",
       "\n",
       "    .dataframe tbody tr th {\n",
       "        vertical-align: top;\n",
       "    }\n",
       "\n",
       "    .dataframe thead th {\n",
       "        text-align: right;\n",
       "    }\n",
       "</style>\n",
       "<table border=\"1\" class=\"dataframe\">\n",
       "  <thead>\n",
       "    <tr style=\"text-align: right;\">\n",
       "      <th></th>\n",
       "      <th>user_id</th>\n",
       "      <th>score</th>\n",
       "      <th>gender</th>\n",
       "      <th>age</th>\n",
       "      <th>equity</th>\n",
       "      <th>balance</th>\n",
       "      <th>products</th>\n",
       "      <th>credit_card</th>\n",
       "      <th>last_activity</th>\n",
       "      <th>est_salary</th>\n",
       "      <th>churn</th>\n",
       "      <th>city_name</th>\n",
       "      <th>rostov</th>\n",
       "      <th>rybinsk</th>\n",
       "      <th>yaroslavl</th>\n",
       "    </tr>\n",
       "  </thead>\n",
       "  <tbody>\n",
       "    <tr>\n",
       "      <th>8497</th>\n",
       "      <td>227795</td>\n",
       "      <td>839</td>\n",
       "      <td>1</td>\n",
       "      <td>34</td>\n",
       "      <td>2</td>\n",
       "      <td>326593.14</td>\n",
       "      <td>2</td>\n",
       "      <td>1</td>\n",
       "      <td>0</td>\n",
       "      <td>103314.92</td>\n",
       "      <td>0</td>\n",
       "      <td>ярославль</td>\n",
       "      <td>0</td>\n",
       "      <td>0</td>\n",
       "      <td>1</td>\n",
       "    </tr>\n",
       "    <tr>\n",
       "      <th>8205</th>\n",
       "      <td>227795</td>\n",
       "      <td>840</td>\n",
       "      <td>1</td>\n",
       "      <td>34</td>\n",
       "      <td>2</td>\n",
       "      <td>350768.03</td>\n",
       "      <td>1</td>\n",
       "      <td>1</td>\n",
       "      <td>0</td>\n",
       "      <td>102036.14</td>\n",
       "      <td>1</td>\n",
       "      <td>рыбинск</td>\n",
       "      <td>0</td>\n",
       "      <td>1</td>\n",
       "      <td>0</td>\n",
       "    </tr>\n",
       "    <tr>\n",
       "      <th>4216</th>\n",
       "      <td>226719</td>\n",
       "      <td>903</td>\n",
       "      <td>0</td>\n",
       "      <td>63</td>\n",
       "      <td>0</td>\n",
       "      <td>NaN</td>\n",
       "      <td>1</td>\n",
       "      <td>1</td>\n",
       "      <td>0</td>\n",
       "      <td>138582.58</td>\n",
       "      <td>0</td>\n",
       "      <td>рыбинск</td>\n",
       "      <td>0</td>\n",
       "      <td>1</td>\n",
       "      <td>0</td>\n",
       "    </tr>\n",
       "    <tr>\n",
       "      <th>2597</th>\n",
       "      <td>226719</td>\n",
       "      <td>990</td>\n",
       "      <td>1</td>\n",
       "      <td>37</td>\n",
       "      <td>4</td>\n",
       "      <td>14648692.14</td>\n",
       "      <td>2</td>\n",
       "      <td>0</td>\n",
       "      <td>0</td>\n",
       "      <td>934412.61</td>\n",
       "      <td>1</td>\n",
       "      <td>ярославль</td>\n",
       "      <td>0</td>\n",
       "      <td>0</td>\n",
       "      <td>1</td>\n",
       "    </tr>\n",
       "    <tr>\n",
       "      <th>2302</th>\n",
       "      <td>220816</td>\n",
       "      <td>934</td>\n",
       "      <td>0</td>\n",
       "      <td>74</td>\n",
       "      <td>5</td>\n",
       "      <td>1294285.39</td>\n",
       "      <td>3</td>\n",
       "      <td>1</td>\n",
       "      <td>0</td>\n",
       "      <td>95606.80</td>\n",
       "      <td>0</td>\n",
       "      <td>рыбинск</td>\n",
       "      <td>0</td>\n",
       "      <td>1</td>\n",
       "      <td>0</td>\n",
       "    </tr>\n",
       "    <tr>\n",
       "      <th>1740</th>\n",
       "      <td>220816</td>\n",
       "      <td>840</td>\n",
       "      <td>0</td>\n",
       "      <td>41</td>\n",
       "      <td>3</td>\n",
       "      <td>1193287.13</td>\n",
       "      <td>2</td>\n",
       "      <td>1</td>\n",
       "      <td>1</td>\n",
       "      <td>76434.94</td>\n",
       "      <td>1</td>\n",
       "      <td>ярославль</td>\n",
       "      <td>0</td>\n",
       "      <td>0</td>\n",
       "      <td>1</td>\n",
       "    </tr>\n",
       "    <tr>\n",
       "      <th>9406</th>\n",
       "      <td>217826</td>\n",
       "      <td>790</td>\n",
       "      <td>0</td>\n",
       "      <td>46</td>\n",
       "      <td>4</td>\n",
       "      <td>430414.80</td>\n",
       "      <td>2</td>\n",
       "      <td>1</td>\n",
       "      <td>1</td>\n",
       "      <td>49400.37</td>\n",
       "      <td>0</td>\n",
       "      <td>рыбинск</td>\n",
       "      <td>0</td>\n",
       "      <td>1</td>\n",
       "      <td>0</td>\n",
       "    </tr>\n",
       "    <tr>\n",
       "      <th>4623</th>\n",
       "      <td>217826</td>\n",
       "      <td>842</td>\n",
       "      <td>1</td>\n",
       "      <td>39</td>\n",
       "      <td>4</td>\n",
       "      <td>439747.65</td>\n",
       "      <td>2</td>\n",
       "      <td>0</td>\n",
       "      <td>1</td>\n",
       "      <td>116736.75</td>\n",
       "      <td>1</td>\n",
       "      <td>ярославль</td>\n",
       "      <td>0</td>\n",
       "      <td>0</td>\n",
       "      <td>1</td>\n",
       "    </tr>\n",
       "    <tr>\n",
       "      <th>1970</th>\n",
       "      <td>217643</td>\n",
       "      <td>845</td>\n",
       "      <td>1</td>\n",
       "      <td>29</td>\n",
       "      <td>5</td>\n",
       "      <td>733098.45</td>\n",
       "      <td>4</td>\n",
       "      <td>1</td>\n",
       "      <td>1</td>\n",
       "      <td>41443.01</td>\n",
       "      <td>1</td>\n",
       "      <td>ярославль</td>\n",
       "      <td>0</td>\n",
       "      <td>0</td>\n",
       "      <td>1</td>\n",
       "    </tr>\n",
       "    <tr>\n",
       "      <th>4186</th>\n",
       "      <td>217643</td>\n",
       "      <td>804</td>\n",
       "      <td>0</td>\n",
       "      <td>40</td>\n",
       "      <td>2</td>\n",
       "      <td>301836.65</td>\n",
       "      <td>2</td>\n",
       "      <td>1</td>\n",
       "      <td>1</td>\n",
       "      <td>81137.22</td>\n",
       "      <td>0</td>\n",
       "      <td>рыбинск</td>\n",
       "      <td>0</td>\n",
       "      <td>1</td>\n",
       "      <td>0</td>\n",
       "    </tr>\n",
       "  </tbody>\n",
       "</table>\n",
       "</div>"
      ],
      "text/plain": [
       "     user_id  score  gender  age  equity      balance  products  credit_card  \\\n",
       "8497  227795    839       1   34       2    326593.14         2            1   \n",
       "8205  227795    840       1   34       2    350768.03         1            1   \n",
       "4216  226719    903       0   63       0          NaN         1            1   \n",
       "2597  226719    990       1   37       4  14648692.14         2            0   \n",
       "2302  220816    934       0   74       5   1294285.39         3            1   \n",
       "1740  220816    840       0   41       3   1193287.13         2            1   \n",
       "9406  217826    790       0   46       4    430414.80         2            1   \n",
       "4623  217826    842       1   39       4    439747.65         2            0   \n",
       "1970  217643    845       1   29       5    733098.45         4            1   \n",
       "4186  217643    804       0   40       2    301836.65         2            1   \n",
       "\n",
       "      last_activity  est_salary  churn  city_name  rostov  rybinsk  yaroslavl  \n",
       "8497              0   103314.92      0  ярославль       0        0          1  \n",
       "8205              0   102036.14      1    рыбинск       0        1          0  \n",
       "4216              0   138582.58      0    рыбинск       0        1          0  \n",
       "2597              0   934412.61      1  ярославль       0        0          1  \n",
       "2302              0    95606.80      0    рыбинск       0        1          0  \n",
       "1740              1    76434.94      1  ярославль       0        0          1  \n",
       "9406              1    49400.37      0    рыбинск       0        1          0  \n",
       "4623              1   116736.75      1  ярославль       0        0          1  \n",
       "1970              1    41443.01      1  ярославль       0        0          1  \n",
       "4186              1    81137.22      0    рыбинск       0        1          0  "
      ]
     },
     "metadata": {},
     "output_type": "display_data"
    },
    {
     "data": {
      "text/plain": [
       "'Размеры датафрейма: 50'"
      ]
     },
     "metadata": {},
     "output_type": "display_data"
    }
   ],
   "source": [
    "# выводим информацию дубликатов по user_id\n",
    "display(\n",
    "    data[data['user_id']\n",
    "         .duplicated(keep=False)]\n",
    "         .sort_values(by='user_id', ascending=False)\n",
    "         .head(10),\n",
    "    f'Размеры датафрейма: {data[\"user_id\"].duplicated().sum()}'\n",
    ")"
   ]
  },
  {
   "cell_type": "markdown",
   "id": "8c852827",
   "metadata": {
    "id": "8c852827"
   },
   "source": [
    "В получившиеся таблице мы видим дублирование строк по id, но остальная информация по клиентам значительно отличается. Причины такого дублирования определить сложно. Это может быть некорректная выгрузка с одного источника данных или выгрузка данных из нескольких разных источников. Такие дубликаты следует удалить."
   ]
  },
  {
   "cell_type": "code",
   "execution_count": 27,
   "id": "34f9735b",
   "metadata": {
    "colab": {
     "base_uri": "https://localhost:8080/"
    },
    "id": "34f9735b",
    "outputId": "aa3c6a5f-e7e6-4c15-a4b6-80747aaee0a8"
   },
   "outputs": [
    {
     "data": {
      "text/plain": [
       "0"
      ]
     },
     "execution_count": 27,
     "metadata": {},
     "output_type": "execute_result"
    }
   ],
   "source": [
    "# удаляем дубликаты по id\n",
    "data = data.drop_duplicates(subset='user_id')\n",
    "# проверка\n",
    "data[\"user_id\"].duplicated().sum()"
   ]
  },
  {
   "cell_type": "markdown",
   "id": "45c84629",
   "metadata": {
    "id": "45c84629"
   },
   "source": [
    "#### 2.5 Распределения и категоризация"
   ]
  },
  {
   "cell_type": "markdown",
   "id": "45522516",
   "metadata": {
    "id": "45522516"
   },
   "source": [
    "##### 2.5.1 Распределения"
   ]
  },
  {
   "cell_type": "markdown",
   "id": "a494ca2a",
   "metadata": {
    "id": "a494ca2a"
   },
   "source": [
    "В датафрейме присутствуют дискретные и непрерывные данные, распределения которых необходимо рассмотреть отдельно. В этом нам помогут гистограммы. Для начала построим гистограммы по дискретным данным."
   ]
  },
  {
   "cell_type": "code",
   "execution_count": 28,
   "id": "a9c04331",
   "metadata": {
    "colab": {
     "base_uri": "https://localhost:8080/",
     "height": 0
    },
    "id": "a9c04331",
    "outputId": "bfdd2b5c-ed5c-4e90-bb66-a88909c7d98c"
   },
   "outputs": [
    {
     "data": {
      "image/png": "[encoded data removed]",
      "text/plain": [
       "<Figure size 1080x864 with 9 Axes>"
      ]
     },
     "metadata": {},
     "output_type": "display_data"
    }
   ],
   "source": [
    "# список столбцов по которым строим распределения\n",
    "qual = ['city_name', 'gender', 'age', 'equity','products','score','credit_card', 'last_activity', 'churn',]\n",
    "\n",
    "# цикл строит блок графиков\n",
    "for i in range(len(qual)):\n",
    "    plt.subplot(3,3,i+1)\n",
    "    # конструкция if-else настройки корзин по количеству уникальных значений\n",
    "    if data[qual[i]].nunique() <= 3:\n",
    "        data[qual[i]].hist(\n",
    "            bins=3,\n",
    "            rwidth=.97,\n",
    "            figsize=(15,12),\n",
    "            color=color\n",
    "          )\n",
    "    else:\n",
    "        data[qual[i]].hist(\n",
    "            rwidth=.97,\n",
    "            figsize=(15,10),\n",
    "            color=color\n",
    "          )\n",
    "    plt.title(qual[i])\n",
    "plt.show()"
   ]
  },
  {
   "cell_type": "markdown",
   "id": "51c5d4c5",
   "metadata": {
    "id": "51c5d4c5"
   },
   "source": [
    "Проанализировав распределения можно сделать следующие выводы:\n",
    "•\tБольше всего клиентов в Ярославле, меньше всего в Ростове.\n",
    "•\tМужчины и женщины распределены одинаково.\n",
    "•\tБольше всего клиентов среднего возраста - 30–40 лет. Чем старше клиенты, тем меньше их количество.\n",
    "•\tБаллы собственности чаще всего 0, далее идут по нарастающей до 6.\n",
    "•\tУ большинства клиентов 2 продукта, немного реже 1.\n",
    "•\tУ большинства клиентов кредитный рейтинг составляет 800–900 баллов.\n",
    "•\tЧаще всего у клиентов есть кредитная карта.\n",
    "•\tПоследняя активность немного больше, чем без активности.\n",
    "•\tОколо 18% клиентов ушло.\n",
    "Далее построим гистограммы по непрерывным данным.\n"
   ]
  },
  {
   "cell_type": "code",
   "execution_count": 29,
   "id": "a8361d76",
   "metadata": {
    "colab": {
     "base_uri": "https://localhost:8080/",
     "height": 0
    },
    "id": "a8361d76",
    "outputId": "567033ad-466f-4590-a194-b12f0a9bee9c"
   },
   "outputs": [
    {
     "data": {
      "text/html": [
       "<div>\n",
       "<style scoped>\n",
       "    .dataframe tbody tr th:only-of-type {\n",
       "        vertical-align: middle;\n",
       "    }\n",
       "\n",
       "    .dataframe tbody tr th {\n",
       "        vertical-align: top;\n",
       "    }\n",
       "\n",
       "    .dataframe thead th {\n",
       "        text-align: right;\n",
       "    }\n",
       "</style>\n",
       "<table border=\"1\" class=\"dataframe\">\n",
       "  <thead>\n",
       "    <tr style=\"text-align: right;\">\n",
       "      <th></th>\n",
       "      <th>min</th>\n",
       "      <th>max</th>\n",
       "      <th>50%</th>\n",
       "      <th>mean</th>\n",
       "      <th>std</th>\n",
       "    </tr>\n",
       "  </thead>\n",
       "  <tbody>\n",
       "    <tr>\n",
       "      <th>balance</th>\n",
       "      <td>0.0</td>\n",
       "      <td>1.191136e+08</td>\n",
       "      <td>524927.74</td>\n",
       "      <td>828206.27</td>\n",
       "      <td>1984121.61</td>\n",
       "    </tr>\n",
       "    <tr>\n",
       "      <th>est_salary</th>\n",
       "      <td>2546.3</td>\n",
       "      <td>1.395064e+06</td>\n",
       "      <td>119719.33</td>\n",
       "      <td>147892.55</td>\n",
       "      <td>139359.86</td>\n",
       "    </tr>\n",
       "  </tbody>\n",
       "</table>\n",
       "</div>"
      ],
      "text/plain": [
       "               min           max        50%       mean         std\n",
       "balance        0.0  1.191136e+08  524927.74  828206.27  1984121.61\n",
       "est_salary  2546.3  1.395064e+06  119719.33  147892.55   139359.86"
      ]
     },
     "metadata": {},
     "output_type": "display_data"
    },
    {
     "data": {
      "image/png": "[encoded data removed]",
      "text/plain": [
       "<Figure size 1080x216 with 1 Axes>"
      ]
     },
     "metadata": {},
     "output_type": "display_data"
    },
    {
     "data": {
      "image/png": "[encoded data removed]",
      "text/plain": [
       "<Figure size 1080x216 with 1 Axes>"
      ]
     },
     "metadata": {},
     "output_type": "display_data"
    }
   ],
   "source": [
    "# список столбцов с непрерывными значениями по которым строим расрпделения\n",
    "quan = ['balance','est_salary']\n",
    "# создаём таблицу с описанием данных\n",
    "display(\n",
    "    round(data[quan]\n",
    "          .describe()\n",
    "          .T[[\n",
    "              'min', # мин. значение\n",
    "              'max', # макс. значение\n",
    "              '50%', # медиана\n",
    "              'mean', # среднее\n",
    "              'std' # стандартное отклонение\n",
    "              ]], 2\n",
    "          )\n",
    "    )\n",
    "# первый график\n",
    "plt.figure(figsize=(15, 3))\n",
    "data[quan].boxplot()\n",
    "# второй график (срез данных)\n",
    "plt.figure(figsize=(15, 3))\n",
    "data[quan].boxplot()\n",
    "plt.title(\"Срез\", size=17)\n",
    "plt.ylim(0,2100000)\n",
    "plt.show()"
   ]
  },
  {
   "cell_type": "markdown",
   "id": "cdac75e1",
   "metadata": {
    "id": "cdac75e1"
   },
   "source": [
    "На диаграммах размаха мы видим распределения по столбцам с непрерывными значениями. В столбце с информацией о предположительной зарплате клиентов присутствуют немало выбросов, но в столбце с информацией о балансе присутствуют сильные выбросы, которые значительно увеличивают размах значений."
   ]
  },
  {
   "cell_type": "markdown",
   "id": "b5a0f0e2",
   "metadata": {
    "id": "b5a0f0e2"
   },
   "source": [
    "##### 2.5.2 Категоризация"
   ]
  },
  {
   "cell_type": "markdown",
   "id": "444f8ac9",
   "metadata": {
    "id": "444f8ac9"
   },
   "source": [
    "Для более точной категоризации обычное распределение значений может не подойти. Для этого разделим на первичные категории значения в столбцах, содержащие информацию о возрасте, балансе, зарплате и рейтингу клиентов. Далее посчитаем долю оттока для каждой первичной категории и определим конечные категории по первичным, доли оттока которых превышают общую долю оттока по банку."
   ]
  },
  {
   "cell_type": "code",
   "execution_count": 30,
   "id": "764e4ea9",
   "metadata": {
    "colab": {
     "base_uri": "https://localhost:8080/"
    },
    "id": "764e4ea9",
    "outputId": "064583cc-2ef0-41c1-b593-4334cb5853f6"
   },
   "outputs": [
    {
     "name": "stdout",
     "output_type": "stream",
     "text": [
      "Общая доля оттока клиентов по банку: 18\n"
     ]
    }
   ],
   "source": [
    "# высчитываем общую долю оттока по банку\n",
    "total_outflow_share = (\n",
    "    round(\n",
    "        (data.query('churn == 1')['user_id'].count() / data['user_id'].count()) * 100\n",
    "        )\n",
    ")\n",
    "# проверка\n",
    "print(f'Общая доля оттока клиентов по банку: {total_outflow_share}')"
   ]
  },
  {
   "cell_type": "markdown",
   "id": "217044a5",
   "metadata": {
    "id": "217044a5"
   },
   "source": [
    "**Функции**"
   ]
  },
  {
   "cell_type": "code",
   "execution_count": 31,
   "id": "1679117e",
   "metadata": {
    "id": "1679117e"
   },
   "outputs": [],
   "source": [
    "def get_agg(col, border):\n",
    "    '''\n",
    "    Функция аггрегирует данные в отдельную таблицу,\n",
    "    в которой будут записаны количество всех клиентов,\n",
    "    отточных клиентов и процентная доля отточных клиентов.\n",
    "    '''\n",
    "    if col == 'age':\n",
    "        df = data\n",
    "    if col == 'bl_cat':\n",
    "        df = data.query(f'balance <= {border}')\n",
    "    if col == 'sal_cat':\n",
    "        df = data.query(f'est_salary <= {border}')\n",
    "    if col == 'score_cat':\n",
    "        df = data\n",
    "\n",
    "# группировка ВСЕХ клиентов по столбцу\n",
    "    all_age_dist = (\n",
    "        df\n",
    "        .groupby(col)['user_id']\n",
    "        .count()\n",
    "        .reset_index()\n",
    "        .rename(columns={'user_id':'count'})\n",
    "  )\n",
    "# группировка ОТТОЧНЫХ клиентов по столбцу\n",
    "    churn_age_dist = (\n",
    "        df\n",
    "        .query('churn == 1')\n",
    "        .groupby(col)['user_id']\n",
    "        .count()\n",
    "        .reset_index()\n",
    "        .rename(columns={'user_id':'churn_count'})\n",
    "      )\n",
    "  # соединям таблицы\n",
    "    churn_share = (\n",
    "        all_age_dist\n",
    "        .merge(\n",
    "          churn_age_dist, on=col, how='left'\n",
    "          )[[col,'count','churn_count']]\n",
    "      )\n",
    "  # находим долю отточных\n",
    "    churn_share['share'] = round(\n",
    "      churn_share['churn_count'] / churn_share['count'] * 100, 2\n",
    "      )\n",
    "  # вывод\n",
    "    return churn_share"
   ]
  },
  {
   "cell_type": "code",
   "execution_count": 32,
   "id": "afa7460f",
   "metadata": {
    "id": "afa7460f"
   },
   "outputs": [],
   "source": [
    "def get_plot(df):\n",
    "    '''\n",
    "    Функция создаёт линейную диаграмму распределения доли отточных клиентов по переменному признаку по раннее\n",
    "    агрегированной таблице\n",
    "    '''\n",
    "    plt.figure(figsize=(20,7))\n",
    "    sns.lineplot(\n",
    "    data=df,\n",
    "    x=df.columns[0],\n",
    "    y='share',\n",
    "    color=color,\n",
    "    marker='o'\n",
    "    )\n",
    "    # красная горизонтальная линия\n",
    "    plt.axhline(y=total_outflow_share, color='red', linestyle='--')\n",
    "\n",
    "    plt.ylabel('Доля оттока', size=13)\n",
    "\n",
    "      # подписи к осям в зависимости от признака\n",
    "    if df.columns[0] == 'age':\n",
    "        plt.title('Распределение уровня оттока клиента по возрасту', size=16)\n",
    "        plt.xlabel('Возраст', size=13)\n",
    "        plt.text (63, 19, 'Общ.ур.оттока ~18%', color='r')\n",
    "\n",
    "    if df.columns[0] == 'bl_cat':\n",
    "        plt.title('Распределение уровня оттока клиента по балансу', size=16)\n",
    "        plt.xlabel('Категории', size=13)\n",
    "        plt.text (150000, 19, 'Общ.ур.оттока ~18%', color='r')\n",
    "\n",
    "    if df.columns[0] == 'sal_cat':\n",
    "        plt.title('Распределение уровня оттока клиента по зарплате', size=16)\n",
    "        plt.xlabel('Категории предположительной зарплаты', size=13)\n",
    "        plt.text (25000, 18.5 , 'Общ.ур.оттока ~18%', color='r')\n",
    "\n",
    "    if df.columns[0] == 'score_cat':\n",
    "        plt.title('Распределение уровня оттока клиента по рейтингу', size=16)\n",
    "        plt.xlabel('Категории кредитного скоринга', size=13)\n",
    "        plt.text (725, 19, 'Общ.ур.оттока ~18%', color='r')"
   ]
  },
  {
   "cell_type": "code",
   "execution_count": 33,
   "id": "ea5656b3",
   "metadata": {
    "id": "ea5656b3"
   },
   "outputs": [],
   "source": [
    "def get_upper_border(val):\n",
    "    '''\n",
    "    функция находит верхнюю границу \"уса\" диаграммы размаха\n",
    "    '''\n",
    "    # переменные\n",
    "    q1 = np.percentile(val, 25)\n",
    "    q3 = np.percentile(val, 75)\n",
    "    k = 1.5\n",
    "    # формула\n",
    "    x2 = q3 + k*(q3 - q1)\n",
    "    return round(x2)"
   ]
  },
  {
   "cell_type": "code",
   "execution_count": 34,
   "id": "d5d49dae",
   "metadata": {},
   "outputs": [],
   "source": [
    "def get_stem(agg_df):\n",
    "    '''\n",
    "    Функция строит стемплот по входящей таблице\n",
    "    '''\n",
    "    # значения для автоматической подписи необходимых координат\n",
    "    share_border = agg_df.query('share >= 18')\n",
    "    \n",
    "    plt.figure(figsize=(20,8))  \n",
    "    # строим стемплот\n",
    "    plt.stem(\n",
    "          agg_df[agg_df.columns[0]], agg_df['share'], linefmt='grey', bottom=18\n",
    "          )\n",
    "    # оформляем \n",
    "    ticks = share_border[share_border.columns[0]].astype('int')\n",
    "    plt.xticks(ticks=ticks, labels=ticks, size=13)\n",
    "    plt.grid(linestyle=':')\n",
    "    #\n",
    "    if agg_df.columns[0] == 'age':\n",
    "        plt.title('Распределение уровня оттока клиента по возрасту', size=18)\n",
    "        plt.xlabel('Возраст', size=14)\n",
    "        plt.text (78, 19, 'Общ.ур.оттока ~18%', color='r', size=16)\n",
    "        \n",
    "    if agg_df.columns[0] == 'bl_cat':\n",
    "        plt.title('Распределение уровня оттока клиента по балансу', size=18)\n",
    "        plt.xlabel('Категории', size=14)\n",
    "        plt.text (130000, 19, 'Общ.ур.оттока ~18%', color='r', size=16)\n",
    "        \n",
    "    if agg_df.columns[0] == 'sal_cat':\n",
    "        plt.title('Распределение уровня оттока клиента по зарплате', size=18)\n",
    "        plt.xlabel('Категории предположительной зарплаты', size=14)\n",
    "        plt.text (10000, 18.5 , 'Общ.ур.оттока ~18%', color='r', size=16)\n",
    "        \n",
    "    if agg_df.columns[0] == 'score_cat':\n",
    "        plt.title('Распределение уровня оттока клиента по рейтингу', size=18)\n",
    "        plt.xlabel('Категории кредитного скоринга', size=14)\n",
    "        plt.text (650, 19, 'Общ.ур.оттока ~18%', color='r', size=16)   \n",
    "    plt.ylabel('Доля оттока, %', size=14)\n",
    "    plt.show()"
   ]
  },
  {
   "cell_type": "markdown",
   "id": "f19ad2eb",
   "metadata": {
    "id": "f19ad2eb"
   },
   "source": [
    "По каждому признаку мы агрегируем данные, чтобы найти долю отточных клиентов для каждой категории. Затем построим график распределения долей оттока и выявим категории клиентов, доля которых превышает общую долю оттока по банку."
   ]
  },
  {
   "cell_type": "markdown",
   "id": "9daacbcb",
   "metadata": {
    "id": "9daacbcb"
   },
   "source": [
    "**Возраст**"
   ]
  },
  {
   "cell_type": "code",
   "execution_count": 35,
   "id": "11608034",
   "metadata": {
    "colab": {
     "base_uri": "https://localhost:8080/",
     "height": 206
    },
    "id": "11608034",
    "outputId": "e4e33957-88db-4c75-c60f-ea032150c115"
   },
   "outputs": [
    {
     "data": {
      "text/html": [
       "<div>\n",
       "<style scoped>\n",
       "    .dataframe tbody tr th:only-of-type {\n",
       "        vertical-align: middle;\n",
       "    }\n",
       "\n",
       "    .dataframe tbody tr th {\n",
       "        vertical-align: top;\n",
       "    }\n",
       "\n",
       "    .dataframe thead th {\n",
       "        text-align: right;\n",
       "    }\n",
       "</style>\n",
       "<table border=\"1\" class=\"dataframe\">\n",
       "  <thead>\n",
       "    <tr style=\"text-align: right;\">\n",
       "      <th></th>\n",
       "      <th>age</th>\n",
       "      <th>count</th>\n",
       "      <th>churn_count</th>\n",
       "      <th>share</th>\n",
       "    </tr>\n",
       "  </thead>\n",
       "  <tbody>\n",
       "    <tr>\n",
       "      <th>0</th>\n",
       "      <td>18</td>\n",
       "      <td>13</td>\n",
       "      <td>1.0</td>\n",
       "      <td>7.69</td>\n",
       "    </tr>\n",
       "    <tr>\n",
       "      <th>1</th>\n",
       "      <td>19</td>\n",
       "      <td>16</td>\n",
       "      <td>1.0</td>\n",
       "      <td>6.25</td>\n",
       "    </tr>\n",
       "    <tr>\n",
       "      <th>2</th>\n",
       "      <td>20</td>\n",
       "      <td>23</td>\n",
       "      <td>3.0</td>\n",
       "      <td>13.04</td>\n",
       "    </tr>\n",
       "    <tr>\n",
       "      <th>3</th>\n",
       "      <td>21</td>\n",
       "      <td>15</td>\n",
       "      <td>4.0</td>\n",
       "      <td>26.67</td>\n",
       "    </tr>\n",
       "    <tr>\n",
       "      <th>4</th>\n",
       "      <td>22</td>\n",
       "      <td>26</td>\n",
       "      <td>4.0</td>\n",
       "      <td>15.38</td>\n",
       "    </tr>\n",
       "  </tbody>\n",
       "</table>\n",
       "</div>"
      ],
      "text/plain": [
       "   age  count  churn_count  share\n",
       "0   18     13          1.0   7.69\n",
       "1   19     16          1.0   6.25\n",
       "2   20     23          3.0  13.04\n",
       "3   21     15          4.0  26.67\n",
       "4   22     26          4.0  15.38"
      ]
     },
     "execution_count": 35,
     "metadata": {},
     "output_type": "execute_result"
    }
   ],
   "source": [
    "# агрегация по возрасту\n",
    "age_share = get_agg('age', 0)\n",
    "# проверка\n",
    "age_share.head()"
   ]
  },
  {
   "cell_type": "code",
   "execution_count": 36,
   "id": "3805db96",
   "metadata": {},
   "outputs": [
    {
     "data": {
      "image/png": "[encoded data removed]",
      "text/plain": [
       "<Figure size 1440x576 with 1 Axes>"
      ]
     },
     "metadata": {},
     "output_type": "display_data"
    }
   ],
   "source": [
    "# визуализируем\n",
    "get_stem(age_share)"
   ]
  },
  {
   "cell_type": "markdown",
   "id": "1e98be99",
   "metadata": {
    "id": "1e98be99"
   },
   "source": [
    "По графику можно выделить следующие категории с высоким уровнем оттока:\n",
    "- 1. 18 - 24 года;\n",
    "- 2. 25 - 38 лет;\n",
    "- 3. 50 - 60 лет."
   ]
  },
  {
   "cell_type": "code",
   "execution_count": 37,
   "id": "51bed802",
   "metadata": {
    "id": "51bed802"
   },
   "outputs": [],
   "source": [
    "# настроим конечную категоризацию\n",
    "def get_age_cat(val):\n",
    "    if val <= 24:\n",
    "        return '18-24'\n",
    "    if val >= 25 and val <= 38:\n",
    "        return '25-35'\n",
    "    if val > 38 and val < 50:\n",
    "        return '35-50'\n",
    "    if val >= 50 and val <= 60:\n",
    "        return '50-60'\n",
    "    if val > 60:\n",
    "        return '>60'"
   ]
  },
  {
   "cell_type": "code",
   "execution_count": 38,
   "id": "f0349353",
   "metadata": {
    "colab": {
     "base_uri": "https://localhost:8080/"
    },
    "id": "f0349353",
    "outputId": "af92acc2-87ac-4e17-e358-3da6b4addfb0"
   },
   "outputs": [
    {
     "name": "stdout",
     "output_type": "stream",
     "text": [
      "['18-24' '25-35' '35-50' '50-60' '>60']\n"
     ]
    }
   ],
   "source": [
    "# применяем функцию категоризации\n",
    "data['age_cat'] = data['age'].apply(get_age_cat)\n",
    "# проверка\n",
    "print(\n",
    "    data['age_cat'].sort_values().unique()\n",
    "    )"
   ]
  },
  {
   "cell_type": "markdown",
   "id": "1cfc4856",
   "metadata": {
    "id": "1cfc4856"
   },
   "source": [
    "**Баланс**"
   ]
  },
  {
   "cell_type": "code",
   "execution_count": 39,
   "id": "a6210df6",
   "metadata": {
    "id": "a6210df6"
   },
   "outputs": [],
   "source": [
    "# формируем срез данных без пропусков\n",
    "balance = data.query('balance > 0')['balance']"
   ]
  },
  {
   "cell_type": "code",
   "execution_count": 40,
   "id": "60913219",
   "metadata": {
    "colab": {
     "base_uri": "https://localhost:8080/",
     "height": 439
    },
    "id": "60913219",
    "outputId": "13db0874-b722-4b46-dfeb-f7df6d596c4f"
   },
   "outputs": [
    {
     "data": {
      "image/png": "[encoded data removed]",
      "text/plain": [
       "<Figure size 576x144 with 1 Axes>"
      ]
     },
     "metadata": {},
     "output_type": "display_data"
    },
    {
     "data": {
      "image/png": "[encoded data removed]",
      "text/plain": [
       "<Figure size 576x144 with 1 Axes>"
      ]
     },
     "metadata": {},
     "output_type": "display_data"
    }
   ],
   "source": [
    "# рассматриваем выбросы\n",
    "plt.figure(figsize=(8,2))\n",
    "sns.set_style(\"whitegrid\")\n",
    "sns.boxplot(balance, orient='h',color=color, width=0.5)\n",
    "sns.despine(left=True, bottom=True)\n",
    "plt.show()\n",
    "\n",
    "plt.figure(figsize=(8,2))\n",
    "sns.boxplot(balance, orient='h',color=color, width=0.5)\n",
    "plt.xlim(0,2500000)\n",
    "sns.despine(left=True, bottom=True)\n",
    "plt.show()"
   ]
  },
  {
   "cell_type": "code",
   "execution_count": 41,
   "id": "fc5f73db",
   "metadata": {
    "colab": {
     "base_uri": "https://localhost:8080/"
    },
    "id": "fc5f73db",
    "outputId": "eb42b049-799f-40c1-f89a-757daa59be17"
   },
   "outputs": [
    {
     "data": {
      "text/plain": [
       "2008672"
      ]
     },
     "execution_count": 41,
     "metadata": {},
     "output_type": "execute_result"
    }
   ],
   "source": [
    "# находим верхнюю границу диаграммы размаха\n",
    "get_upper_border(balance)"
   ]
  },
  {
   "cell_type": "code",
   "execution_count": 42,
   "id": "cc0d800e",
   "metadata": {
    "id": "cc0d800e"
   },
   "outputs": [],
   "source": [
    "# устанавливаем границу среза данных без выбросов\n",
    "balance_border = 2000000"
   ]
  },
  {
   "cell_type": "code",
   "execution_count": 43,
   "id": "bbbb8980",
   "metadata": {
    "id": "bbbb8980"
   },
   "outputs": [],
   "source": [
    "# функция категоризирует баланс\n",
    "def get_bl_category(x):\n",
    "\n",
    "    values = []\n",
    "    for cat in range(0, 2100000, 100000):\n",
    "        values.append(cat)\n",
    "\n",
    "    for i in range(len(values)):\n",
    "        while values[i] < balance_border:\n",
    "            if x > values[i] and x <= values[i+1]:\n",
    "                return values[i+1]\n",
    "            break"
   ]
  },
  {
   "cell_type": "code",
   "execution_count": 44,
   "id": "ab16dc82",
   "metadata": {
    "colab": {
     "base_uri": "https://localhost:8080/"
    },
    "id": "ab16dc82",
    "outputId": "287e3dfb-e5ba-40bc-b391-e98496aabb58"
   },
   "outputs": [
    {
     "data": {
      "text/plain": [
       "array([ 100000.,  200000.,  300000.,  400000.,  500000.,  600000.,\n",
       "        700000.,  800000.,  900000., 1000000., 1100000., 1200000.,\n",
       "       1300000., 1400000., 1500000., 1600000., 1700000., 1800000.,\n",
       "       1900000., 2000000.,      nan])"
      ]
     },
     "execution_count": 44,
     "metadata": {},
     "output_type": "execute_result"
    }
   ],
   "source": [
    "# создаём категории баланска без выбросов\n",
    "data['bl_cat'] = data.query('balance <= @balance_border')['balance'].apply(get_bl_category)\n",
    "# проверка\n",
    "data['bl_cat'].sort_values().unique()"
   ]
  },
  {
   "cell_type": "code",
   "execution_count": 45,
   "id": "755c6dc5",
   "metadata": {
    "colab": {
     "base_uri": "https://localhost:8080/",
     "height": 206
    },
    "id": "755c6dc5",
    "outputId": "634ed67a-6c0f-4e8f-b127-f5f3172e54e7"
   },
   "outputs": [
    {
     "data": {
      "text/html": [
       "<div>\n",
       "<style scoped>\n",
       "    .dataframe tbody tr th:only-of-type {\n",
       "        vertical-align: middle;\n",
       "    }\n",
       "\n",
       "    .dataframe tbody tr th {\n",
       "        vertical-align: top;\n",
       "    }\n",
       "\n",
       "    .dataframe thead th {\n",
       "        text-align: right;\n",
       "    }\n",
       "</style>\n",
       "<table border=\"1\" class=\"dataframe\">\n",
       "  <thead>\n",
       "    <tr style=\"text-align: right;\">\n",
       "      <th></th>\n",
       "      <th>bl_cat</th>\n",
       "      <th>count</th>\n",
       "      <th>churn_count</th>\n",
       "      <th>share</th>\n",
       "    </tr>\n",
       "  </thead>\n",
       "  <tbody>\n",
       "    <tr>\n",
       "      <th>0</th>\n",
       "      <td>100000.0</td>\n",
       "      <td>382</td>\n",
       "      <td>58</td>\n",
       "      <td>15.18</td>\n",
       "    </tr>\n",
       "    <tr>\n",
       "      <th>1</th>\n",
       "      <td>200000.0</td>\n",
       "      <td>689</td>\n",
       "      <td>111</td>\n",
       "      <td>16.11</td>\n",
       "    </tr>\n",
       "    <tr>\n",
       "      <th>2</th>\n",
       "      <td>300000.0</td>\n",
       "      <td>880</td>\n",
       "      <td>147</td>\n",
       "      <td>16.70</td>\n",
       "    </tr>\n",
       "    <tr>\n",
       "      <th>3</th>\n",
       "      <td>400000.0</td>\n",
       "      <td>948</td>\n",
       "      <td>157</td>\n",
       "      <td>16.56</td>\n",
       "    </tr>\n",
       "    <tr>\n",
       "      <th>4</th>\n",
       "      <td>500000.0</td>\n",
       "      <td>775</td>\n",
       "      <td>143</td>\n",
       "      <td>18.45</td>\n",
       "    </tr>\n",
       "  </tbody>\n",
       "</table>\n",
       "</div>"
      ],
      "text/plain": [
       "     bl_cat  count  churn_count  share\n",
       "0  100000.0    382           58  15.18\n",
       "1  200000.0    689          111  16.11\n",
       "2  300000.0    880          147  16.70\n",
       "3  400000.0    948          157  16.56\n",
       "4  500000.0    775          143  18.45"
      ]
     },
     "execution_count": 45,
     "metadata": {},
     "output_type": "execute_result"
    }
   ],
   "source": [
    "# агрегация по балансу\n",
    "balance_share = get_agg('bl_cat', balance_border)\n",
    "# проверка\n",
    "balance_share.head()"
   ]
  },
  {
   "cell_type": "code",
   "execution_count": 46,
   "id": "5900951a",
   "metadata": {},
   "outputs": [
    {
     "data": {
      "image/png": "[encoded data removed]",
      "text/plain": [
       "<Figure size 1440x576 with 1 Axes>"
      ]
     },
     "metadata": {},
     "output_type": "display_data"
    }
   ],
   "source": [
    "# визуализируем\n",
    "get_stem(balance_share)"
   ]
  },
  {
   "cell_type": "code",
   "execution_count": 47,
   "id": "e6549044",
   "metadata": {
    "id": "e6549044"
   },
   "outputs": [],
   "source": [
    "# настроиваем категоризацию\n",
    "def get_bl_cat(val):\n",
    "    if val < 500000:\n",
    "        return '<500000'\n",
    "    else:\n",
    "        return '>500000'"
   ]
  },
  {
   "cell_type": "code",
   "execution_count": 48,
   "id": "8c02cf3d",
   "metadata": {
    "colab": {
     "base_uri": "https://localhost:8080/"
    },
    "id": "8c02cf3d",
    "outputId": "3ee141e1-bb69-4f40-c5aa-a944fd10728b"
   },
   "outputs": [
    {
     "name": "stdout",
     "output_type": "stream",
     "text": [
      "['<500000' '>500000']\n"
     ]
    }
   ],
   "source": [
    "# применяем функцию категорищации\n",
    "data['bl_cat'] = data['balance'].apply(get_bl_cat)\n",
    "# проверка\n",
    "print(\n",
    "    data['bl_cat'].sort_values().unique()\n",
    "    )"
   ]
  },
  {
   "cell_type": "markdown",
   "id": "69043a46",
   "metadata": {
    "id": "69043a46"
   },
   "source": [
    "**Зарплата**"
   ]
  },
  {
   "cell_type": "code",
   "execution_count": 49,
   "id": "a788edfd",
   "metadata": {
    "id": "a788edfd"
   },
   "outputs": [],
   "source": [
    "# переменная для дальнейших вычеслений\n",
    "sal = data['est_salary']"
   ]
  },
  {
   "cell_type": "code",
   "execution_count": 50,
   "id": "8e53cc64",
   "metadata": {
    "colab": {
     "base_uri": "https://localhost:8080/",
     "height": 420
    },
    "id": "8e53cc64",
    "outputId": "6b68e819-d56c-4fe1-d89d-1dca75268a44"
   },
   "outputs": [
    {
     "data": {
      "image/png": "[encoded data removed]",
      "text/plain": [
       "<Figure size 576x144 with 1 Axes>"
      ]
     },
     "metadata": {},
     "output_type": "display_data"
    },
    {
     "data": {
      "image/png": "[encoded data removed]",
      "text/plain": [
       "<Figure size 576x144 with 1 Axes>"
      ]
     },
     "metadata": {},
     "output_type": "display_data"
    }
   ],
   "source": [
    "# рассматриваем выбросы\n",
    "plt.figure(figsize=(8,2))\n",
    "sns.set_style(\"whitegrid\")\n",
    "sns.boxplot(sal, orient='h',color=color, width=0.5)\n",
    "sns.despine(left=True, bottom=True)\n",
    "plt.show()\n",
    "\n",
    "plt.figure(figsize=(8,2))\n",
    "sns.boxplot(sal, orient='h',color=color, width=0.5)\n",
    "plt.xlim(0,400000)\n",
    "sns.despine(left=True, bottom=True)\n",
    "plt.show()"
   ]
  },
  {
   "cell_type": "code",
   "execution_count": 51,
   "id": "d329719e",
   "metadata": {
    "colab": {
     "base_uri": "https://localhost:8080/"
    },
    "id": "d329719e",
    "outputId": "dc78174f-a98f-4c77-f0ea-7418d9c09448"
   },
   "outputs": [
    {
     "data": {
      "text/plain": [
       "323799"
      ]
     },
     "execution_count": 51,
     "metadata": {},
     "output_type": "execute_result"
    }
   ],
   "source": [
    "# находим верхнюю границу диаграммы размаха\n",
    "get_upper_border(sal)"
   ]
  },
  {
   "cell_type": "code",
   "execution_count": 52,
   "id": "577514ae",
   "metadata": {
    "id": "577514ae"
   },
   "outputs": [],
   "source": [
    "# устанавливаем границу среза данных без выбросов\n",
    "sal_border = 320000"
   ]
  },
  {
   "cell_type": "code",
   "execution_count": 53,
   "id": "56b0e0f0",
   "metadata": {
    "id": "56b0e0f0"
   },
   "outputs": [],
   "source": [
    "# функция категоризация\n",
    "def get_sal_category(x):\n",
    "    values = []\n",
    "    for cat in range(0,340000, 20000):\n",
    "        values.append(cat)\n",
    "\n",
    "    for i in range(len(values)):\n",
    "        while values[i] < sal_border:\n",
    "            if x > values[i] and x <= values[i+1]:\n",
    "                return values[i+1]\n",
    "            break"
   ]
  },
  {
   "cell_type": "code",
   "execution_count": 54,
   "id": "b4aff646",
   "metadata": {
    "colab": {
     "base_uri": "https://localhost:8080/"
    },
    "id": "b4aff646",
    "outputId": "9a1a72f3-1ba2-4e8a-d004-3e9f0a66e459"
   },
   "outputs": [
    {
     "data": {
      "text/plain": [
       "array([ 20000.,  40000.,  60000.,  80000., 100000., 120000., 140000.,\n",
       "       160000., 180000., 200000., 220000., 240000., 260000., 280000.,\n",
       "       300000., 320000.,     nan])"
      ]
     },
     "execution_count": 54,
     "metadata": {},
     "output_type": "execute_result"
    }
   ],
   "source": [
    "# категоризируем\n",
    "data['sal_cat'] = data.query('est_salary <= @sal_border')['est_salary'].apply(get_sal_category)\n",
    "# проверка\n",
    "data['sal_cat'].sort_values().unique()"
   ]
  },
  {
   "cell_type": "code",
   "execution_count": 55,
   "id": "158e7210",
   "metadata": {
    "colab": {
     "base_uri": "https://localhost:8080/",
     "height": 206
    },
    "id": "158e7210",
    "outputId": "3911772d-d555-406a-de05-e4a9bbe6d8ac"
   },
   "outputs": [
    {
     "data": {
      "text/html": [
       "<div>\n",
       "<style scoped>\n",
       "    .dataframe tbody tr th:only-of-type {\n",
       "        vertical-align: middle;\n",
       "    }\n",
       "\n",
       "    .dataframe tbody tr th {\n",
       "        vertical-align: top;\n",
       "    }\n",
       "\n",
       "    .dataframe thead th {\n",
       "        text-align: right;\n",
       "    }\n",
       "</style>\n",
       "<table border=\"1\" class=\"dataframe\">\n",
       "  <thead>\n",
       "    <tr style=\"text-align: right;\">\n",
       "      <th></th>\n",
       "      <th>sal_cat</th>\n",
       "      <th>count</th>\n",
       "      <th>churn_count</th>\n",
       "      <th>share</th>\n",
       "    </tr>\n",
       "  </thead>\n",
       "  <tbody>\n",
       "    <tr>\n",
       "      <th>0</th>\n",
       "      <td>20000.0</td>\n",
       "      <td>145</td>\n",
       "      <td>15</td>\n",
       "      <td>10.34</td>\n",
       "    </tr>\n",
       "    <tr>\n",
       "      <th>1</th>\n",
       "      <td>40000.0</td>\n",
       "      <td>619</td>\n",
       "      <td>84</td>\n",
       "      <td>13.57</td>\n",
       "    </tr>\n",
       "    <tr>\n",
       "      <th>2</th>\n",
       "      <td>60000.0</td>\n",
       "      <td>919</td>\n",
       "      <td>150</td>\n",
       "      <td>16.32</td>\n",
       "    </tr>\n",
       "    <tr>\n",
       "      <th>3</th>\n",
       "      <td>80000.0</td>\n",
       "      <td>1063</td>\n",
       "      <td>168</td>\n",
       "      <td>15.80</td>\n",
       "    </tr>\n",
       "    <tr>\n",
       "      <th>4</th>\n",
       "      <td>100000.0</td>\n",
       "      <td>1156</td>\n",
       "      <td>207</td>\n",
       "      <td>17.91</td>\n",
       "    </tr>\n",
       "  </tbody>\n",
       "</table>\n",
       "</div>"
      ],
      "text/plain": [
       "    sal_cat  count  churn_count  share\n",
       "0   20000.0    145           15  10.34\n",
       "1   40000.0    619           84  13.57\n",
       "2   60000.0    919          150  16.32\n",
       "3   80000.0   1063          168  15.80\n",
       "4  100000.0   1156          207  17.91"
      ]
     },
     "execution_count": 55,
     "metadata": {},
     "output_type": "execute_result"
    }
   ],
   "source": [
    "# агрегация по зарплате\n",
    "salary_share = get_agg('sal_cat', sal_border)\n",
    "# проверка\n",
    "salary_share.head()"
   ]
  },
  {
   "cell_type": "code",
   "execution_count": 56,
   "id": "ea9279d6",
   "metadata": {},
   "outputs": [
    {
     "data": {
      "image/png": "[encoded data removed]",
      "text/plain": [
       "<Figure size 1440x576 with 1 Axes>"
      ]
     },
     "metadata": {},
     "output_type": "display_data"
    }
   ],
   "source": [
    "# визуализируем\n",
    "get_stem(salary_share)"
   ]
  },
  {
   "cell_type": "markdown",
   "id": "696f5301",
   "metadata": {
    "id": "696f5301"
   },
   "source": [
    "По графику можно выделить следующие категории с высоким уровнем оттока:\n",
    "\n",
    "- 1. \"от 120 000 до 220000\";\n",
    "- 2. \"от 280000\"."
   ]
  },
  {
   "cell_type": "code",
   "execution_count": 57,
   "id": "127a63af",
   "metadata": {
    "id": "127a63af"
   },
   "outputs": [],
   "source": [
    "# настраиваем конечную категоризацию\n",
    "def get_sal_cat(val):\n",
    "    if val < 120000:\n",
    "        return '< 120000'\n",
    "    if val >= 120000 and val <= 220500:\n",
    "        return '120000-220000'\n",
    "    if val > 220000 and val <= 280000:\n",
    "        return '220000-280000'\n",
    "    if val > 260000:\n",
    "        return '> 280000'"
   ]
  },
  {
   "cell_type": "code",
   "execution_count": 58,
   "id": "96dda01b",
   "metadata": {
    "colab": {
     "base_uri": "https://localhost:8080/"
    },
    "id": "96dda01b",
    "outputId": "fabd08b5-ac15-4705-8dc4-7c8acf2c2692"
   },
   "outputs": [
    {
     "name": "stdout",
     "output_type": "stream",
     "text": [
      "['120000-220000' '220000-280000' '< 120000' '> 280000']\n"
     ]
    }
   ],
   "source": [
    "# применяем функцию категоризации\n",
    "data['sal_cat'] = data['est_salary'].apply(get_sal_cat)\n",
    "# проверка\n",
    "print(\n",
    "    data['sal_cat'].sort_values().unique()\n",
    "    )"
   ]
  },
  {
   "cell_type": "markdown",
   "id": "97766c00",
   "metadata": {
    "id": "97766c00"
   },
   "source": [
    "**Рейтинг**"
   ]
  },
  {
   "cell_type": "code",
   "execution_count": 59,
   "id": "8cc08518",
   "metadata": {
    "id": "8cc08518"
   },
   "outputs": [],
   "source": [
    "def get_score_category(x):\n",
    "    values = []\n",
    "    for cat in range(640,1020,20):\n",
    "        values.append(cat)\n",
    "\n",
    "    for i in range(len(values)):\n",
    "        while values[i] < 1000:\n",
    "            if x > values[i] and x <= values[i+1]:\n",
    "                return values[i+1]\n",
    "            break"
   ]
  },
  {
   "cell_type": "code",
   "execution_count": 60,
   "id": "a2581c04",
   "metadata": {
    "colab": {
     "base_uri": "https://localhost:8080/"
    },
    "id": "a2581c04",
    "outputId": "cf215974-ac10-428a-fbee-2e74887f80bc"
   },
   "outputs": [
    {
     "name": "stdout",
     "output_type": "stream",
     "text": [
      "[ 660  680  700  720  740  760  780  800  820  840  860  880  900  920\n",
      "  940  960  980 1000]\n"
     ]
    }
   ],
   "source": [
    "# применяем функцию категоризации\n",
    "data['score_cat'] = data['score'].apply(get_score_category)\n",
    "# проверка\n",
    "print(\n",
    "    data['score_cat'].sort_values().unique()\n",
    "    )"
   ]
  },
  {
   "cell_type": "code",
   "execution_count": 61,
   "id": "2afe6540",
   "metadata": {
    "colab": {
     "base_uri": "https://localhost:8080/",
     "height": 206
    },
    "id": "2afe6540",
    "outputId": "036f0cda-83a7-47b9-a5ac-ebfeaa9356a7"
   },
   "outputs": [
    {
     "data": {
      "text/html": [
       "<div>\n",
       "<style scoped>\n",
       "    .dataframe tbody tr th:only-of-type {\n",
       "        vertical-align: middle;\n",
       "    }\n",
       "\n",
       "    .dataframe tbody tr th {\n",
       "        vertical-align: top;\n",
       "    }\n",
       "\n",
       "    .dataframe thead th {\n",
       "        text-align: right;\n",
       "    }\n",
       "</style>\n",
       "<table border=\"1\" class=\"dataframe\">\n",
       "  <thead>\n",
       "    <tr style=\"text-align: right;\">\n",
       "      <th></th>\n",
       "      <th>score_cat</th>\n",
       "      <th>count</th>\n",
       "      <th>churn_count</th>\n",
       "      <th>share</th>\n",
       "    </tr>\n",
       "  </thead>\n",
       "  <tbody>\n",
       "    <tr>\n",
       "      <th>0</th>\n",
       "      <td>660</td>\n",
       "      <td>57</td>\n",
       "      <td>NaN</td>\n",
       "      <td>NaN</td>\n",
       "    </tr>\n",
       "    <tr>\n",
       "      <th>1</th>\n",
       "      <td>680</td>\n",
       "      <td>29</td>\n",
       "      <td>NaN</td>\n",
       "      <td>NaN</td>\n",
       "    </tr>\n",
       "    <tr>\n",
       "      <th>2</th>\n",
       "      <td>700</td>\n",
       "      <td>91</td>\n",
       "      <td>NaN</td>\n",
       "      <td>NaN</td>\n",
       "    </tr>\n",
       "    <tr>\n",
       "      <th>3</th>\n",
       "      <td>720</td>\n",
       "      <td>133</td>\n",
       "      <td>2.0</td>\n",
       "      <td>1.50</td>\n",
       "    </tr>\n",
       "    <tr>\n",
       "      <th>4</th>\n",
       "      <td>740</td>\n",
       "      <td>224</td>\n",
       "      <td>8.0</td>\n",
       "      <td>3.57</td>\n",
       "    </tr>\n",
       "  </tbody>\n",
       "</table>\n",
       "</div>"
      ],
      "text/plain": [
       "   score_cat  count  churn_count  share\n",
       "0        660     57          NaN    NaN\n",
       "1        680     29          NaN    NaN\n",
       "2        700     91          NaN    NaN\n",
       "3        720    133          2.0   1.50\n",
       "4        740    224          8.0   3.57"
      ]
     },
     "execution_count": 61,
     "metadata": {},
     "output_type": "execute_result"
    }
   ],
   "source": [
    "# агрегация по рейтингу\n",
    "score_share = get_agg('score_cat', 0)\n",
    "# проверка\n",
    "score_share.head()"
   ]
  },
  {
   "cell_type": "code",
   "execution_count": 62,
   "id": "5d99039d",
   "metadata": {},
   "outputs": [
    {
     "data": {
      "image/png": "[encoded data removed]",
      "text/plain": [
       "<Figure size 1440x576 with 1 Axes>"
      ]
     },
     "metadata": {},
     "output_type": "display_data"
    }
   ],
   "source": [
    "# визуализируем\n",
    "get_stem(score_share)"
   ]
  },
  {
   "cell_type": "markdown",
   "id": "f478ec2a",
   "metadata": {
    "id": "f478ec2a"
   },
   "source": [
    "По графику можно выделить следующие категории с высоким уровнем оттока:\n",
    "\n",
    "- 1. \"до 840\";\n",
    "- 2. \"от 860 до 940\";\n",
    "- 3. \"от 940\"."
   ]
  },
  {
   "cell_type": "code",
   "execution_count": 63,
   "id": "80626898",
   "metadata": {
    "id": "80626898"
   },
   "outputs": [],
   "source": [
    "# настроиваем конечную категоризацию\n",
    "def get_score_cat(val):\n",
    "    if val < 840:\n",
    "        return '< 840'\n",
    "    if val >= 828 and val <= 947:\n",
    "        return '840-940'\n",
    "    if val > 947:\n",
    "        return '> 940'"
   ]
  },
  {
   "cell_type": "code",
   "execution_count": 64,
   "id": "d68b3c68",
   "metadata": {
    "colab": {
     "base_uri": "https://localhost:8080/"
    },
    "id": "d68b3c68",
    "outputId": "a57f617d-fa47-46fa-fdca-48238240a325"
   },
   "outputs": [
    {
     "name": "stdout",
     "output_type": "stream",
     "text": [
      "['840-940' '< 840' '> 940']\n"
     ]
    }
   ],
   "source": [
    "# применяем функцию категоризации\n",
    "data['score_cat'] = data['score'].apply(get_score_cat)\n",
    "# проверка\n",
    "print(\n",
    "    data['score_cat'].sort_values().unique()\n",
    "    )"
   ]
  },
  {
   "cell_type": "markdown",
   "id": "a0378633",
   "metadata": {
    "id": "a0378633"
   },
   "source": [
    "После проведения предварительной обработки данных мы исправили названия столбцов, убрали пропущенные значения и привели форматы данных к одному типу. Кроме того, мы удалили дубликаты записей. Также рассмотрели распределения и провели категоризацию признаков для более точного анализа. Теперь мы готовы к дальнейшему анализу данных."
   ]
  },
  {
   "cell_type": "markdown",
   "id": "ac69b243",
   "metadata": {
    "id": "ac69b243"
   },
   "source": [
    "## 3. Исследовательский анализ"
   ]
  },
  {
   "cell_type": "markdown",
   "id": "ee9f7222",
   "metadata": {
    "id": "ee9f7222"
   },
   "source": [
    "#### 3.1 Портреты клиентов"
   ]
  },
  {
   "cell_type": "markdown",
   "id": "d525d910",
   "metadata": {
    "id": "d525d910"
   },
   "source": [
    "Сформируем и сравним портреты клиентов, тех кто ушел и тех кто остался."
   ]
  },
  {
   "cell_type": "code",
   "execution_count": 65,
   "id": "71360ca4",
   "metadata": {
    "colab": {
     "base_uri": "https://localhost:8080/",
     "height": 670
    },
    "id": "71360ca4",
    "outputId": "ad68dc9a-1fc1-417f-b940-d8167d56c5e3"
   },
   "outputs": [
    {
     "data": {
      "text/html": [
       "<style type=\"text/css\">\n",
       "#T_df30b_row0_col0, #T_df30b_row0_col1, #T_df30b_row1_col0, #T_df30b_row1_col1, #T_df30b_row2_col0, #T_df30b_row2_col1, #T_df30b_row3_col0, #T_df30b_row3_col1, #T_df30b_row5_col0, #T_df30b_row5_col1, #T_df30b_row6_col0, #T_df30b_row6_col1, #T_df30b_row7_col0, #T_df30b_row7_col1, #T_df30b_row9_col0, #T_df30b_row9_col1, #T_df30b_row10_col0, #T_df30b_row10_col1, #T_df30b_row11_col0, #T_df30b_row11_col1 {\n",
       "  background-color: #fff7fb;\n",
       "  color: #000000;\n",
       "}\n",
       "#T_df30b_row4_col0, #T_df30b_row4_col1 {\n",
       "  background-color: #023858;\n",
       "  color: #f1f1f1;\n",
       "}\n",
       "#T_df30b_row8_col0 {\n",
       "  background-color: #dbdaeb;\n",
       "  color: #000000;\n",
       "}\n",
       "#T_df30b_row8_col1 {\n",
       "  background-color: #ebe6f2;\n",
       "  color: #000000;\n",
       "}\n",
       "</style>\n",
       "<table id=\"T_df30b\">\n",
       "  <thead>\n",
       "    <tr>\n",
       "      <th class=\"index_name level0\" >churn</th>\n",
       "      <th id=\"T_df30b_level0_col0\" class=\"col_heading level0 col0\" >0</th>\n",
       "      <th id=\"T_df30b_level0_col1\" class=\"col_heading level0 col1\" >1</th>\n",
       "    </tr>\n",
       "  </thead>\n",
       "  <tbody>\n",
       "    <tr>\n",
       "      <th id=\"T_df30b_level0_row0\" class=\"row_heading level0 row0\" >score</th>\n",
       "      <td id=\"T_df30b_row0_col0\" class=\"data row0 col0\" >845.440000</td>\n",
       "      <td id=\"T_df30b_row0_col1\" class=\"data row0 col1\" >863.360000</td>\n",
       "    </tr>\n",
       "    <tr>\n",
       "      <th id=\"T_df30b_level0_row1\" class=\"row_heading level0 row1\" >gender</th>\n",
       "      <td id=\"T_df30b_row1_col0\" class=\"data row1 col0\" >0.470000</td>\n",
       "      <td id=\"T_df30b_row1_col1\" class=\"data row1 col1\" >0.650000</td>\n",
       "    </tr>\n",
       "    <tr>\n",
       "      <th id=\"T_df30b_level0_row2\" class=\"row_heading level0 row2\" >age</th>\n",
       "      <td id=\"T_df30b_row2_col0\" class=\"data row2 col0\" >43.020000</td>\n",
       "      <td id=\"T_df30b_row2_col1\" class=\"data row2 col1\" >41.430000</td>\n",
       "    </tr>\n",
       "    <tr>\n",
       "      <th id=\"T_df30b_level0_row3\" class=\"row_heading level0 row3\" >equity</th>\n",
       "      <td id=\"T_df30b_row3_col0\" class=\"data row3 col0\" >2.380000</td>\n",
       "      <td id=\"T_df30b_row3_col1\" class=\"data row3 col1\" >3.760000</td>\n",
       "    </tr>\n",
       "    <tr>\n",
       "      <th id=\"T_df30b_level0_row4\" class=\"row_heading level0 row4\" >balance</th>\n",
       "      <td id=\"T_df30b_row4_col0\" class=\"data row4 col0\" >733789.920000</td>\n",
       "      <td id=\"T_df30b_row4_col1\" class=\"data row4 col1\" >1134458.210000</td>\n",
       "    </tr>\n",
       "    <tr>\n",
       "      <th id=\"T_df30b_level0_row5\" class=\"row_heading level0 row5\" >products</th>\n",
       "      <td id=\"T_df30b_row5_col0\" class=\"data row5 col0\" >1.760000</td>\n",
       "      <td id=\"T_df30b_row5_col1\" class=\"data row5 col1\" >2.380000</td>\n",
       "    </tr>\n",
       "    <tr>\n",
       "      <th id=\"T_df30b_level0_row6\" class=\"row_heading level0 row6\" >credit_card</th>\n",
       "      <td id=\"T_df30b_row6_col0\" class=\"data row6 col0\" >0.710000</td>\n",
       "      <td id=\"T_df30b_row6_col1\" class=\"data row6 col1\" >0.550000</td>\n",
       "    </tr>\n",
       "    <tr>\n",
       "      <th id=\"T_df30b_level0_row7\" class=\"row_heading level0 row7\" >last_activity</th>\n",
       "      <td id=\"T_df30b_row7_col0\" class=\"data row7 col0\" >0.480000</td>\n",
       "      <td id=\"T_df30b_row7_col1\" class=\"data row7 col1\" >0.700000</td>\n",
       "    </tr>\n",
       "    <tr>\n",
       "      <th id=\"T_df30b_level0_row8\" class=\"row_heading level0 row8\" >est_salary</th>\n",
       "      <td id=\"T_df30b_row8_col0\" class=\"data row8 col0\" >147788.270000</td>\n",
       "      <td id=\"T_df30b_row8_col1\" class=\"data row8 col1\" >148357.480000</td>\n",
       "    </tr>\n",
       "    <tr>\n",
       "      <th id=\"T_df30b_level0_row9\" class=\"row_heading level0 row9\" >rostov</th>\n",
       "      <td id=\"T_df30b_row9_col0\" class=\"data row9 col0\" >0.140000</td>\n",
       "      <td id=\"T_df30b_row9_col1\" class=\"data row9 col1\" >0.150000</td>\n",
       "    </tr>\n",
       "    <tr>\n",
       "      <th id=\"T_df30b_level0_row10\" class=\"row_heading level0 row10\" >rybinsk</th>\n",
       "      <td id=\"T_df30b_row10_col0\" class=\"data row10 col0\" >0.270000</td>\n",
       "      <td id=\"T_df30b_row10_col1\" class=\"data row10 col1\" >0.240000</td>\n",
       "    </tr>\n",
       "    <tr>\n",
       "      <th id=\"T_df30b_level0_row11\" class=\"row_heading level0 row11\" >yaroslavl</th>\n",
       "      <td id=\"T_df30b_row11_col0\" class=\"data row11 col0\" >0.580000</td>\n",
       "      <td id=\"T_df30b_row11_col1\" class=\"data row11 col1\" >0.610000</td>\n",
       "    </tr>\n",
       "  </tbody>\n",
       "</table>\n"
      ],
      "text/plain": [
       "<pandas.io.formats.style.Styler at 0x1e51314ee50>"
      ]
     },
     "execution_count": 65,
     "metadata": {},
     "output_type": "execute_result"
    }
   ],
   "source": [
    "# средение значения отточных и оставшиешся клиентов\n",
    "(\n",
    "    data\n",
    "    .groupby('churn')\n",
    "    .mean()\n",
    "    .round(2)\n",
    "    .T\n",
    "    ).style.background_gradient()"
   ]
  },
  {
   "cell_type": "code",
   "execution_count": 66,
   "id": "3f5a3780",
   "metadata": {
    "id": "3f5a3780"
   },
   "outputs": [
    {
     "data": {
      "text/html": [
       "<div>\n",
       "<style scoped>\n",
       "    .dataframe tbody tr th:only-of-type {\n",
       "        vertical-align: middle;\n",
       "    }\n",
       "\n",
       "    .dataframe tbody tr th {\n",
       "        vertical-align: top;\n",
       "    }\n",
       "\n",
       "    .dataframe thead th {\n",
       "        text-align: right;\n",
       "    }\n",
       "</style>\n",
       "<table border=\"1\" class=\"dataframe\">\n",
       "  <thead>\n",
       "    <tr style=\"text-align: right;\">\n",
       "      <th></th>\n",
       "      <th>user_id</th>\n",
       "      <th>score</th>\n",
       "      <th>gender</th>\n",
       "      <th>age</th>\n",
       "      <th>equity</th>\n",
       "      <th>balance</th>\n",
       "      <th>products</th>\n",
       "      <th>credit_card</th>\n",
       "      <th>last_activity</th>\n",
       "      <th>est_salary</th>\n",
       "      <th>city_name</th>\n",
       "      <th>rostov</th>\n",
       "      <th>rybinsk</th>\n",
       "      <th>yaroslavl</th>\n",
       "      <th>age_cat</th>\n",
       "      <th>bl_cat</th>\n",
       "      <th>sal_cat</th>\n",
       "      <th>score_cat</th>\n",
       "    </tr>\n",
       "  </thead>\n",
       "  <tbody>\n",
       "    <tr>\n",
       "      <th>6342</th>\n",
       "      <td>219040</td>\n",
       "      <td>821</td>\n",
       "      <td>1</td>\n",
       "      <td>36</td>\n",
       "      <td>7</td>\n",
       "      <td>330762.44</td>\n",
       "      <td>4</td>\n",
       "      <td>1</td>\n",
       "      <td>1</td>\n",
       "      <td>71874.96</td>\n",
       "      <td>рыбинск</td>\n",
       "      <td>0</td>\n",
       "      <td>1</td>\n",
       "      <td>0</td>\n",
       "      <td>25-35</td>\n",
       "      <td>&lt;500000</td>\n",
       "      <td>&lt; 120000</td>\n",
       "      <td>&lt; 840</td>\n",
       "    </tr>\n",
       "    <tr>\n",
       "      <th>8350</th>\n",
       "      <td>209895</td>\n",
       "      <td>938</td>\n",
       "      <td>0</td>\n",
       "      <td>44</td>\n",
       "      <td>0</td>\n",
       "      <td>32629.76</td>\n",
       "      <td>1</td>\n",
       "      <td>1</td>\n",
       "      <td>1</td>\n",
       "      <td>85900.77</td>\n",
       "      <td>ярославль</td>\n",
       "      <td>0</td>\n",
       "      <td>0</td>\n",
       "      <td>1</td>\n",
       "      <td>35-50</td>\n",
       "      <td>&lt;500000</td>\n",
       "      <td>&lt; 120000</td>\n",
       "      <td>840-940</td>\n",
       "    </tr>\n",
       "    <tr>\n",
       "      <th>4824</th>\n",
       "      <td>122467</td>\n",
       "      <td>826</td>\n",
       "      <td>0</td>\n",
       "      <td>51</td>\n",
       "      <td>5</td>\n",
       "      <td>1199448.02</td>\n",
       "      <td>1</td>\n",
       "      <td>1</td>\n",
       "      <td>1</td>\n",
       "      <td>473642.08</td>\n",
       "      <td>рыбинск</td>\n",
       "      <td>0</td>\n",
       "      <td>1</td>\n",
       "      <td>0</td>\n",
       "      <td>50-60</td>\n",
       "      <td>&gt;500000</td>\n",
       "      <td>&gt; 280000</td>\n",
       "      <td>&lt; 840</td>\n",
       "    </tr>\n",
       "    <tr>\n",
       "      <th>5708</th>\n",
       "      <td>162331</td>\n",
       "      <td>916</td>\n",
       "      <td>1</td>\n",
       "      <td>50</td>\n",
       "      <td>5</td>\n",
       "      <td>4362619.72</td>\n",
       "      <td>4</td>\n",
       "      <td>1</td>\n",
       "      <td>1</td>\n",
       "      <td>1022536.72</td>\n",
       "      <td>ярославль</td>\n",
       "      <td>0</td>\n",
       "      <td>0</td>\n",
       "      <td>1</td>\n",
       "      <td>50-60</td>\n",
       "      <td>&gt;500000</td>\n",
       "      <td>&gt; 280000</td>\n",
       "      <td>840-940</td>\n",
       "    </tr>\n",
       "    <tr>\n",
       "      <th>9887</th>\n",
       "      <td>167524</td>\n",
       "      <td>856</td>\n",
       "      <td>1</td>\n",
       "      <td>50</td>\n",
       "      <td>3</td>\n",
       "      <td>265390.36</td>\n",
       "      <td>2</td>\n",
       "      <td>1</td>\n",
       "      <td>1</td>\n",
       "      <td>154039.56</td>\n",
       "      <td>ярославль</td>\n",
       "      <td>0</td>\n",
       "      <td>0</td>\n",
       "      <td>1</td>\n",
       "      <td>50-60</td>\n",
       "      <td>&lt;500000</td>\n",
       "      <td>120000-220000</td>\n",
       "      <td>840-940</td>\n",
       "    </tr>\n",
       "  </tbody>\n",
       "</table>\n",
       "</div>"
      ],
      "text/plain": [
       "     user_id  score  gender  age  equity     balance  products  credit_card  \\\n",
       "6342  219040    821       1   36       7   330762.44         4            1   \n",
       "8350  209895    938       0   44       0    32629.76         1            1   \n",
       "4824  122467    826       0   51       5  1199448.02         1            1   \n",
       "5708  162331    916       1   50       5  4362619.72         4            1   \n",
       "9887  167524    856       1   50       3   265390.36         2            1   \n",
       "\n",
       "      last_activity  est_salary  city_name  rostov  rybinsk  yaroslavl  \\\n",
       "6342              1    71874.96    рыбинск       0        1          0   \n",
       "8350              1    85900.77  ярославль       0        0          1   \n",
       "4824              1   473642.08    рыбинск       0        1          0   \n",
       "5708              1  1022536.72  ярославль       0        0          1   \n",
       "9887              1   154039.56  ярославль       0        0          1   \n",
       "\n",
       "     age_cat   bl_cat        sal_cat score_cat  \n",
       "6342   25-35  <500000       < 120000     < 840  \n",
       "8350   35-50  <500000       < 120000   840-940  \n",
       "4824   50-60  >500000       > 280000     < 840  \n",
       "5708   50-60  >500000       > 280000   840-940  \n",
       "9887   50-60  <500000  120000-220000   840-940  "
      ]
     },
     "execution_count": 66,
     "metadata": {},
     "output_type": "execute_result"
    }
   ],
   "source": [
    "# формируем срез клиентов, которые ушли (отток)\n",
    "churn = data.query('churn == 1').drop('churn', axis = 1)\n",
    "\n",
    "# проверка\n",
    "churn.sample(5)"
   ]
  },
  {
   "cell_type": "code",
   "execution_count": 67,
   "id": "0f67c3ed",
   "metadata": {
    "id": "0f67c3ed"
   },
   "outputs": [
    {
     "data": {
      "text/html": [
       "<div>\n",
       "<style scoped>\n",
       "    .dataframe tbody tr th:only-of-type {\n",
       "        vertical-align: middle;\n",
       "    }\n",
       "\n",
       "    .dataframe tbody tr th {\n",
       "        vertical-align: top;\n",
       "    }\n",
       "\n",
       "    .dataframe thead th {\n",
       "        text-align: right;\n",
       "    }\n",
       "</style>\n",
       "<table border=\"1\" class=\"dataframe\">\n",
       "  <thead>\n",
       "    <tr style=\"text-align: right;\">\n",
       "      <th></th>\n",
       "      <th>user_id</th>\n",
       "      <th>score</th>\n",
       "      <th>gender</th>\n",
       "      <th>age</th>\n",
       "      <th>equity</th>\n",
       "      <th>balance</th>\n",
       "      <th>products</th>\n",
       "      <th>credit_card</th>\n",
       "      <th>last_activity</th>\n",
       "      <th>est_salary</th>\n",
       "      <th>city_name</th>\n",
       "      <th>rostov</th>\n",
       "      <th>rybinsk</th>\n",
       "      <th>yaroslavl</th>\n",
       "      <th>age_cat</th>\n",
       "      <th>bl_cat</th>\n",
       "      <th>sal_cat</th>\n",
       "      <th>score_cat</th>\n",
       "    </tr>\n",
       "  </thead>\n",
       "  <tbody>\n",
       "    <tr>\n",
       "      <th>8628</th>\n",
       "      <td>130978</td>\n",
       "      <td>785</td>\n",
       "      <td>0</td>\n",
       "      <td>74</td>\n",
       "      <td>0</td>\n",
       "      <td>NaN</td>\n",
       "      <td>1</td>\n",
       "      <td>1</td>\n",
       "      <td>1</td>\n",
       "      <td>763312.64</td>\n",
       "      <td>ярославль</td>\n",
       "      <td>0</td>\n",
       "      <td>0</td>\n",
       "      <td>1</td>\n",
       "      <td>&gt;60</td>\n",
       "      <td>&gt;500000</td>\n",
       "      <td>&gt; 280000</td>\n",
       "      <td>&lt; 840</td>\n",
       "    </tr>\n",
       "    <tr>\n",
       "      <th>3979</th>\n",
       "      <td>215702</td>\n",
       "      <td>840</td>\n",
       "      <td>1</td>\n",
       "      <td>35</td>\n",
       "      <td>5</td>\n",
       "      <td>700432.46</td>\n",
       "      <td>3</td>\n",
       "      <td>1</td>\n",
       "      <td>0</td>\n",
       "      <td>175896.13</td>\n",
       "      <td>ярославль</td>\n",
       "      <td>0</td>\n",
       "      <td>0</td>\n",
       "      <td>1</td>\n",
       "      <td>25-35</td>\n",
       "      <td>&gt;500000</td>\n",
       "      <td>120000-220000</td>\n",
       "      <td>840-940</td>\n",
       "    </tr>\n",
       "    <tr>\n",
       "      <th>3212</th>\n",
       "      <td>225733</td>\n",
       "      <td>955</td>\n",
       "      <td>1</td>\n",
       "      <td>24</td>\n",
       "      <td>0</td>\n",
       "      <td>14674.32</td>\n",
       "      <td>2</td>\n",
       "      <td>0</td>\n",
       "      <td>1</td>\n",
       "      <td>129732.61</td>\n",
       "      <td>рыбинск</td>\n",
       "      <td>0</td>\n",
       "      <td>1</td>\n",
       "      <td>0</td>\n",
       "      <td>18-24</td>\n",
       "      <td>&lt;500000</td>\n",
       "      <td>120000-220000</td>\n",
       "      <td>&gt; 940</td>\n",
       "    </tr>\n",
       "    <tr>\n",
       "      <th>3752</th>\n",
       "      <td>220936</td>\n",
       "      <td>781</td>\n",
       "      <td>0</td>\n",
       "      <td>74</td>\n",
       "      <td>3</td>\n",
       "      <td>900284.46</td>\n",
       "      <td>2</td>\n",
       "      <td>0</td>\n",
       "      <td>1</td>\n",
       "      <td>34537.18</td>\n",
       "      <td>рыбинск</td>\n",
       "      <td>0</td>\n",
       "      <td>1</td>\n",
       "      <td>0</td>\n",
       "      <td>&gt;60</td>\n",
       "      <td>&gt;500000</td>\n",
       "      <td>&lt; 120000</td>\n",
       "      <td>&lt; 840</td>\n",
       "    </tr>\n",
       "    <tr>\n",
       "      <th>2309</th>\n",
       "      <td>186938</td>\n",
       "      <td>889</td>\n",
       "      <td>0</td>\n",
       "      <td>73</td>\n",
       "      <td>4</td>\n",
       "      <td>575819.44</td>\n",
       "      <td>3</td>\n",
       "      <td>0</td>\n",
       "      <td>0</td>\n",
       "      <td>24608.76</td>\n",
       "      <td>ярославль</td>\n",
       "      <td>0</td>\n",
       "      <td>0</td>\n",
       "      <td>1</td>\n",
       "      <td>&gt;60</td>\n",
       "      <td>&gt;500000</td>\n",
       "      <td>&lt; 120000</td>\n",
       "      <td>840-940</td>\n",
       "    </tr>\n",
       "  </tbody>\n",
       "</table>\n",
       "</div>"
      ],
      "text/plain": [
       "     user_id  score  gender  age  equity    balance  products  credit_card  \\\n",
       "8628  130978    785       0   74       0        NaN         1            1   \n",
       "3979  215702    840       1   35       5  700432.46         3            1   \n",
       "3212  225733    955       1   24       0   14674.32         2            0   \n",
       "3752  220936    781       0   74       3  900284.46         2            0   \n",
       "2309  186938    889       0   73       4  575819.44         3            0   \n",
       "\n",
       "      last_activity  est_salary  city_name  rostov  rybinsk  yaroslavl  \\\n",
       "8628              1   763312.64  ярославль       0        0          1   \n",
       "3979              0   175896.13  ярославль       0        0          1   \n",
       "3212              1   129732.61    рыбинск       0        1          0   \n",
       "3752              1    34537.18    рыбинск       0        1          0   \n",
       "2309              0    24608.76  ярославль       0        0          1   \n",
       "\n",
       "     age_cat   bl_cat        sal_cat score_cat  \n",
       "8628     >60  >500000       > 280000     < 840  \n",
       "3979   25-35  >500000  120000-220000   840-940  \n",
       "3212   18-24  <500000  120000-220000     > 940  \n",
       "3752     >60  >500000       < 120000     < 840  \n",
       "2309     >60  >500000       < 120000   840-940  "
      ]
     },
     "metadata": {},
     "output_type": "display_data"
    }
   ],
   "source": [
    "# формируем срез клиентов, которые остались\n",
    "loyal = data.query('churn == 0').drop('churn', axis = 1)\n",
    "\n",
    "# проверка\n",
    "display(loyal.sample(5))"
   ]
  },
  {
   "cell_type": "code",
   "execution_count": 68,
   "id": "612a6bdd",
   "metadata": {
    "id": "612a6bdd"
   },
   "outputs": [],
   "source": [
    "def get_hist(bins):\n",
    "    '''\n",
    "функция строит блоки парных гистограм с лояльными и отчными клиентами по признакам\n",
    "    '''\n",
    "    sns.set_style(\"whitegrid\")\n",
    "    # 2 отдельные гистрограммы с лольными и отточными клиентами, которые накладываются друг на друга\n",
    "    sns.histplot(\n",
    "        data=loyal[col[i]], label='loyal', bins=bins, common_bins=True, color='#86bf91'\n",
    "    )\n",
    "    sns.histplot(\n",
    "        data=churn[col[i]], label='churn', bins=bins, common_bins=True, color='#e23b52'\n",
    "    )\n",
    "    # оформление\n",
    "    plt.title('Распределение ' + col[i], size=15)\n",
    "    plt.xlabel(col[i], size=10)\n",
    "    plt.ylabel('Частота', size=10)\n",
    "    sns.despine(left=True)\n",
    "    plt.legend()\n",
    "    if col[i] == 'products':\n",
    "        ticks = data['products'].unique()\n",
    "        plt.xticks(ticks=ticks, labels=ticks, size=10)\n",
    "    if col[i] == 'equity':\n",
    "        ticks = data['equity'].unique()\n",
    "        plt.xticks(ticks=ticks, labels=ticks, size=10)\n",
    "    if col[i] in ['gender','credit_card','last_activity']:\n",
    "        ticks = [0, 1]\n",
    "        plt.xticks(ticks=ticks, labels=ticks, size=10)"
   ]
  },
  {
   "cell_type": "code",
   "execution_count": 69,
   "id": "9946e7bb",
   "metadata": {
    "id": "9946e7bb"
   },
   "outputs": [
    {
     "data": {
      "text/plain": [
       "['gender',\n",
       " 'equity',\n",
       " 'products',\n",
       " 'credit_card',\n",
       " 'last_activity',\n",
       " 'city_name',\n",
       " 'age_cat',\n",
       " 'bl_cat',\n",
       " 'sal_cat',\n",
       " 'score_cat']"
      ]
     },
     "execution_count": 69,
     "metadata": {},
     "output_type": "execute_result"
    }
   ],
   "source": [
    "# удаляем столбцы которые не подойдут для гистограмм\n",
    "col = loyal.drop(['user_id','age','balance','est_salary','score','rostov','rybinsk','yaroslavl'], axis=1).columns\n",
    "# проверка\n",
    "list(col)"
   ]
  },
  {
   "cell_type": "code",
   "execution_count": 70,
   "id": "a2a0672a",
   "metadata": {
    "id": "a2a0672a"
   },
   "outputs": [
    {
     "data": {
      "image/png": "[encoded data removed]",
      "text/plain": [
       "<Figure size 1080x2160 with 10 Axes>"
      ]
     },
     "metadata": {},
     "output_type": "display_data"
    }
   ],
   "source": [
    "# размеры графика\n",
    "plt.figure(figsize=(15, 30))\n",
    "# цикл строит гистограммы по признаку с разным количеством корзин\n",
    "for i in range(len(col)):\n",
    "    plt.subplot(5,2,i+1)\n",
    "    if data[col[i]].nunique() <= 10:\n",
    "        get_hist(data[col[i]].nunique())\n",
    "    else:\n",
    "        get_hist(int(data[col[i]].nunique() / 10))\n",
    "plt.show()"
   ]
  },
  {
   "cell_type": "code",
   "execution_count": 71,
   "id": "ff56f2e9",
   "metadata": {
    "id": "ff56f2e9"
   },
   "outputs": [
    {
     "data": {
      "image/png": "[encoded data removed]",
      "text/plain": [
       "<Figure size 432x288 with 1 Axes>"
      ]
     },
     "metadata": {},
     "output_type": "display_data"
    }
   ],
   "source": [
    "# отдельный срез по продуктам\n",
    "sns.set_style(\"whitegrid\")\n",
    "sns.histplot(\n",
    "        data=loyal['products'], label='loyal', bins=6, common_bins=True, color='#86bf91'\n",
    "    )\n",
    "sns.histplot(\n",
    "        data=churn['products'], label='churn', bins=6, common_bins=True, color='#e23b52'\n",
    "    )\n",
    "plt.gca().add_patch(plt.Circle((4, 175), 0.3, color='yellow'))\n",
    "plt.title('Срез данных по продуктам')\n",
    "plt.ylim(0,400)\n",
    "ticks = data['products'].unique()\n",
    "plt.xticks(ticks=ticks, labels=ticks, size=10)\n",
    "plt.show()"
   ]
  },
  {
   "cell_type": "markdown",
   "id": "ca91ad1e",
   "metadata": {
    "id": "ca91ad1e"
   },
   "source": [
    "Проанализировав гистограммы, пришли к следующим выводам:\n",
    "\n",
    "- Женщин больше, но мужчины уходят чаще;\n",
    "\n",
    "- Количество клиенов больше всего без очков собственности. У них же и меньше всего доля ухода. Чем больше очков собственности, тем больше доля ухода;\n",
    "\n",
    "- Самая частое количество продуктов у клиентов – 2. Высокие доли ухода у клиентов с 4 и более продуктами. Самая большая доля у клиентов с 4 продуктами. Количество отточных сильно превышает, количество оставшиеся;\n",
    "\n",
    "- Кредитная карта, больше всего клиентов с кредитной картой. количество оттока практически одинаковая, но доля отточных клиентов без кредитной карты выше;\n",
    "\n",
    "- Активность примерно одинаковая, но доля оттока с последней активностью намного выше;\n",
    "\n",
    "- Больше всего клиентов с Ярославля и самое большое количество клиентов с Ярославля, но процент оттока выше в Ростове;\n",
    "\n",
    "- По возрасту больше всего по количеству у категории клиентов 25-35 лет. Большая доля оттока клиентов 50-60 лет. Меньше всего доля оттока у клиентов старше 60;\n",
    "\n",
    "- Чаще всего баланс клиентов состовляет более 500000, доля оттока примерно одинаковая;\n",
    "\n",
    "- Чаще всего уровень предпологаемой заработной платы клиентов стовлет до 120000, но самая большая доля оттока у клиентов с зарплатой от 120000 по 220000;\n",
    "\n",
    "- Больше всего клиентов имеют кредитный рейтинг от 840 по 940. Доля оттока таких клиентов тоже самая высокая.\n",
    "\n",
    "- При 4 оформленных продуктах отточных клиентов больше, чем оставшиеся.\n",
    "\n",
    "Подведя итоги, выделим следующие проблемные категории:\n",
    "\n",
    "- мужчины;\n",
    "- без кредитной карты;\n",
    "- 25–35 лет и 50–60  лет;\n",
    "- баланс больше 500000;\n",
    "- предположительная зарплата 120000-240000 и больше 260000;\n",
    "- c двумя и более оформленных продуктов;\n",
    "- от трёх баллов собственности;\n",
    "- рейтинг 840–940;\n",
    "- из Ярославля."
   ]
  },
  {
   "cell_type": "markdown",
   "id": "c1250b50",
   "metadata": {
    "id": "c1250b50"
   },
   "source": [
    "#### 3.2 Корреляция"
   ]
  },
  {
   "cell_type": "markdown",
   "id": "9ce69934",
   "metadata": {
    "id": "9ce69934"
   },
   "source": [
    "Далее посчитаем корреляцию между столбцами и рассмотри её с помощью тепловой карты."
   ]
  },
  {
   "cell_type": "code",
   "execution_count": 73,
   "id": "640dce1f",
   "metadata": {
    "id": "640dce1f"
   },
   "outputs": [
    {
     "data": {
      "text/html": [
       "<style type=\"text/css\">\n",
       "#T_9c002_row0_col0 {\n",
       "  background-color: #f6553c;\n",
       "  color: #f1f1f1;\n",
       "}\n",
       "#T_9c002_row1_col0 {\n",
       "  background-color: #ee3a2c;\n",
       "  color: #f1f1f1;\n",
       "}\n",
       "#T_9c002_row2_col0 {\n",
       "  background-color: #fdcebb;\n",
       "  color: #000000;\n",
       "}\n",
       "#T_9c002_row3_col0 {\n",
       "  background-color: #880811;\n",
       "  color: #f1f1f1;\n",
       "}\n",
       "#T_9c002_row4_col0 {\n",
       "  background-color: #fa6648;\n",
       "  color: #f1f1f1;\n",
       "}\n",
       "#T_9c002_row5_col0 {\n",
       "  background-color: #67000d;\n",
       "  color: #f1f1f1;\n",
       "}\n",
       "#T_9c002_row6_col0 {\n",
       "  background-color: #fff5f0;\n",
       "  color: #000000;\n",
       "}\n",
       "#T_9c002_row7_col0 {\n",
       "  background-color: #da2723;\n",
       "  color: #f1f1f1;\n",
       "}\n",
       "#T_9c002_row8_col0, #T_9c002_row9_col0 {\n",
       "  background-color: #fcaa8d;\n",
       "  color: #000000;\n",
       "}\n",
       "#T_9c002_row10_col0 {\n",
       "  background-color: #fcc1a8;\n",
       "  color: #000000;\n",
       "}\n",
       "#T_9c002_row11_col0 {\n",
       "  background-color: #fc9b7c;\n",
       "  color: #000000;\n",
       "}\n",
       "</style>\n",
       "<table id=\"T_9c002\">\n",
       "  <thead>\n",
       "    <tr>\n",
       "      <th class=\"blank level0\" >&nbsp;</th>\n",
       "      <th id=\"T_9c002_level0_col0\" class=\"col_heading level0 col0\" >churn</th>\n",
       "    </tr>\n",
       "  </thead>\n",
       "  <tbody>\n",
       "    <tr>\n",
       "      <th id=\"T_9c002_level0_row0\" class=\"row_heading level0 row0\" >score</th>\n",
       "      <td id=\"T_9c002_row0_col0\" class=\"data row0 col0\" >0.110000</td>\n",
       "    </tr>\n",
       "    <tr>\n",
       "      <th id=\"T_9c002_level0_row1\" class=\"row_heading level0 row1\" >gender</th>\n",
       "      <td id=\"T_9c002_row1_col0\" class=\"data row1 col0\" >0.140000</td>\n",
       "    </tr>\n",
       "    <tr>\n",
       "      <th id=\"T_9c002_level0_row2\" class=\"row_heading level0 row2\" >age</th>\n",
       "      <td id=\"T_9c002_row2_col0\" class=\"data row2 col0\" >-0.050000</td>\n",
       "    </tr>\n",
       "    <tr>\n",
       "      <th id=\"T_9c002_level0_row3\" class=\"row_heading level0 row3\" >equity</th>\n",
       "      <td id=\"T_9c002_row3_col0\" class=\"data row3 col0\" >0.270000</td>\n",
       "    </tr>\n",
       "    <tr>\n",
       "      <th id=\"T_9c002_level0_row4\" class=\"row_heading level0 row4\" >balance</th>\n",
       "      <td id=\"T_9c002_row4_col0\" class=\"data row4 col0\" >0.090000</td>\n",
       "    </tr>\n",
       "    <tr>\n",
       "      <th id=\"T_9c002_level0_row5\" class=\"row_heading level0 row5\" >products</th>\n",
       "      <td id=\"T_9c002_row5_col0\" class=\"data row5 col0\" >0.300000</td>\n",
       "    </tr>\n",
       "    <tr>\n",
       "      <th id=\"T_9c002_level0_row6\" class=\"row_heading level0 row6\" >credit_card</th>\n",
       "      <td id=\"T_9c002_row6_col0\" class=\"data row6 col0\" >-0.130000</td>\n",
       "    </tr>\n",
       "    <tr>\n",
       "      <th id=\"T_9c002_level0_row7\" class=\"row_heading level0 row7\" >last_activity</th>\n",
       "      <td id=\"T_9c002_row7_col0\" class=\"data row7 col0\" >0.170000</td>\n",
       "    </tr>\n",
       "    <tr>\n",
       "      <th id=\"T_9c002_level0_row8\" class=\"row_heading level0 row8\" >est_salary</th>\n",
       "      <td id=\"T_9c002_row8_col0\" class=\"data row8 col0\" >0.000000</td>\n",
       "    </tr>\n",
       "    <tr>\n",
       "      <th id=\"T_9c002_level0_row9\" class=\"row_heading level0 row9\" >rostov</th>\n",
       "      <td id=\"T_9c002_row9_col0\" class=\"data row9 col0\" >0.000000</td>\n",
       "    </tr>\n",
       "    <tr>\n",
       "      <th id=\"T_9c002_level0_row10\" class=\"row_heading level0 row10\" >rybinsk</th>\n",
       "      <td id=\"T_9c002_row10_col0\" class=\"data row10 col0\" >-0.030000</td>\n",
       "    </tr>\n",
       "    <tr>\n",
       "      <th id=\"T_9c002_level0_row11\" class=\"row_heading level0 row11\" >yaroslavl</th>\n",
       "      <td id=\"T_9c002_row11_col0\" class=\"data row11 col0\" >0.020000</td>\n",
       "    </tr>\n",
       "  </tbody>\n",
       "</table>\n"
      ],
      "text/plain": [
       "<pandas.io.formats.style.Styler at 0x1e512c9b3d0>"
      ]
     },
     "execution_count": 73,
     "metadata": {},
     "output_type": "execute_result"
    }
   ],
   "source": [
    "# создаём матрицу корреляции\n",
    "cm_churn = round(data.corr(), 2)\n",
    "\n",
    "# из матрицы выделяет только тсолбце churn и заливаем градиентом.\n",
    "pd.DataFrame(\n",
    "        cm_churn['churn']\n",
    ").drop(index='churn').style.background_gradient(cmap=\"Reds\")"
   ]
  },
  {
   "cell_type": "markdown",
   "id": "64e1b841",
   "metadata": {
    "id": "64e1b841"
   },
   "source": [
    "После подсчёта корреляции столбца churn с другими столбцами датафрейма, можно сделать вывод, что из всех признаков на уход больше всего влияют количество продуктов, баллов собственности и совсем немного признак последней активности за месяц. Соответственно, **чем больше баллов собственности и количество продуктов, тем выше уход.**"
   ]
  },
  {
   "cell_type": "markdown",
   "id": "258dd2be",
   "metadata": {
    "id": "258dd2be"
   },
   "source": [
    "#### 3.3 Статистический анализ"
   ]
  },
  {
   "cell_type": "markdown",
   "id": "f6301817",
   "metadata": {
    "id": "f6301817"
   },
   "source": [
    "Сформулируем и проверим несколько статистических гипотез относительно представленных данных, которые поможет внести ясность в исследование. Ранее мы рассматривали корреляцию признака оттока с другими признаками клиентов. Можем предположить, что баланс, предполагаемая заработная плата и кредитный рейтинг отличаются у клиентов, которые ушли, от клиентов, которые остались. До начала проверки сформулируем нулевую и альтернативные гипотезы:\n",
    "> **Нулевая гипотеза**: у лояльных и отточных клиентов уровень баланса, уровень дохода и кредитный рейтинг одинаковые.\n",
    "\n",
    "> **Альтернативная гипотеза**: у лояльных и отточных клиентов уровень баланса, уровень дохода и кредитный рейтинг разные.\n",
    "\n",
    "Далее сформируем необходимые выборки без выбросов, проверим их распределения на нормальность и посмотрим на их размеры."
   ]
  },
  {
   "cell_type": "code",
   "execution_count": 74,
   "id": "e521da44",
   "metadata": {
    "id": "e521da44"
   },
   "outputs": [],
   "source": [
    "# формируем выборки лояльных и ушедших клиентов по следующим признакам:\n",
    "\n",
    "# баланс\n",
    "bl_dist_0 = data.query('churn == 0 and balance <= 2000000')['balance']\n",
    "bl_dist_1 = data.query('churn == 1 and balance <= 2000000')['balance']\n",
    "# зарплата\n",
    "sal_dist_0 = data.query('churn == 0 and est_salary <= 320000')['est_salary']\n",
    "sal_dist_1 = data.query('churn == 1 and est_salary <= 320000')['est_salary']\n",
    "# рейтинг\n",
    "score_dist_0 = data.query('churn == 0')['score']\n",
    "score_dist_1 = data.query('churn == 1')['score']"
   ]
  },
  {
   "cell_type": "code",
   "execution_count": 75,
   "id": "86631daa",
   "metadata": {
    "id": "86631daa"
   },
   "outputs": [
    {
     "name": "stdout",
     "output_type": "stream",
     "text": [
      "Размеры выборок:\n",
      " \n",
      "Баланс лояльных кл. = 5641\n",
      "Баланс ушедших кл. = 1596\n",
      " \n",
      "Зарплата лояльных кл.  = 7694\n",
      "Зарплата ушедших кл. = 1738\n",
      " \n",
      "Рейтинг лояльных кл. = 8105\n",
      "Рейтинг ушедших кл. = 1818\n"
     ]
    }
   ],
   "source": [
    "# првоерим размеры выборок\n",
    "print(\n",
    "    'Размеры выборок:',\n",
    "    ' ',\n",
    "    f'Баланс лояльных кл. = {bl_dist_0.count()}',\n",
    "    f'Баланс ушедших кл. = {bl_dist_1.count()}',\n",
    "    ' ',\n",
    "    f'Зарплата лояльных кл.  = {sal_dist_0.count()}',\n",
    "    f'Зарплата ушедших кл. = {sal_dist_1.count()}',\n",
    "    ' ',\n",
    "    f'Рейтинг лояльных кл. = {score_dist_0.count()}',\n",
    "    f'Рейтинг ушедших кл. = {score_dist_1.count()}',\n",
    "    sep='\\n'\n",
    ")"
   ]
  },
  {
   "cell_type": "markdown",
   "id": "33d8383a",
   "metadata": {
    "id": "33d8383a"
   },
   "source": [
    "Выборки имеют достаточно большое количество значений для проведения двухвыборочный t-теста. Так как размеры выборок не равны между собой, мы можем предположить, что их дисперсии также могут отличаться, поэтому необходимо скорректировать статистический тест. Прежде чем проводить t-тест для сравнения средних, мы должны проверить распределение выборок на нормальность."
   ]
  },
  {
   "cell_type": "code",
   "execution_count": 76,
   "id": "J2izZbMraunf",
   "metadata": {
    "id": "J2izZbMraunf"
   },
   "outputs": [],
   "source": [
    "def get_kde(sample_1, sample_2, val):\n",
    "    '''\n",
    "    Функция строит совместный график распределения значений по двум выборкам.\n",
    "    '''\n",
    "    plt.figure(figsize=(15,3))\n",
    "    # общий график для двух выборок, ушедших клиентов и оставшихся\n",
    "    sns.kdeplot(data=sample_1, color='green')\n",
    "    sns.kdeplot(data=sample_2, color='red')\n",
    "    # оформление\n",
    "    plt.title(f'Распределение {val}', size=15)\n",
    "    plt.ylabel('Плотность', size=12)\n",
    "    if val == 'balance':\n",
    "        plt.xlabel('Баланс', size=12)\n",
    "    if val == 'est_salary':\n",
    "        plt.xlabel('Зарплата', size=12)\n",
    "    if val == 'score':\n",
    "        plt.xlabel('Рейтинг', size=12)\n",
    "    sns.despine(left=True, top=True)\n",
    "    plt.grid(False)\n",
    "    plt.show()"
   ]
  },
  {
   "cell_type": "code",
   "execution_count": 77,
   "id": "_aseTHsNbh5u",
   "metadata": {
    "id": "_aseTHsNbh5u"
   },
   "outputs": [
    {
     "data": {
      "image/png": "[encoded data removed]",
      "text/plain": [
       "<Figure size 1080x216 with 1 Axes>"
      ]
     },
     "metadata": {},
     "output_type": "display_data"
    },
    {
     "data": {
      "image/png": "[encoded data removed]",
      "text/plain": [
       "<Figure size 1080x216 with 1 Axes>"
      ]
     },
     "metadata": {},
     "output_type": "display_data"
    },
    {
     "data": {
      "image/png": "[encoded data removed]",
      "text/plain": [
       "<Figure size 1080x216 with 1 Axes>"
      ]
     },
     "metadata": {},
     "output_type": "display_data"
    }
   ],
   "source": [
    "# строим совместные графики по трём признакам\n",
    "get_kde(bl_dist_0, bl_dist_1, 'balance')\n",
    "get_kde(sal_dist_0, sal_dist_1, 'est_salary')\n",
    "get_kde(score_dist_0, score_dist_1, 'score')"
   ]
  },
  {
   "cell_type": "markdown",
   "id": "2f9701da",
   "metadata": {
    "id": "2f9701da"
   },
   "source": [
    "На графиках распределения значений разных признаков мы наблюдаем, что распределения, обозначенные зеленым цветом (лояльные клиенты) и красным (ушедшие клиенты) распределены нормально со смещениями вправо у распределений баланса и зарплаты, и со смещением влево у распределения рейтинга. Далее перейдем к проведению самих тестов."
   ]
  },
  {
   "cell_type": "code",
   "execution_count": 78,
   "id": "leVwa0VhdWKv",
   "metadata": {
    "id": "leVwa0VhdWKv"
   },
   "outputs": [],
   "source": [
    "def run_test(sample_1, sample_2):\n",
    "    '''\n",
    "    функция агрегирует данные и проводит ряд статистических тестов\n",
    "    '''\n",
    "    # уровень статистической значимости\n",
    "    alpha = .05\n",
    "\n",
    "    # проведение t-теста\n",
    "    '''\n",
    "    Так как дисперсии двух выборок предположительно разные,\n",
    "    устанавлием параметр equal_var=False\n",
    "    '''\n",
    "    results = st.ttest_ind(sample_1, sample_2, equal_var=False)\n",
    "\n",
    "    # вывод результатов\n",
    "    print(\n",
    "        f'Среднее по лояльным клиентам = {round(sample_1.mean(), 2)}',\n",
    "        f'Среднее по ушедшим клиентам = {round(sample_2.mean(), 2)}',\n",
    "        ' ',\n",
    "        f'p-values = {results.pvalue}',\n",
    "        sep='\\n'\n",
    "        )\n",
    "\n",
    "  # автоматический комментарий по результату теста\n",
    "    if results.pvalue < alpha:\n",
    "        print(font.BOLD,'Отвергаем нулевую гипотезу',font.END)\n",
    "    else:\n",
    "        print(font.BOLD,'Не получилось отвергнуть нулевую гипотезу',font.END)"
   ]
  },
  {
   "cell_type": "code",
   "execution_count": 79,
   "id": "--0SAoshe_q9",
   "metadata": {
    "id": "--0SAoshe_q9"
   },
   "outputs": [
    {
     "name": "stdout",
     "output_type": "stream",
     "text": [
      "Среднее по лояльным клиентам = 570555.9\n",
      "Среднее по ушедшим клиентам = 766727.87\n",
      " \n",
      "p-values = 1.609103123863959e-46\n",
      "\u001b[1m Отвергаем нулевую гипотезу \u001b[0m\n"
     ]
    }
   ],
   "source": [
    "# тест по балансу\n",
    "run_test(bl_dist_0, bl_dist_1)"
   ]
  },
  {
   "cell_type": "code",
   "execution_count": 80,
   "id": "geHqiKyufWcm",
   "metadata": {
    "id": "geHqiKyufWcm"
   },
   "outputs": [
    {
     "name": "stdout",
     "output_type": "stream",
     "text": [
      "Среднее по лояльным клиентам = 121916.64\n",
      "Среднее по ушедшим клиентам = 128633.07\n",
      " \n",
      "p-values = 6.344699802971627e-05\n",
      "\u001b[1m Отвергаем нулевую гипотезу \u001b[0m\n"
     ]
    }
   ],
   "source": [
    "# тест по зарплате\n",
    "run_test(sal_dist_0, sal_dist_1)"
   ]
  },
  {
   "cell_type": "code",
   "execution_count": 81,
   "id": "6jmPSMHYfX_8",
   "metadata": {
    "id": "6jmPSMHYfX_8"
   },
   "outputs": [
    {
     "name": "stdout",
     "output_type": "stream",
     "text": [
      "Среднее по лояльным клиентам = 845.44\n",
      "Среднее по ушедшим клиентам = 863.36\n",
      " \n",
      "p-values = 2.1836357574133553e-37\n",
      "\u001b[1m Отвергаем нулевую гипотезу \u001b[0m\n"
     ]
    }
   ],
   "source": [
    "# тест по рейтингу\n",
    "run_test(score_dist_0, score_dist_1)"
   ]
  },
  {
   "cell_type": "markdown",
   "id": "6653e44c",
   "metadata": {
    "id": "6653e44c"
   },
   "source": [
    "По результатам статистических тестов, с большей вероятностью стоит опровергнуть нулевые гипотезы, то есть мы будем ориентироваться на тот факт, что уровень баланса, зарплаты и кредитного рейтинга у лояльных клиентов и у ушедших скорее всего разный. "
   ]
  },
  {
   "cell_type": "markdown",
   "id": "7d6ea808",
   "metadata": {
    "id": "7d6ea808"
   },
   "source": [
    "В начале анализа мы рассмотрели различия значений признаков клиентов, которые ушли, и клиентов, которые остались, и выделили следующие признаки отточности:\n",
    "- мужчины;\n",
    "- без кредитной карты;\n",
    "- 25–35 лет и 50–60  лет;\n",
    "- баланс больше 500000;\n",
    "- предпол.зарплата 120000-240000 и больше 260000;\n",
    "- рейтинг 840–940;\n",
    "- из Ярославля.\n",
    "\n",
    "Далее рассчитав и рассмотрев корреляцию признаков, мы сделали следующие выводы:\n",
    "- чем больше заработная плата, тем больше баланс;\n",
    "- чем больше баллов собственности и количество продуктов, тем выше уход.\n",
    "\n",
    "И наконец проведя ряд статистических тестов и рассматривая результаты вместе с предыдущими выводами о портретах клиентов, следует предположить, что уровень баланса, зарплаты и кредитного рейтинга у лояльных клиентов и у ушедших разный. "
   ]
  },
  {
   "cell_type": "markdown",
   "id": "872d5d1c",
   "metadata": {
    "id": "872d5d1c"
   },
   "source": [
    "## 4. Сегментация"
   ]
  },
  {
   "cell_type": "markdown",
   "id": "7b3798cd",
   "metadata": {
    "id": "7b3798cd"
   },
   "source": [
    "Для формирования сегментов переберём признаки отточности, которые мы определили ранее, друг с другом и рассчитаем долю оттока. Для этого нам понадобится создать датафрейм."
   ]
  },
  {
   "cell_type": "markdown",
   "id": "cu1Xg51otVUJ",
   "metadata": {
    "id": "cu1Xg51otVUJ"
   },
   "source": [
    "Для создания датафрейма, переберём признаки отточности с помощью циклов друг с другом и посчитаем общее количество клиентов по этим признакам, количество ушедших клиентов по этим признакам и долю оттока клиентов по тем же признакам. формировать названия и считать количества будем пошагаво, записывая всё в отдельные списки. После из списков, сформируем таблицу."
   ]
  },
  {
   "cell_type": "markdown",
   "id": "FkzPGsd-uke-",
   "metadata": {
    "id": "FkzPGsd-uke-"
   },
   "source": [
    "1. Названия строк"
   ]
  },
  {
   "cell_type": "code",
   "execution_count": 82,
   "id": "ay4zOAAd4KKd",
   "metadata": {
    "id": "ay4zOAAd4KKd"
   },
   "outputs": [],
   "source": [
    "# переберем признаки и запишем наименования комбинаций в пустой список\n",
    "traits_name = []\n",
    "# признаки\n",
    "trais = [\n",
    "    'мужчины',\n",
    "    'без кредитки',\n",
    "    'с активностью',\n",
    "    'с собств.больше 2',\n",
    "    'с продуктами больше 2',\n",
    "    '50-60 лет',\n",
    "    'c балансом больше 500000',\n",
    "    'c зп 120000-220000'\n",
    "    ]\n",
    "# двойной цикл проходит пошагово два раза по одному списку\n",
    "for name_1 in trais:\n",
    "    for name_2 in trais:\n",
    "    # пропускаем действие если признаки совпадают\n",
    "        if name_1 == name_2:\n",
    "            continue\n",
    "        if name_2 == name_1:\n",
    "            continue\n",
    "        #\n",
    "        traits_name.append(f'{name_1} {name_2}')"
   ]
  },
  {
   "cell_type": "code",
   "execution_count": 83,
   "id": "8Xvq2pWQ4rFI",
   "metadata": {
    "id": "8Xvq2pWQ4rFI"
   },
   "outputs": [
    {
     "data": {
      "text/plain": [
       "56"
      ]
     },
     "execution_count": 83,
     "metadata": {},
     "output_type": "execute_result"
    }
   ],
   "source": [
    "# проверка количества значений в списке\n",
    "len(traits_name)"
   ]
  },
  {
   "cell_type": "markdown",
   "id": "zF67JNGra-7n",
   "metadata": {
    "id": "zF67JNGra-7n"
   },
   "source": [
    "2. Подсчёт общего количества клиентов"
   ]
  },
  {
   "cell_type": "code",
   "execution_count": 84,
   "id": "Fj7LIkH163FL",
   "metadata": {
    "id": "Fj7LIkH163FL"
   },
   "outputs": [],
   "source": [
    "# список признаков для пременения в конструкции query\n",
    "traits_for_query = [\n",
    "    'gender == 1',\n",
    "    'credit_card == 0',\n",
    "    'last_activity == 1',\n",
    "    'equity >= 2',\n",
    "    'products >= 2',\n",
    "    'age_cat == \"50-60\"',\n",
    "    'bl_cat == \">500000\"',\n",
    "    'sal_cat == \"120000-220000\"'\n",
    "]\n",
    "# в пустой список записываем комбинации признаков для последующих вычеслений\n",
    "total_count = []\n",
    "\n",
    "# двойной цикл проходит пошагово два раза по одному списку\n",
    "for i in traits_for_query:\n",
    "    for j in traits_for_query:\n",
    "        # пропускаем действие если признаки совпадают\n",
    "        if i == j:\n",
    "            continue\n",
    "        if j == i:\n",
    "            continue\n",
    "        # высчитываем количество клиентов с комбинацие признаков\n",
    "        count = (\n",
    "                  data\n",
    "                  .query(f'{i} and {j}')['user_id']\n",
    "                  .count()\n",
    "                  )\n",
    "        # результат записывем в отдельный список\n",
    "        total_count.append(count)"
   ]
  },
  {
   "cell_type": "code",
   "execution_count": 85,
   "id": "pdf0Tts39LHZ",
   "metadata": {
    "id": "pdf0Tts39LHZ"
   },
   "outputs": [
    {
     "data": {
      "text/plain": [
       "56"
      ]
     },
     "execution_count": 85,
     "metadata": {},
     "output_type": "execute_result"
    }
   ],
   "source": [
    "# проверка количества значений в списке\n",
    "len(total_count)"
   ]
  },
  {
   "cell_type": "markdown",
   "id": "ZRSndYecbCzC",
   "metadata": {
    "id": "ZRSndYecbCzC"
   },
   "source": [
    "3. Подсчёт ушедших клиентов"
   ]
  },
  {
   "cell_type": "code",
   "execution_count": 86,
   "id": "m-aC9RIU9u6F",
   "metadata": {
    "id": "m-aC9RIU9u6F"
   },
   "outputs": [],
   "source": [
    "# повторяем вычисления только с ушедшими клиентами\n",
    "churn_count = []\n",
    "\n",
    "for i in traits_for_query:\n",
    "    for j in traits_for_query:\n",
    "        if i == j:\n",
    "              continue\n",
    "        if j == i:\n",
    "              continue\n",
    "\n",
    "        churn = (\n",
    "                  data\n",
    "                  .query('churn == 1')\n",
    "                  .query(f'{i} and {j}')['user_id']\n",
    "                  .count()\n",
    "                  )\n",
    "        churn_count.append(churn)"
   ]
  },
  {
   "cell_type": "code",
   "execution_count": 87,
   "id": "cOHZN6_D-N3O",
   "metadata": {
    "id": "cOHZN6_D-N3O"
   },
   "outputs": [
    {
     "data": {
      "text/plain": [
       "56"
      ]
     },
     "execution_count": 87,
     "metadata": {},
     "output_type": "execute_result"
    }
   ],
   "source": [
    "# проверка количества значений в списке\n",
    "len(churn_count)"
   ]
  },
  {
   "cell_type": "code",
   "execution_count": 88,
   "id": "gBk48WMrDGgs",
   "metadata": {
    "id": "gBk48WMrDGgs"
   },
   "outputs": [
    {
     "data": {
      "text/html": [
       "<div>\n",
       "<style scoped>\n",
       "    .dataframe tbody tr th:only-of-type {\n",
       "        vertical-align: middle;\n",
       "    }\n",
       "\n",
       "    .dataframe tbody tr th {\n",
       "        vertical-align: top;\n",
       "    }\n",
       "\n",
       "    .dataframe thead th {\n",
       "        text-align: right;\n",
       "    }\n",
       "</style>\n",
       "<table border=\"1\" class=\"dataframe\">\n",
       "  <thead>\n",
       "    <tr style=\"text-align: right;\">\n",
       "      <th></th>\n",
       "      <th>names</th>\n",
       "      <th>total_count</th>\n",
       "      <th>churn_count</th>\n",
       "      <th>share</th>\n",
       "    </tr>\n",
       "  </thead>\n",
       "  <tbody>\n",
       "    <tr>\n",
       "      <th>0</th>\n",
       "      <td>мужчины без кредитки</td>\n",
       "      <td>1299</td>\n",
       "      <td>457</td>\n",
       "      <td>35.18</td>\n",
       "    </tr>\n",
       "    <tr>\n",
       "      <th>1</th>\n",
       "      <td>мужчины с активностью</td>\n",
       "      <td>2569</td>\n",
       "      <td>771</td>\n",
       "      <td>30.01</td>\n",
       "    </tr>\n",
       "    <tr>\n",
       "      <th>2</th>\n",
       "      <td>мужчины с собств.больше 2</td>\n",
       "      <td>3217</td>\n",
       "      <td>1068</td>\n",
       "      <td>33.20</td>\n",
       "    </tr>\n",
       "    <tr>\n",
       "      <th>3</th>\n",
       "      <td>мужчины с продуктами больше 2</td>\n",
       "      <td>3184</td>\n",
       "      <td>1012</td>\n",
       "      <td>31.78</td>\n",
       "    </tr>\n",
       "    <tr>\n",
       "      <th>4</th>\n",
       "      <td>мужчины 50-60 лет</td>\n",
       "      <td>775</td>\n",
       "      <td>259</td>\n",
       "      <td>33.42</td>\n",
       "    </tr>\n",
       "    <tr>\n",
       "      <th>5</th>\n",
       "      <td>мужчины c балансом больше 500000</td>\n",
       "      <td>3230</td>\n",
       "      <td>786</td>\n",
       "      <td>24.33</td>\n",
       "    </tr>\n",
       "    <tr>\n",
       "      <th>6</th>\n",
       "      <td>мужчины c зп 120000-220000</td>\n",
       "      <td>1918</td>\n",
       "      <td>475</td>\n",
       "      <td>24.77</td>\n",
       "    </tr>\n",
       "    <tr>\n",
       "      <th>7</th>\n",
       "      <td>без кредитки мужчины</td>\n",
       "      <td>1299</td>\n",
       "      <td>457</td>\n",
       "      <td>35.18</td>\n",
       "    </tr>\n",
       "    <tr>\n",
       "      <th>8</th>\n",
       "      <td>без кредитки с активностью</td>\n",
       "      <td>1740</td>\n",
       "      <td>612</td>\n",
       "      <td>35.17</td>\n",
       "    </tr>\n",
       "    <tr>\n",
       "      <th>9</th>\n",
       "      <td>без кредитки с собств.больше 2</td>\n",
       "      <td>2456</td>\n",
       "      <td>763</td>\n",
       "      <td>31.07</td>\n",
       "    </tr>\n",
       "    <tr>\n",
       "      <th>10</th>\n",
       "      <td>без кредитки с продуктами больше 2</td>\n",
       "      <td>2725</td>\n",
       "      <td>792</td>\n",
       "      <td>29.06</td>\n",
       "    </tr>\n",
       "    <tr>\n",
       "      <th>11</th>\n",
       "      <td>без кредитки 50-60 лет</td>\n",
       "      <td>703</td>\n",
       "      <td>250</td>\n",
       "      <td>35.56</td>\n",
       "    </tr>\n",
       "    <tr>\n",
       "      <th>12</th>\n",
       "      <td>без кредитки c балансом больше 500000</td>\n",
       "      <td>2098</td>\n",
       "      <td>626</td>\n",
       "      <td>29.84</td>\n",
       "    </tr>\n",
       "    <tr>\n",
       "      <th>13</th>\n",
       "      <td>без кредитки c зп 120000-220000</td>\n",
       "      <td>1147</td>\n",
       "      <td>349</td>\n",
       "      <td>30.43</td>\n",
       "    </tr>\n",
       "    <tr>\n",
       "      <th>14</th>\n",
       "      <td>с активностью мужчины</td>\n",
       "      <td>2569</td>\n",
       "      <td>771</td>\n",
       "      <td>30.01</td>\n",
       "    </tr>\n",
       "    <tr>\n",
       "      <th>15</th>\n",
       "      <td>с активностью без кредитки</td>\n",
       "      <td>1740</td>\n",
       "      <td>612</td>\n",
       "      <td>35.17</td>\n",
       "    </tr>\n",
       "    <tr>\n",
       "      <th>16</th>\n",
       "      <td>с активностью с собств.больше 2</td>\n",
       "      <td>3406</td>\n",
       "      <td>1175</td>\n",
       "      <td>34.50</td>\n",
       "    </tr>\n",
       "    <tr>\n",
       "      <th>17</th>\n",
       "      <td>с активностью с продуктами больше 2</td>\n",
       "      <td>3449</td>\n",
       "      <td>1122</td>\n",
       "      <td>32.53</td>\n",
       "    </tr>\n",
       "    <tr>\n",
       "      <th>18</th>\n",
       "      <td>с активностью 50-60 лет</td>\n",
       "      <td>918</td>\n",
       "      <td>300</td>\n",
       "      <td>32.68</td>\n",
       "    </tr>\n",
       "    <tr>\n",
       "      <th>19</th>\n",
       "      <td>с активностью c балансом больше 500000</td>\n",
       "      <td>3329</td>\n",
       "      <td>886</td>\n",
       "      <td>26.61</td>\n",
       "    </tr>\n",
       "    <tr>\n",
       "      <th>20</th>\n",
       "      <td>с активностью c зп 120000-220000</td>\n",
       "      <td>1871</td>\n",
       "      <td>521</td>\n",
       "      <td>27.85</td>\n",
       "    </tr>\n",
       "    <tr>\n",
       "      <th>21</th>\n",
       "      <td>с собств.больше 2 мужчины</td>\n",
       "      <td>3217</td>\n",
       "      <td>1068</td>\n",
       "      <td>33.20</td>\n",
       "    </tr>\n",
       "    <tr>\n",
       "      <th>22</th>\n",
       "      <td>с собств.больше 2 без кредитки</td>\n",
       "      <td>2456</td>\n",
       "      <td>763</td>\n",
       "      <td>31.07</td>\n",
       "    </tr>\n",
       "    <tr>\n",
       "      <th>23</th>\n",
       "      <td>с собств.больше 2 с активностью</td>\n",
       "      <td>3406</td>\n",
       "      <td>1175</td>\n",
       "      <td>34.50</td>\n",
       "    </tr>\n",
       "    <tr>\n",
       "      <th>24</th>\n",
       "      <td>с собств.больше 2 с продуктами больше 2</td>\n",
       "      <td>5492</td>\n",
       "      <td>1454</td>\n",
       "      <td>26.47</td>\n",
       "    </tr>\n",
       "    <tr>\n",
       "      <th>25</th>\n",
       "      <td>с собств.больше 2 50-60 лет</td>\n",
       "      <td>1213</td>\n",
       "      <td>417</td>\n",
       "      <td>34.38</td>\n",
       "    </tr>\n",
       "    <tr>\n",
       "      <th>26</th>\n",
       "      <td>с собств.больше 2 c балансом больше 500000</td>\n",
       "      <td>3937</td>\n",
       "      <td>1182</td>\n",
       "      <td>30.02</td>\n",
       "    </tr>\n",
       "    <tr>\n",
       "      <th>27</th>\n",
       "      <td>с собств.больше 2 c зп 120000-220000</td>\n",
       "      <td>2285</td>\n",
       "      <td>677</td>\n",
       "      <td>29.63</td>\n",
       "    </tr>\n",
       "    <tr>\n",
       "      <th>28</th>\n",
       "      <td>с продуктами больше 2 мужчины</td>\n",
       "      <td>3184</td>\n",
       "      <td>1012</td>\n",
       "      <td>31.78</td>\n",
       "    </tr>\n",
       "    <tr>\n",
       "      <th>29</th>\n",
       "      <td>с продуктами больше 2 без кредитки</td>\n",
       "      <td>2725</td>\n",
       "      <td>792</td>\n",
       "      <td>29.06</td>\n",
       "    </tr>\n",
       "    <tr>\n",
       "      <th>30</th>\n",
       "      <td>с продуктами больше 2 с активностью</td>\n",
       "      <td>3449</td>\n",
       "      <td>1122</td>\n",
       "      <td>32.53</td>\n",
       "    </tr>\n",
       "    <tr>\n",
       "      <th>31</th>\n",
       "      <td>с продуктами больше 2 с собств.больше 2</td>\n",
       "      <td>5492</td>\n",
       "      <td>1454</td>\n",
       "      <td>26.47</td>\n",
       "    </tr>\n",
       "    <tr>\n",
       "      <th>32</th>\n",
       "      <td>с продуктами больше 2 50-60 лет</td>\n",
       "      <td>1252</td>\n",
       "      <td>415</td>\n",
       "      <td>33.15</td>\n",
       "    </tr>\n",
       "    <tr>\n",
       "      <th>33</th>\n",
       "      <td>с продуктами больше 2 c балансом больше 500000</td>\n",
       "      <td>3765</td>\n",
       "      <td>1104</td>\n",
       "      <td>29.32</td>\n",
       "    </tr>\n",
       "    <tr>\n",
       "      <th>34</th>\n",
       "      <td>с продуктами больше 2 c зп 120000-220000</td>\n",
       "      <td>2292</td>\n",
       "      <td>664</td>\n",
       "      <td>28.97</td>\n",
       "    </tr>\n",
       "    <tr>\n",
       "      <th>35</th>\n",
       "      <td>50-60 лет мужчины</td>\n",
       "      <td>775</td>\n",
       "      <td>259</td>\n",
       "      <td>33.42</td>\n",
       "    </tr>\n",
       "    <tr>\n",
       "      <th>36</th>\n",
       "      <td>50-60 лет без кредитки</td>\n",
       "      <td>703</td>\n",
       "      <td>250</td>\n",
       "      <td>35.56</td>\n",
       "    </tr>\n",
       "    <tr>\n",
       "      <th>37</th>\n",
       "      <td>50-60 лет с активностью</td>\n",
       "      <td>918</td>\n",
       "      <td>300</td>\n",
       "      <td>32.68</td>\n",
       "    </tr>\n",
       "    <tr>\n",
       "      <th>38</th>\n",
       "      <td>50-60 лет с собств.больше 2</td>\n",
       "      <td>1213</td>\n",
       "      <td>417</td>\n",
       "      <td>34.38</td>\n",
       "    </tr>\n",
       "    <tr>\n",
       "      <th>39</th>\n",
       "      <td>50-60 лет с продуктами больше 2</td>\n",
       "      <td>1252</td>\n",
       "      <td>415</td>\n",
       "      <td>33.15</td>\n",
       "    </tr>\n",
       "    <tr>\n",
       "      <th>40</th>\n",
       "      <td>50-60 лет c балансом больше 500000</td>\n",
       "      <td>1228</td>\n",
       "      <td>340</td>\n",
       "      <td>27.69</td>\n",
       "    </tr>\n",
       "    <tr>\n",
       "      <th>41</th>\n",
       "      <td>50-60 лет c зп 120000-220000</td>\n",
       "      <td>570</td>\n",
       "      <td>156</td>\n",
       "      <td>27.37</td>\n",
       "    </tr>\n",
       "    <tr>\n",
       "      <th>42</th>\n",
       "      <td>c балансом больше 500000 мужчины</td>\n",
       "      <td>3230</td>\n",
       "      <td>786</td>\n",
       "      <td>24.33</td>\n",
       "    </tr>\n",
       "    <tr>\n",
       "      <th>43</th>\n",
       "      <td>c балансом больше 500000 без кредитки</td>\n",
       "      <td>2098</td>\n",
       "      <td>626</td>\n",
       "      <td>29.84</td>\n",
       "    </tr>\n",
       "    <tr>\n",
       "      <th>44</th>\n",
       "      <td>c балансом больше 500000 с активностью</td>\n",
       "      <td>3329</td>\n",
       "      <td>886</td>\n",
       "      <td>26.61</td>\n",
       "    </tr>\n",
       "    <tr>\n",
       "      <th>45</th>\n",
       "      <td>c балансом больше 500000 с собств.больше 2</td>\n",
       "      <td>3937</td>\n",
       "      <td>1182</td>\n",
       "      <td>30.02</td>\n",
       "    </tr>\n",
       "    <tr>\n",
       "      <th>46</th>\n",
       "      <td>c балансом больше 500000 с продуктами больше 2</td>\n",
       "      <td>3765</td>\n",
       "      <td>1104</td>\n",
       "      <td>29.32</td>\n",
       "    </tr>\n",
       "    <tr>\n",
       "      <th>47</th>\n",
       "      <td>c балансом больше 500000 50-60 лет</td>\n",
       "      <td>1228</td>\n",
       "      <td>340</td>\n",
       "      <td>27.69</td>\n",
       "    </tr>\n",
       "    <tr>\n",
       "      <th>48</th>\n",
       "      <td>c балансом больше 500000 c зп 120000-220000</td>\n",
       "      <td>2564</td>\n",
       "      <td>560</td>\n",
       "      <td>21.84</td>\n",
       "    </tr>\n",
       "    <tr>\n",
       "      <th>49</th>\n",
       "      <td>c зп 120000-220000 мужчины</td>\n",
       "      <td>1918</td>\n",
       "      <td>475</td>\n",
       "      <td>24.77</td>\n",
       "    </tr>\n",
       "    <tr>\n",
       "      <th>50</th>\n",
       "      <td>c зп 120000-220000 без кредитки</td>\n",
       "      <td>1147</td>\n",
       "      <td>349</td>\n",
       "      <td>30.43</td>\n",
       "    </tr>\n",
       "    <tr>\n",
       "      <th>51</th>\n",
       "      <td>c зп 120000-220000 с активностью</td>\n",
       "      <td>1871</td>\n",
       "      <td>521</td>\n",
       "      <td>27.85</td>\n",
       "    </tr>\n",
       "    <tr>\n",
       "      <th>52</th>\n",
       "      <td>c зп 120000-220000 с собств.больше 2</td>\n",
       "      <td>2285</td>\n",
       "      <td>677</td>\n",
       "      <td>29.63</td>\n",
       "    </tr>\n",
       "    <tr>\n",
       "      <th>53</th>\n",
       "      <td>c зп 120000-220000 с продуктами больше 2</td>\n",
       "      <td>2292</td>\n",
       "      <td>664</td>\n",
       "      <td>28.97</td>\n",
       "    </tr>\n",
       "    <tr>\n",
       "      <th>54</th>\n",
       "      <td>c зп 120000-220000 50-60 лет</td>\n",
       "      <td>570</td>\n",
       "      <td>156</td>\n",
       "      <td>27.37</td>\n",
       "    </tr>\n",
       "    <tr>\n",
       "      <th>55</th>\n",
       "      <td>c зп 120000-220000 c балансом больше 500000</td>\n",
       "      <td>2564</td>\n",
       "      <td>560</td>\n",
       "      <td>21.84</td>\n",
       "    </tr>\n",
       "  </tbody>\n",
       "</table>\n",
       "</div>"
      ],
      "text/plain": [
       "                                             names  total_count  churn_count  \\\n",
       "0                             мужчины без кредитки         1299          457   \n",
       "1                            мужчины с активностью         2569          771   \n",
       "2                        мужчины с собств.больше 2         3217         1068   \n",
       "3                    мужчины с продуктами больше 2         3184         1012   \n",
       "4                                мужчины 50-60 лет          775          259   \n",
       "5                 мужчины c балансом больше 500000         3230          786   \n",
       "6                       мужчины c зп 120000-220000         1918          475   \n",
       "7                             без кредитки мужчины         1299          457   \n",
       "8                       без кредитки с активностью         1740          612   \n",
       "9                   без кредитки с собств.больше 2         2456          763   \n",
       "10              без кредитки с продуктами больше 2         2725          792   \n",
       "11                          без кредитки 50-60 лет          703          250   \n",
       "12           без кредитки c балансом больше 500000         2098          626   \n",
       "13                 без кредитки c зп 120000-220000         1147          349   \n",
       "14                           с активностью мужчины         2569          771   \n",
       "15                      с активностью без кредитки         1740          612   \n",
       "16                 с активностью с собств.больше 2         3406         1175   \n",
       "17             с активностью с продуктами больше 2         3449         1122   \n",
       "18                         с активностью 50-60 лет          918          300   \n",
       "19          с активностью c балансом больше 500000         3329          886   \n",
       "20                с активностью c зп 120000-220000         1871          521   \n",
       "21                       с собств.больше 2 мужчины         3217         1068   \n",
       "22                  с собств.больше 2 без кредитки         2456          763   \n",
       "23                 с собств.больше 2 с активностью         3406         1175   \n",
       "24         с собств.больше 2 с продуктами больше 2         5492         1454   \n",
       "25                     с собств.больше 2 50-60 лет         1213          417   \n",
       "26      с собств.больше 2 c балансом больше 500000         3937         1182   \n",
       "27            с собств.больше 2 c зп 120000-220000         2285          677   \n",
       "28                   с продуктами больше 2 мужчины         3184         1012   \n",
       "29              с продуктами больше 2 без кредитки         2725          792   \n",
       "30             с продуктами больше 2 с активностью         3449         1122   \n",
       "31         с продуктами больше 2 с собств.больше 2         5492         1454   \n",
       "32                 с продуктами больше 2 50-60 лет         1252          415   \n",
       "33  с продуктами больше 2 c балансом больше 500000         3765         1104   \n",
       "34        с продуктами больше 2 c зп 120000-220000         2292          664   \n",
       "35                               50-60 лет мужчины          775          259   \n",
       "36                          50-60 лет без кредитки          703          250   \n",
       "37                         50-60 лет с активностью          918          300   \n",
       "38                     50-60 лет с собств.больше 2         1213          417   \n",
       "39                 50-60 лет с продуктами больше 2         1252          415   \n",
       "40              50-60 лет c балансом больше 500000         1228          340   \n",
       "41                    50-60 лет c зп 120000-220000          570          156   \n",
       "42                c балансом больше 500000 мужчины         3230          786   \n",
       "43           c балансом больше 500000 без кредитки         2098          626   \n",
       "44          c балансом больше 500000 с активностью         3329          886   \n",
       "45      c балансом больше 500000 с собств.больше 2         3937         1182   \n",
       "46  c балансом больше 500000 с продуктами больше 2         3765         1104   \n",
       "47              c балансом больше 500000 50-60 лет         1228          340   \n",
       "48     c балансом больше 500000 c зп 120000-220000         2564          560   \n",
       "49                      c зп 120000-220000 мужчины         1918          475   \n",
       "50                 c зп 120000-220000 без кредитки         1147          349   \n",
       "51                c зп 120000-220000 с активностью         1871          521   \n",
       "52            c зп 120000-220000 с собств.больше 2         2285          677   \n",
       "53        c зп 120000-220000 с продуктами больше 2         2292          664   \n",
       "54                    c зп 120000-220000 50-60 лет          570          156   \n",
       "55     c зп 120000-220000 c балансом больше 500000         2564          560   \n",
       "\n",
       "    share  \n",
       "0   35.18  \n",
       "1   30.01  \n",
       "2   33.20  \n",
       "3   31.78  \n",
       "4   33.42  \n",
       "5   24.33  \n",
       "6   24.77  \n",
       "7   35.18  \n",
       "8   35.17  \n",
       "9   31.07  \n",
       "10  29.06  \n",
       "11  35.56  \n",
       "12  29.84  \n",
       "13  30.43  \n",
       "14  30.01  \n",
       "15  35.17  \n",
       "16  34.50  \n",
       "17  32.53  \n",
       "18  32.68  \n",
       "19  26.61  \n",
       "20  27.85  \n",
       "21  33.20  \n",
       "22  31.07  \n",
       "23  34.50  \n",
       "24  26.47  \n",
       "25  34.38  \n",
       "26  30.02  \n",
       "27  29.63  \n",
       "28  31.78  \n",
       "29  29.06  \n",
       "30  32.53  \n",
       "31  26.47  \n",
       "32  33.15  \n",
       "33  29.32  \n",
       "34  28.97  \n",
       "35  33.42  \n",
       "36  35.56  \n",
       "37  32.68  \n",
       "38  34.38  \n",
       "39  33.15  \n",
       "40  27.69  \n",
       "41  27.37  \n",
       "42  24.33  \n",
       "43  29.84  \n",
       "44  26.61  \n",
       "45  30.02  \n",
       "46  29.32  \n",
       "47  27.69  \n",
       "48  21.84  \n",
       "49  24.77  \n",
       "50  30.43  \n",
       "51  27.85  \n",
       "52  29.63  \n",
       "53  28.97  \n",
       "54  27.37  \n",
       "55  21.84  "
      ]
     },
     "execution_count": 88,
     "metadata": {},
     "output_type": "execute_result"
    }
   ],
   "source": [
    "# из полученных списков формируем таблицу\n",
    "d = {\n",
    "    'names':traits_name,\n",
    "    'total_count':total_count,\n",
    "    'churn_count':churn_count\n",
    "    }\n",
    "traits_churn = pd.DataFrame(data=d)\n",
    "traits_churn['share'] = round((traits_churn['churn_count'] / traits_churn['total_count']) * 100, 2)\n",
    "traits_churn"
   ]
  },
  {
   "cell_type": "markdown",
   "id": "9ZpwyIqgX-NV",
   "metadata": {
    "id": "9ZpwyIqgX-NV"
   },
   "source": [
    "Рассмотрим медианную долю оттока для последующей фильтрации таблицы, значения меньеш которой мы удалим."
   ]
  },
  {
   "cell_type": "code",
   "execution_count": 89,
   "id": "Qf_Tg9MFEHe4",
   "metadata": {
    "id": "Qf_Tg9MFEHe4"
   },
   "outputs": [
    {
     "data": {
      "text/plain": [
       "30.015"
      ]
     },
     "execution_count": 89,
     "metadata": {},
     "output_type": "execute_result"
    }
   ],
   "source": [
    "# медианная доля оттока\n",
    "median = traits_churn['share'].median()\n",
    "median"
   ]
  },
  {
   "cell_type": "markdown",
   "id": "vnS1yzaJYMSi",
   "metadata": {
    "id": "vnS1yzaJYMSi"
   },
   "source": [
    "Теперь вычислим первый квартиль в значениях количества ушедших клиентов, для последующей фитрации."
   ]
  },
  {
   "cell_type": "code",
   "execution_count": 90,
   "id": "AO4xEC8xDq6Y",
   "metadata": {
    "id": "AO4xEC8xDq6Y"
   },
   "outputs": [
    {
     "data": {
      "text/plain": [
       "416.5"
      ]
     },
     "execution_count": 90,
     "metadata": {},
     "output_type": "execute_result"
    }
   ],
   "source": [
    "# первый квартиль по ушедшим клиентам\n",
    "q1 = np.percentile(traits_churn['churn_count'], 25)\n",
    "q1"
   ]
  },
  {
   "cell_type": "markdown",
   "id": "qlReRckbY3NZ",
   "metadata": {
    "id": "qlReRckbY3NZ"
   },
   "source": [
    "Отфильтровываем результаты, в которых количество клиентов меньше значения первого квартиля и доля оттока ниже медианной. Также удалим обнаруженные дубликаты по доли оттока, так как одни и те же признаки комбинировались в разном порядке два раза."
   ]
  },
  {
   "cell_type": "code",
   "execution_count": 91,
   "id": "znSTmKqQ5Pfd",
   "metadata": {
    "id": "znSTmKqQ5Pfd"
   },
   "outputs": [
    {
     "data": {
      "text/html": [
       "<div>\n",
       "<style scoped>\n",
       "    .dataframe tbody tr th:only-of-type {\n",
       "        vertical-align: middle;\n",
       "    }\n",
       "\n",
       "    .dataframe tbody tr th {\n",
       "        vertical-align: top;\n",
       "    }\n",
       "\n",
       "    .dataframe thead th {\n",
       "        text-align: right;\n",
       "    }\n",
       "</style>\n",
       "<table border=\"1\" class=\"dataframe\">\n",
       "  <thead>\n",
       "    <tr style=\"text-align: right;\">\n",
       "      <th></th>\n",
       "      <th>names</th>\n",
       "      <th>total_count</th>\n",
       "      <th>churn_count</th>\n",
       "      <th>share</th>\n",
       "    </tr>\n",
       "  </thead>\n",
       "  <tbody>\n",
       "    <tr>\n",
       "      <th>0</th>\n",
       "      <td>мужчины без кредитки</td>\n",
       "      <td>1299</td>\n",
       "      <td>457</td>\n",
       "      <td>35.18</td>\n",
       "    </tr>\n",
       "    <tr>\n",
       "      <th>8</th>\n",
       "      <td>без кредитки с активностью</td>\n",
       "      <td>1740</td>\n",
       "      <td>612</td>\n",
       "      <td>35.17</td>\n",
       "    </tr>\n",
       "    <tr>\n",
       "      <th>16</th>\n",
       "      <td>с активностью с собств.больше 2</td>\n",
       "      <td>3406</td>\n",
       "      <td>1175</td>\n",
       "      <td>34.50</td>\n",
       "    </tr>\n",
       "    <tr>\n",
       "      <th>25</th>\n",
       "      <td>с собств.больше 2 50-60 лет</td>\n",
       "      <td>1213</td>\n",
       "      <td>417</td>\n",
       "      <td>34.38</td>\n",
       "    </tr>\n",
       "    <tr>\n",
       "      <th>2</th>\n",
       "      <td>мужчины с собств.больше 2</td>\n",
       "      <td>3217</td>\n",
       "      <td>1068</td>\n",
       "      <td>33.20</td>\n",
       "    </tr>\n",
       "    <tr>\n",
       "      <th>17</th>\n",
       "      <td>с активностью с продуктами больше 2</td>\n",
       "      <td>3449</td>\n",
       "      <td>1122</td>\n",
       "      <td>32.53</td>\n",
       "    </tr>\n",
       "    <tr>\n",
       "      <th>3</th>\n",
       "      <td>мужчины с продуктами больше 2</td>\n",
       "      <td>3184</td>\n",
       "      <td>1012</td>\n",
       "      <td>31.78</td>\n",
       "    </tr>\n",
       "    <tr>\n",
       "      <th>9</th>\n",
       "      <td>без кредитки с собств.больше 2</td>\n",
       "      <td>2456</td>\n",
       "      <td>763</td>\n",
       "      <td>31.07</td>\n",
       "    </tr>\n",
       "    <tr>\n",
       "      <th>26</th>\n",
       "      <td>с собств.больше 2 c балансом больше 500000</td>\n",
       "      <td>3937</td>\n",
       "      <td>1182</td>\n",
       "      <td>30.02</td>\n",
       "    </tr>\n",
       "  </tbody>\n",
       "</table>\n",
       "</div>"
      ],
      "text/plain": [
       "                                         names  total_count  churn_count  \\\n",
       "0                         мужчины без кредитки         1299          457   \n",
       "8                   без кредитки с активностью         1740          612   \n",
       "16             с активностью с собств.больше 2         3406         1175   \n",
       "25                 с собств.больше 2 50-60 лет         1213          417   \n",
       "2                    мужчины с собств.больше 2         3217         1068   \n",
       "17         с активностью с продуктами больше 2         3449         1122   \n",
       "3                мужчины с продуктами больше 2         3184         1012   \n",
       "9               без кредитки с собств.больше 2         2456          763   \n",
       "26  с собств.больше 2 c балансом больше 500000         3937         1182   \n",
       "\n",
       "    share  \n",
       "0   35.18  \n",
       "8   35.17  \n",
       "16  34.50  \n",
       "25  34.38  \n",
       "2   33.20  \n",
       "17  32.53  \n",
       "3   31.78  \n",
       "9   31.07  \n",
       "26  30.02  "
      ]
     },
     "execution_count": 91,
     "metadata": {},
     "output_type": "execute_result"
    }
   ],
   "source": [
    "# фильтрация\n",
    "traits_churn_filtr = (\n",
    "    traits_churn\n",
    "    .query('churn_count >= @q1 and share >= @median')\n",
    "    .drop_duplicates(subset='share')\n",
    "    .sort_values(by='share', ascending=False)\n",
    "    )\n",
    "traits_churn_filtr"
   ]
  },
  {
   "cell_type": "markdown",
   "id": "fm_VgrHRZurH",
   "metadata": {
    "id": "fm_VgrHRZurH"
   },
   "source": [
    "Для более точного формулирования сегментов, полученные комбинации скомбинируем еще по одному списку признаков."
   ]
  },
  {
   "cell_type": "markdown",
   "id": "oeH7inMEbji3",
   "metadata": {
    "id": "oeH7inMEbji3"
   },
   "source": [
    "Второй \"тур\" комбинирования.\n",
    "1. Названия строк"
   ]
  },
  {
   "cell_type": "code",
   "execution_count": 92,
   "id": "RsLMdBUj-399",
   "metadata": {
    "id": "RsLMdBUj-399"
   },
   "outputs": [],
   "source": [
    "# список полученных ранее наименований комбинаций\n",
    "traits_name_2 = [\n",
    "    'мужчины без кредитки',\n",
    "    'без кредитки с активностью',\n",
    "    'от 2 объектов с активностью',\n",
    "    'мужчины от 2 объектов',\n",
    "    'с активностью от 2 продуктов',\n",
    "    'мужчины от 2 продуктов,',\n",
    "    'без кредитки от 2 объектов',\n",
    "    'мужчины с активностью',\n",
    "    'от 2 объектов баланс больше 500000'\n",
    "]\n",
    "\n",
    "# список с новыми признаками\n",
    "trait_name_3th = [\n",
    "    'мужчины',\n",
    "    'без кредитки',\n",
    "    'с активностью',\n",
    "    'от 2 объектов',\n",
    "    'от 2 продуктов',\n",
    "    'баланс больше 500000'\n",
    "    ]\n",
    "# записываем наименования новых комбинаций в пустой список\n",
    "new_traits_name = []\n",
    "# запускаем двойной цикл, который записывает наименования кобинаций признаков\n",
    "for name_3 in traits_name_2:\n",
    "    for name_4 in trait_name_3th:\n",
    "        new_traits_name.append(f'{name_3} {name_4}')"
   ]
  },
  {
   "cell_type": "code",
   "execution_count": 93,
   "id": "c2HQhioFFrpR",
   "metadata": {
    "id": "c2HQhioFFrpR"
   },
   "outputs": [
    {
     "data": {
      "text/plain": [
       "54"
      ]
     },
     "execution_count": 93,
     "metadata": {},
     "output_type": "execute_result"
    }
   ],
   "source": [
    "# проверка количества значений в списке\n",
    "len(new_traits_name)"
   ]
  },
  {
   "cell_type": "markdown",
   "id": "UXYg1In7dGKS",
   "metadata": {
    "id": "UXYg1In7dGKS"
   },
   "source": [
    "2. Подсчёт общего количества клиентов"
   ]
  },
  {
   "cell_type": "code",
   "execution_count": 94,
   "id": "ycfpuXxk7kAq",
   "metadata": {
    "cellView": "code",
    "id": "ycfpuXxk7kAq"
   },
   "outputs": [],
   "source": [
    "# список признаков для пременения в конструкции query\n",
    "\n",
    "# список кобинаций сформулированный ранее\n",
    "traits_for_query_2 = [\n",
    "    'gender == 1 and credit_card == 0',\n",
    "    'credit_card == 0 and last_activity == 1',\n",
    "    'equity >= 2 and last_activity == 1',\n",
    "    'equity >= 2 and gender == 1',\n",
    "    'last_activity == 1 and products >= 2',\n",
    "    'gender == 1 and products >= 2',\n",
    "    'credit_card == 0 and equity >= 2',\n",
    "    'last_activity == 1 and gender == 1',\n",
    "    'equity >= 2 and bl_cat == \">500000\"',\n",
    "            ]\n",
    "# новый список на основе резултатов комбинации\n",
    "trait_for_query_3th = [\n",
    "    'gender == 1',\n",
    "    'credit_card == 0',\n",
    "    'last_activity == 1',\n",
    "    'equity >= 2',\n",
    "    'products >= 2',\n",
    "    'bl_cat == \">500000\"'\n",
    "]"
   ]
  },
  {
   "cell_type": "code",
   "execution_count": 95,
   "id": "_DWH3lLl-JbF",
   "metadata": {
    "id": "_DWH3lLl-JbF"
   },
   "outputs": [],
   "source": [
    "# комбинируем признаки, считаем общее количество клиентов и записываем в пустой список\n",
    "total_count_2 = []\n",
    "\n",
    "for i in traits_for_query_2:\n",
    "    for j in trait_for_query_3th:\n",
    "        count = (\n",
    "                  data\n",
    "                  .query(f'{i} and {j}')['user_id']\n",
    "                  .count()\n",
    "                  )\n",
    "        total_count_2.append(count)"
   ]
  },
  {
   "cell_type": "code",
   "execution_count": 96,
   "id": "0d7DnbnSFys-",
   "metadata": {
    "id": "0d7DnbnSFys-"
   },
   "outputs": [
    {
     "data": {
      "text/plain": [
       "54"
      ]
     },
     "execution_count": 96,
     "metadata": {},
     "output_type": "execute_result"
    }
   ],
   "source": [
    "# проверка количества значений в списке\n",
    "len(total_count_2)"
   ]
  },
  {
   "cell_type": "code",
   "execution_count": 97,
   "id": "UsNlzpsRCDcZ",
   "metadata": {
    "id": "UsNlzpsRCDcZ"
   },
   "outputs": [],
   "source": [
    "# комбинируем признаки, считаем количество отточных клиентов и записываем в пустой список\n",
    "churn_count_2 = []\n",
    "\n",
    "for i in traits_for_query_2:\n",
    "    for j in trait_for_query_3th:\n",
    "        churn_count = (\n",
    "                  data\n",
    "                  .query('churn == 1')\n",
    "                  .query(f'{i} and {j}')['user_id']\n",
    "                  .count()\n",
    "                  )\n",
    "        churn_count_2.append(churn_count)"
   ]
  },
  {
   "cell_type": "code",
   "execution_count": 98,
   "id": "sGnTCJQPIs1d",
   "metadata": {
    "id": "sGnTCJQPIs1d"
   },
   "outputs": [
    {
     "data": {
      "text/plain": [
       "54"
      ]
     },
     "execution_count": 98,
     "metadata": {},
     "output_type": "execute_result"
    }
   ],
   "source": [
    "# проверка количества значений в списке\n",
    "len(churn_count_2)"
   ]
  },
  {
   "cell_type": "code",
   "execution_count": 99,
   "id": "RNwCNBuxCsFB",
   "metadata": {
    "id": "RNwCNBuxCsFB"
   },
   "outputs": [
    {
     "data": {
      "text/html": [
       "<div>\n",
       "<style scoped>\n",
       "    .dataframe tbody tr th:only-of-type {\n",
       "        vertical-align: middle;\n",
       "    }\n",
       "\n",
       "    .dataframe tbody tr th {\n",
       "        vertical-align: top;\n",
       "    }\n",
       "\n",
       "    .dataframe thead th {\n",
       "        text-align: right;\n",
       "    }\n",
       "</style>\n",
       "<table border=\"1\" class=\"dataframe\">\n",
       "  <thead>\n",
       "    <tr style=\"text-align: right;\">\n",
       "      <th></th>\n",
       "      <th>names</th>\n",
       "      <th>total_count</th>\n",
       "      <th>churn_count</th>\n",
       "      <th>share</th>\n",
       "    </tr>\n",
       "  </thead>\n",
       "  <tbody>\n",
       "    <tr>\n",
       "      <th>0</th>\n",
       "      <td>мужчины без кредитки мужчины</td>\n",
       "      <td>1299</td>\n",
       "      <td>457</td>\n",
       "      <td>35.18</td>\n",
       "    </tr>\n",
       "    <tr>\n",
       "      <th>1</th>\n",
       "      <td>мужчины без кредитки без кредитки</td>\n",
       "      <td>1299</td>\n",
       "      <td>457</td>\n",
       "      <td>35.18</td>\n",
       "    </tr>\n",
       "    <tr>\n",
       "      <th>2</th>\n",
       "      <td>мужчины без кредитки с активностью</td>\n",
       "      <td>717</td>\n",
       "      <td>302</td>\n",
       "      <td>42.12</td>\n",
       "    </tr>\n",
       "    <tr>\n",
       "      <th>3</th>\n",
       "      <td>мужчины без кредитки от 2 объектов</td>\n",
       "      <td>997</td>\n",
       "      <td>440</td>\n",
       "      <td>44.13</td>\n",
       "    </tr>\n",
       "    <tr>\n",
       "      <th>4</th>\n",
       "      <td>мужчины без кредитки от 2 продуктов</td>\n",
       "      <td>1076</td>\n",
       "      <td>445</td>\n",
       "      <td>41.36</td>\n",
       "    </tr>\n",
       "    <tr>\n",
       "      <th>5</th>\n",
       "      <td>мужчины без кредитки баланс больше 500000</td>\n",
       "      <td>938</td>\n",
       "      <td>376</td>\n",
       "      <td>40.09</td>\n",
       "    </tr>\n",
       "    <tr>\n",
       "      <th>6</th>\n",
       "      <td>без кредитки с активностью мужчины</td>\n",
       "      <td>717</td>\n",
       "      <td>302</td>\n",
       "      <td>42.12</td>\n",
       "    </tr>\n",
       "    <tr>\n",
       "      <th>7</th>\n",
       "      <td>без кредитки с активностью без кредитки</td>\n",
       "      <td>1740</td>\n",
       "      <td>612</td>\n",
       "      <td>35.17</td>\n",
       "    </tr>\n",
       "    <tr>\n",
       "      <th>8</th>\n",
       "      <td>без кредитки с активностью с активностью</td>\n",
       "      <td>1740</td>\n",
       "      <td>612</td>\n",
       "      <td>35.17</td>\n",
       "    </tr>\n",
       "    <tr>\n",
       "      <th>9</th>\n",
       "      <td>без кредитки с активностью от 2 объектов</td>\n",
       "      <td>1355</td>\n",
       "      <td>580</td>\n",
       "      <td>42.80</td>\n",
       "    </tr>\n",
       "    <tr>\n",
       "      <th>10</th>\n",
       "      <td>без кредитки с активностью от 2 продуктов</td>\n",
       "      <td>1485</td>\n",
       "      <td>600</td>\n",
       "      <td>40.40</td>\n",
       "    </tr>\n",
       "    <tr>\n",
       "      <th>11</th>\n",
       "      <td>без кредитки с активностью баланс больше 500000</td>\n",
       "      <td>1161</td>\n",
       "      <td>474</td>\n",
       "      <td>40.83</td>\n",
       "    </tr>\n",
       "    <tr>\n",
       "      <th>12</th>\n",
       "      <td>от 2 объектов с активностью мужчины</td>\n",
       "      <td>1637</td>\n",
       "      <td>714</td>\n",
       "      <td>43.62</td>\n",
       "    </tr>\n",
       "    <tr>\n",
       "      <th>13</th>\n",
       "      <td>от 2 объектов с активностью без кредитки</td>\n",
       "      <td>1355</td>\n",
       "      <td>580</td>\n",
       "      <td>42.80</td>\n",
       "    </tr>\n",
       "    <tr>\n",
       "      <th>14</th>\n",
       "      <td>от 2 объектов с активностью с активностью</td>\n",
       "      <td>3406</td>\n",
       "      <td>1175</td>\n",
       "      <td>34.50</td>\n",
       "    </tr>\n",
       "    <tr>\n",
       "      <th>15</th>\n",
       "      <td>от 2 объектов с активностью от 2 объектов</td>\n",
       "      <td>3406</td>\n",
       "      <td>1175</td>\n",
       "      <td>34.50</td>\n",
       "    </tr>\n",
       "    <tr>\n",
       "      <th>16</th>\n",
       "      <td>от 2 объектов с активностью от 2 продуктов</td>\n",
       "      <td>2867</td>\n",
       "      <td>1041</td>\n",
       "      <td>36.31</td>\n",
       "    </tr>\n",
       "    <tr>\n",
       "      <th>17</th>\n",
       "      <td>от 2 объектов с активностью баланс больше 500000</td>\n",
       "      <td>2056</td>\n",
       "      <td>875</td>\n",
       "      <td>42.56</td>\n",
       "    </tr>\n",
       "    <tr>\n",
       "      <th>18</th>\n",
       "      <td>мужчины от 2 объектов мужчины</td>\n",
       "      <td>3217</td>\n",
       "      <td>1068</td>\n",
       "      <td>33.20</td>\n",
       "    </tr>\n",
       "    <tr>\n",
       "      <th>19</th>\n",
       "      <td>мужчины от 2 объектов без кредитки</td>\n",
       "      <td>997</td>\n",
       "      <td>440</td>\n",
       "      <td>44.13</td>\n",
       "    </tr>\n",
       "    <tr>\n",
       "      <th>20</th>\n",
       "      <td>мужчины от 2 объектов с активностью</td>\n",
       "      <td>1637</td>\n",
       "      <td>714</td>\n",
       "      <td>43.62</td>\n",
       "    </tr>\n",
       "    <tr>\n",
       "      <th>21</th>\n",
       "      <td>мужчины от 2 объектов от 2 объектов</td>\n",
       "      <td>3217</td>\n",
       "      <td>1068</td>\n",
       "      <td>33.20</td>\n",
       "    </tr>\n",
       "    <tr>\n",
       "      <th>22</th>\n",
       "      <td>мужчины от 2 объектов от 2 продуктов</td>\n",
       "      <td>2637</td>\n",
       "      <td>932</td>\n",
       "      <td>35.34</td>\n",
       "    </tr>\n",
       "    <tr>\n",
       "      <th>23</th>\n",
       "      <td>мужчины от 2 объектов баланс больше 500000</td>\n",
       "      <td>1942</td>\n",
       "      <td>771</td>\n",
       "      <td>39.70</td>\n",
       "    </tr>\n",
       "    <tr>\n",
       "      <th>24</th>\n",
       "      <td>с активностью от 2 продуктов мужчины</td>\n",
       "      <td>1624</td>\n",
       "      <td>662</td>\n",
       "      <td>40.76</td>\n",
       "    </tr>\n",
       "    <tr>\n",
       "      <th>25</th>\n",
       "      <td>с активностью от 2 продуктов без кредитки</td>\n",
       "      <td>1485</td>\n",
       "      <td>600</td>\n",
       "      <td>40.40</td>\n",
       "    </tr>\n",
       "    <tr>\n",
       "      <th>26</th>\n",
       "      <td>с активностью от 2 продуктов с активностью</td>\n",
       "      <td>3449</td>\n",
       "      <td>1122</td>\n",
       "      <td>32.53</td>\n",
       "    </tr>\n",
       "    <tr>\n",
       "      <th>27</th>\n",
       "      <td>с активностью от 2 продуктов от 2 объектов</td>\n",
       "      <td>2867</td>\n",
       "      <td>1041</td>\n",
       "      <td>36.31</td>\n",
       "    </tr>\n",
       "    <tr>\n",
       "      <th>28</th>\n",
       "      <td>с активностью от 2 продуктов от 2 продуктов</td>\n",
       "      <td>3449</td>\n",
       "      <td>1122</td>\n",
       "      <td>32.53</td>\n",
       "    </tr>\n",
       "    <tr>\n",
       "      <th>29</th>\n",
       "      <td>с активностью от 2 продуктов баланс больше 500000</td>\n",
       "      <td>1991</td>\n",
       "      <td>807</td>\n",
       "      <td>40.53</td>\n",
       "    </tr>\n",
       "    <tr>\n",
       "      <th>30</th>\n",
       "      <td>мужчины от 2 продуктов, мужчины</td>\n",
       "      <td>3184</td>\n",
       "      <td>1012</td>\n",
       "      <td>31.78</td>\n",
       "    </tr>\n",
       "    <tr>\n",
       "      <th>31</th>\n",
       "      <td>мужчины от 2 продуктов, без кредитки</td>\n",
       "      <td>1076</td>\n",
       "      <td>445</td>\n",
       "      <td>41.36</td>\n",
       "    </tr>\n",
       "    <tr>\n",
       "      <th>32</th>\n",
       "      <td>мужчины от 2 продуктов, с активностью</td>\n",
       "      <td>1624</td>\n",
       "      <td>662</td>\n",
       "      <td>40.76</td>\n",
       "    </tr>\n",
       "    <tr>\n",
       "      <th>33</th>\n",
       "      <td>мужчины от 2 продуктов, от 2 объектов</td>\n",
       "      <td>2637</td>\n",
       "      <td>932</td>\n",
       "      <td>35.34</td>\n",
       "    </tr>\n",
       "    <tr>\n",
       "      <th>34</th>\n",
       "      <td>мужчины от 2 продуктов, от 2 продуктов</td>\n",
       "      <td>3184</td>\n",
       "      <td>1012</td>\n",
       "      <td>31.78</td>\n",
       "    </tr>\n",
       "    <tr>\n",
       "      <th>35</th>\n",
       "      <td>мужчины от 2 продуктов, баланс больше 500000</td>\n",
       "      <td>1859</td>\n",
       "      <td>710</td>\n",
       "      <td>38.19</td>\n",
       "    </tr>\n",
       "    <tr>\n",
       "      <th>36</th>\n",
       "      <td>без кредитки от 2 объектов мужчины</td>\n",
       "      <td>997</td>\n",
       "      <td>440</td>\n",
       "      <td>44.13</td>\n",
       "    </tr>\n",
       "    <tr>\n",
       "      <th>37</th>\n",
       "      <td>без кредитки от 2 объектов без кредитки</td>\n",
       "      <td>2456</td>\n",
       "      <td>763</td>\n",
       "      <td>31.07</td>\n",
       "    </tr>\n",
       "    <tr>\n",
       "      <th>38</th>\n",
       "      <td>без кредитки от 2 объектов с активностью</td>\n",
       "      <td>1355</td>\n",
       "      <td>580</td>\n",
       "      <td>42.80</td>\n",
       "    </tr>\n",
       "    <tr>\n",
       "      <th>39</th>\n",
       "      <td>без кредитки от 2 объектов от 2 объектов</td>\n",
       "      <td>2456</td>\n",
       "      <td>763</td>\n",
       "      <td>31.07</td>\n",
       "    </tr>\n",
       "    <tr>\n",
       "      <th>40</th>\n",
       "      <td>без кредитки от 2 объектов от 2 продуктов</td>\n",
       "      <td>2380</td>\n",
       "      <td>748</td>\n",
       "      <td>31.43</td>\n",
       "    </tr>\n",
       "    <tr>\n",
       "      <th>41</th>\n",
       "      <td>без кредитки от 2 объектов баланс больше 500000</td>\n",
       "      <td>1659</td>\n",
       "      <td>623</td>\n",
       "      <td>37.55</td>\n",
       "    </tr>\n",
       "    <tr>\n",
       "      <th>42</th>\n",
       "      <td>мужчины с активностью мужчины</td>\n",
       "      <td>2569</td>\n",
       "      <td>771</td>\n",
       "      <td>30.01</td>\n",
       "    </tr>\n",
       "    <tr>\n",
       "      <th>43</th>\n",
       "      <td>мужчины с активностью без кредитки</td>\n",
       "      <td>717</td>\n",
       "      <td>302</td>\n",
       "      <td>42.12</td>\n",
       "    </tr>\n",
       "    <tr>\n",
       "      <th>44</th>\n",
       "      <td>мужчины с активностью с активностью</td>\n",
       "      <td>2569</td>\n",
       "      <td>771</td>\n",
       "      <td>30.01</td>\n",
       "    </tr>\n",
       "    <tr>\n",
       "      <th>45</th>\n",
       "      <td>мужчины с активностью от 2 объектов</td>\n",
       "      <td>1637</td>\n",
       "      <td>714</td>\n",
       "      <td>43.62</td>\n",
       "    </tr>\n",
       "    <tr>\n",
       "      <th>46</th>\n",
       "      <td>мужчины с активностью от 2 продуктов</td>\n",
       "      <td>1624</td>\n",
       "      <td>662</td>\n",
       "      <td>40.76</td>\n",
       "    </tr>\n",
       "    <tr>\n",
       "      <th>47</th>\n",
       "      <td>мужчины с активностью баланс больше 500000</td>\n",
       "      <td>1715</td>\n",
       "      <td>541</td>\n",
       "      <td>31.55</td>\n",
       "    </tr>\n",
       "    <tr>\n",
       "      <th>48</th>\n",
       "      <td>от 2 объектов баланс больше 500000 мужчины</td>\n",
       "      <td>1942</td>\n",
       "      <td>771</td>\n",
       "      <td>39.70</td>\n",
       "    </tr>\n",
       "    <tr>\n",
       "      <th>49</th>\n",
       "      <td>от 2 объектов баланс больше 500000 без кредитки</td>\n",
       "      <td>1659</td>\n",
       "      <td>623</td>\n",
       "      <td>37.55</td>\n",
       "    </tr>\n",
       "    <tr>\n",
       "      <th>50</th>\n",
       "      <td>от 2 объектов баланс больше 500000 с активностью</td>\n",
       "      <td>2056</td>\n",
       "      <td>875</td>\n",
       "      <td>42.56</td>\n",
       "    </tr>\n",
       "    <tr>\n",
       "      <th>51</th>\n",
       "      <td>от 2 объектов баланс больше 500000 от 2 объектов</td>\n",
       "      <td>3937</td>\n",
       "      <td>1182</td>\n",
       "      <td>30.02</td>\n",
       "    </tr>\n",
       "    <tr>\n",
       "      <th>52</th>\n",
       "      <td>от 2 объектов баланс больше 500000 от 2 продуктов</td>\n",
       "      <td>3385</td>\n",
       "      <td>1093</td>\n",
       "      <td>32.29</td>\n",
       "    </tr>\n",
       "    <tr>\n",
       "      <th>53</th>\n",
       "      <td>от 2 объектов баланс больше 500000 баланс боль...</td>\n",
       "      <td>3937</td>\n",
       "      <td>1182</td>\n",
       "      <td>30.02</td>\n",
       "    </tr>\n",
       "  </tbody>\n",
       "</table>\n",
       "</div>"
      ],
      "text/plain": [
       "                                                names  total_count  \\\n",
       "0                        мужчины без кредитки мужчины         1299   \n",
       "1                   мужчины без кредитки без кредитки         1299   \n",
       "2                  мужчины без кредитки с активностью          717   \n",
       "3                  мужчины без кредитки от 2 объектов          997   \n",
       "4                 мужчины без кредитки от 2 продуктов         1076   \n",
       "5           мужчины без кредитки баланс больше 500000          938   \n",
       "6                  без кредитки с активностью мужчины          717   \n",
       "7             без кредитки с активностью без кредитки         1740   \n",
       "8            без кредитки с активностью с активностью         1740   \n",
       "9            без кредитки с активностью от 2 объектов         1355   \n",
       "10          без кредитки с активностью от 2 продуктов         1485   \n",
       "11    без кредитки с активностью баланс больше 500000         1161   \n",
       "12                от 2 объектов с активностью мужчины         1637   \n",
       "13           от 2 объектов с активностью без кредитки         1355   \n",
       "14          от 2 объектов с активностью с активностью         3406   \n",
       "15          от 2 объектов с активностью от 2 объектов         3406   \n",
       "16         от 2 объектов с активностью от 2 продуктов         2867   \n",
       "17   от 2 объектов с активностью баланс больше 500000         2056   \n",
       "18                      мужчины от 2 объектов мужчины         3217   \n",
       "19                 мужчины от 2 объектов без кредитки          997   \n",
       "20                мужчины от 2 объектов с активностью         1637   \n",
       "21                мужчины от 2 объектов от 2 объектов         3217   \n",
       "22               мужчины от 2 объектов от 2 продуктов         2637   \n",
       "23         мужчины от 2 объектов баланс больше 500000         1942   \n",
       "24               с активностью от 2 продуктов мужчины         1624   \n",
       "25          с активностью от 2 продуктов без кредитки         1485   \n",
       "26         с активностью от 2 продуктов с активностью         3449   \n",
       "27         с активностью от 2 продуктов от 2 объектов         2867   \n",
       "28        с активностью от 2 продуктов от 2 продуктов         3449   \n",
       "29  с активностью от 2 продуктов баланс больше 500000         1991   \n",
       "30                    мужчины от 2 продуктов, мужчины         3184   \n",
       "31               мужчины от 2 продуктов, без кредитки         1076   \n",
       "32              мужчины от 2 продуктов, с активностью         1624   \n",
       "33              мужчины от 2 продуктов, от 2 объектов         2637   \n",
       "34             мужчины от 2 продуктов, от 2 продуктов         3184   \n",
       "35       мужчины от 2 продуктов, баланс больше 500000         1859   \n",
       "36                 без кредитки от 2 объектов мужчины          997   \n",
       "37            без кредитки от 2 объектов без кредитки         2456   \n",
       "38           без кредитки от 2 объектов с активностью         1355   \n",
       "39           без кредитки от 2 объектов от 2 объектов         2456   \n",
       "40          без кредитки от 2 объектов от 2 продуктов         2380   \n",
       "41    без кредитки от 2 объектов баланс больше 500000         1659   \n",
       "42                      мужчины с активностью мужчины         2569   \n",
       "43                 мужчины с активностью без кредитки          717   \n",
       "44                мужчины с активностью с активностью         2569   \n",
       "45                мужчины с активностью от 2 объектов         1637   \n",
       "46               мужчины с активностью от 2 продуктов         1624   \n",
       "47         мужчины с активностью баланс больше 500000         1715   \n",
       "48         от 2 объектов баланс больше 500000 мужчины         1942   \n",
       "49    от 2 объектов баланс больше 500000 без кредитки         1659   \n",
       "50   от 2 объектов баланс больше 500000 с активностью         2056   \n",
       "51   от 2 объектов баланс больше 500000 от 2 объектов         3937   \n",
       "52  от 2 объектов баланс больше 500000 от 2 продуктов         3385   \n",
       "53  от 2 объектов баланс больше 500000 баланс боль...         3937   \n",
       "\n",
       "    churn_count  share  \n",
       "0           457  35.18  \n",
       "1           457  35.18  \n",
       "2           302  42.12  \n",
       "3           440  44.13  \n",
       "4           445  41.36  \n",
       "5           376  40.09  \n",
       "6           302  42.12  \n",
       "7           612  35.17  \n",
       "8           612  35.17  \n",
       "9           580  42.80  \n",
       "10          600  40.40  \n",
       "11          474  40.83  \n",
       "12          714  43.62  \n",
       "13          580  42.80  \n",
       "14         1175  34.50  \n",
       "15         1175  34.50  \n",
       "16         1041  36.31  \n",
       "17          875  42.56  \n",
       "18         1068  33.20  \n",
       "19          440  44.13  \n",
       "20          714  43.62  \n",
       "21         1068  33.20  \n",
       "22          932  35.34  \n",
       "23          771  39.70  \n",
       "24          662  40.76  \n",
       "25          600  40.40  \n",
       "26         1122  32.53  \n",
       "27         1041  36.31  \n",
       "28         1122  32.53  \n",
       "29          807  40.53  \n",
       "30         1012  31.78  \n",
       "31          445  41.36  \n",
       "32          662  40.76  \n",
       "33          932  35.34  \n",
       "34         1012  31.78  \n",
       "35          710  38.19  \n",
       "36          440  44.13  \n",
       "37          763  31.07  \n",
       "38          580  42.80  \n",
       "39          763  31.07  \n",
       "40          748  31.43  \n",
       "41          623  37.55  \n",
       "42          771  30.01  \n",
       "43          302  42.12  \n",
       "44          771  30.01  \n",
       "45          714  43.62  \n",
       "46          662  40.76  \n",
       "47          541  31.55  \n",
       "48          771  39.70  \n",
       "49          623  37.55  \n",
       "50          875  42.56  \n",
       "51         1182  30.02  \n",
       "52         1093  32.29  \n",
       "53         1182  30.02  "
      ]
     },
     "execution_count": 99,
     "metadata": {},
     "output_type": "execute_result"
    }
   ],
   "source": [
    "# из полученных списков формируем таблицу и считаем долю оттока\n",
    "d2 = {\n",
    "    'names':new_traits_name,\n",
    "    'total_count':total_count_2,\n",
    "    'churn_count':churn_count_2\n",
    "    }\n",
    "traits_churn_2 = pd.DataFrame(data=d2)\n",
    "traits_churn_2['share'] = round((traits_churn_2['churn_count'] / traits_churn_2['total_count']) * 100, 2)\n",
    "traits_churn_2"
   ]
  },
  {
   "cell_type": "code",
   "execution_count": 100,
   "id": "B2Z8I3HsVRGG",
   "metadata": {
    "id": "B2Z8I3HsVRGG"
   },
   "outputs": [
    {
     "data": {
      "text/plain": [
       "580.0"
      ]
     },
     "execution_count": 100,
     "metadata": {},
     "output_type": "execute_result"
    }
   ],
   "source": [
    "q1_2 = np.percentile(traits_churn_2['churn_count'], 25)\n",
    "q1_2"
   ]
  },
  {
   "cell_type": "code",
   "execution_count": 101,
   "id": "DsO2rcqaULTP",
   "metadata": {
    "id": "DsO2rcqaULTP"
   },
   "outputs": [
    {
     "data": {
      "text/html": [
       "<style type=\"text/css\">\n",
       "#T_6ad65_row0_col1 {\n",
       "  background-color: #dfddec;\n",
       "  color: #000000;\n",
       "}\n",
       "#T_6ad65_row0_col2 {\n",
       "  background-color: #c2cbe2;\n",
       "  color: #000000;\n",
       "}\n",
       "#T_6ad65_row0_col3, #T_6ad65_row9_col1, #T_6ad65_row9_col2 {\n",
       "  background-color: #023858;\n",
       "  color: #f1f1f1;\n",
       "}\n",
       "#T_6ad65_row1_col1, #T_6ad65_row1_col2, #T_6ad65_row9_col3 {\n",
       "  background-color: #fff7fb;\n",
       "  color: #000000;\n",
       "}\n",
       "#T_6ad65_row1_col3 {\n",
       "  background-color: #045687;\n",
       "  color: #f1f1f1;\n",
       "}\n",
       "#T_6ad65_row2_col1, #T_6ad65_row6_col3 {\n",
       "  background-color: #83afd3;\n",
       "  color: #f1f1f1;\n",
       "}\n",
       "#T_6ad65_row2_col2 {\n",
       "  background-color: #308cbe;\n",
       "  color: #f1f1f1;\n",
       "}\n",
       "#T_6ad65_row2_col3 {\n",
       "  background-color: #045e93;\n",
       "  color: #f1f1f1;\n",
       "}\n",
       "#T_6ad65_row3_col1, #T_6ad65_row3_col2 {\n",
       "  background-color: #e0deed;\n",
       "  color: #000000;\n",
       "}\n",
       "#T_6ad65_row3_col3 {\n",
       "  background-color: #3f93c2;\n",
       "  color: #f1f1f1;\n",
       "}\n",
       "#T_6ad65_row4_col1 {\n",
       "  background-color: #94b6d7;\n",
       "  color: #000000;\n",
       "}\n",
       "#T_6ad65_row4_col2 {\n",
       "  background-color: #76aad0;\n",
       "  color: #f1f1f1;\n",
       "}\n",
       "#T_6ad65_row4_col3 {\n",
       "  background-color: #4e9ac6;\n",
       "  color: #f1f1f1;\n",
       "}\n",
       "#T_6ad65_row5_col1 {\n",
       "  background-color: #f2ecf5;\n",
       "  color: #000000;\n",
       "}\n",
       "#T_6ad65_row5_col2 {\n",
       "  background-color: #f8f1f8;\n",
       "  color: #000000;\n",
       "}\n",
       "#T_6ad65_row5_col3 {\n",
       "  background-color: #569dc8;\n",
       "  color: #f1f1f1;\n",
       "}\n",
       "#T_6ad65_row6_col1 {\n",
       "  background-color: #a1bbda;\n",
       "  color: #000000;\n",
       "}\n",
       "#T_6ad65_row6_col2 {\n",
       "  background-color: #96b6d7;\n",
       "  color: #000000;\n",
       "}\n",
       "#T_6ad65_row7_col1 {\n",
       "  background-color: #b4c4df;\n",
       "  color: #000000;\n",
       "}\n",
       "#T_6ad65_row7_col2 {\n",
       "  background-color: #c5cce3;\n",
       "  color: #000000;\n",
       "}\n",
       "#T_6ad65_row7_col3 {\n",
       "  background-color: #ced0e6;\n",
       "  color: #000000;\n",
       "}\n",
       "#T_6ad65_row8_col1 {\n",
       "  background-color: #dbdaeb;\n",
       "  color: #000000;\n",
       "}\n",
       "#T_6ad65_row8_col2 {\n",
       "  background-color: #f1ebf5;\n",
       "  color: #000000;\n",
       "}\n",
       "#T_6ad65_row8_col3 {\n",
       "  background-color: #e2dfee;\n",
       "  color: #000000;\n",
       "}\n",
       "</style>\n",
       "<table id=\"T_6ad65\">\n",
       "  <thead>\n",
       "    <tr>\n",
       "      <th class=\"blank level0\" >&nbsp;</th>\n",
       "      <th id=\"T_6ad65_level0_col0\" class=\"col_heading level0 col0\" >names</th>\n",
       "      <th id=\"T_6ad65_level0_col1\" class=\"col_heading level0 col1\" >total_count</th>\n",
       "      <th id=\"T_6ad65_level0_col2\" class=\"col_heading level0 col2\" >churn_count</th>\n",
       "      <th id=\"T_6ad65_level0_col3\" class=\"col_heading level0 col3\" >share</th>\n",
       "    </tr>\n",
       "  </thead>\n",
       "  <tbody>\n",
       "    <tr>\n",
       "      <th id=\"T_6ad65_level0_row0\" class=\"row_heading level0 row0\" >0</th>\n",
       "      <td id=\"T_6ad65_row0_col0\" class=\"data row0 col0\" >от 2 объектов с активностью мужчины</td>\n",
       "      <td id=\"T_6ad65_row0_col1\" class=\"data row0 col1\" >1637</td>\n",
       "      <td id=\"T_6ad65_row0_col2\" class=\"data row0 col2\" >714</td>\n",
       "      <td id=\"T_6ad65_row0_col3\" class=\"data row0 col3\" >43.620000</td>\n",
       "    </tr>\n",
       "    <tr>\n",
       "      <th id=\"T_6ad65_level0_row1\" class=\"row_heading level0 row1\" >1</th>\n",
       "      <td id=\"T_6ad65_row1_col0\" class=\"data row1 col0\" >без кредитки с активностью от 2 объектов</td>\n",
       "      <td id=\"T_6ad65_row1_col1\" class=\"data row1 col1\" >1355</td>\n",
       "      <td id=\"T_6ad65_row1_col2\" class=\"data row1 col2\" >580</td>\n",
       "      <td id=\"T_6ad65_row1_col3\" class=\"data row1 col3\" >42.800000</td>\n",
       "    </tr>\n",
       "    <tr>\n",
       "      <th id=\"T_6ad65_level0_row2\" class=\"row_heading level0 row2\" >2</th>\n",
       "      <td id=\"T_6ad65_row2_col0\" class=\"data row2 col0\" >от 2 объектов с активностью баланс больше 500000</td>\n",
       "      <td id=\"T_6ad65_row2_col1\" class=\"data row2 col1\" >2056</td>\n",
       "      <td id=\"T_6ad65_row2_col2\" class=\"data row2 col2\" >875</td>\n",
       "      <td id=\"T_6ad65_row2_col3\" class=\"data row2 col3\" >42.560000</td>\n",
       "    </tr>\n",
       "    <tr>\n",
       "      <th id=\"T_6ad65_level0_row3\" class=\"row_heading level0 row3\" >3</th>\n",
       "      <td id=\"T_6ad65_row3_col0\" class=\"data row3 col0\" >с активностью от 2 продуктов мужчины</td>\n",
       "      <td id=\"T_6ad65_row3_col1\" class=\"data row3 col1\" >1624</td>\n",
       "      <td id=\"T_6ad65_row3_col2\" class=\"data row3 col2\" >662</td>\n",
       "      <td id=\"T_6ad65_row3_col3\" class=\"data row3 col3\" >40.760000</td>\n",
       "    </tr>\n",
       "    <tr>\n",
       "      <th id=\"T_6ad65_level0_row4\" class=\"row_heading level0 row4\" >4</th>\n",
       "      <td id=\"T_6ad65_row4_col0\" class=\"data row4 col0\" >с активностью от 2 продуктов баланс больше 500000</td>\n",
       "      <td id=\"T_6ad65_row4_col1\" class=\"data row4 col1\" >1991</td>\n",
       "      <td id=\"T_6ad65_row4_col2\" class=\"data row4 col2\" >807</td>\n",
       "      <td id=\"T_6ad65_row4_col3\" class=\"data row4 col3\" >40.530000</td>\n",
       "    </tr>\n",
       "    <tr>\n",
       "      <th id=\"T_6ad65_level0_row5\" class=\"row_heading level0 row5\" >5</th>\n",
       "      <td id=\"T_6ad65_row5_col0\" class=\"data row5 col0\" >без кредитки с активностью от 2 продуктов</td>\n",
       "      <td id=\"T_6ad65_row5_col1\" class=\"data row5 col1\" >1485</td>\n",
       "      <td id=\"T_6ad65_row5_col2\" class=\"data row5 col2\" >600</td>\n",
       "      <td id=\"T_6ad65_row5_col3\" class=\"data row5 col3\" >40.400000</td>\n",
       "    </tr>\n",
       "    <tr>\n",
       "      <th id=\"T_6ad65_level0_row6\" class=\"row_heading level0 row6\" >6</th>\n",
       "      <td id=\"T_6ad65_row6_col0\" class=\"data row6 col0\" >мужчины от 2 объектов баланс больше 500000</td>\n",
       "      <td id=\"T_6ad65_row6_col1\" class=\"data row6 col1\" >1942</td>\n",
       "      <td id=\"T_6ad65_row6_col2\" class=\"data row6 col2\" >771</td>\n",
       "      <td id=\"T_6ad65_row6_col3\" class=\"data row6 col3\" >39.700000</td>\n",
       "    </tr>\n",
       "    <tr>\n",
       "      <th id=\"T_6ad65_level0_row7\" class=\"row_heading level0 row7\" >7</th>\n",
       "      <td id=\"T_6ad65_row7_col0\" class=\"data row7 col0\" >мужчины от 2 продуктов, баланс больше 500000</td>\n",
       "      <td id=\"T_6ad65_row7_col1\" class=\"data row7 col1\" >1859</td>\n",
       "      <td id=\"T_6ad65_row7_col2\" class=\"data row7 col2\" >710</td>\n",
       "      <td id=\"T_6ad65_row7_col3\" class=\"data row7 col3\" >38.190000</td>\n",
       "    </tr>\n",
       "    <tr>\n",
       "      <th id=\"T_6ad65_level0_row8\" class=\"row_heading level0 row8\" >8</th>\n",
       "      <td id=\"T_6ad65_row8_col0\" class=\"data row8 col0\" >без кредитки от 2 объектов баланс больше 500000</td>\n",
       "      <td id=\"T_6ad65_row8_col1\" class=\"data row8 col1\" >1659</td>\n",
       "      <td id=\"T_6ad65_row8_col2\" class=\"data row8 col2\" >623</td>\n",
       "      <td id=\"T_6ad65_row8_col3\" class=\"data row8 col3\" >37.550000</td>\n",
       "    </tr>\n",
       "    <tr>\n",
       "      <th id=\"T_6ad65_level0_row9\" class=\"row_heading level0 row9\" >9</th>\n",
       "      <td id=\"T_6ad65_row9_col0\" class=\"data row9 col0\" >от 2 объектов с активностью от 2 продуктов</td>\n",
       "      <td id=\"T_6ad65_row9_col1\" class=\"data row9 col1\" >2867</td>\n",
       "      <td id=\"T_6ad65_row9_col2\" class=\"data row9 col2\" >1041</td>\n",
       "      <td id=\"T_6ad65_row9_col3\" class=\"data row9 col3\" >36.310000</td>\n",
       "    </tr>\n",
       "  </tbody>\n",
       "</table>\n"
      ],
      "text/plain": [
       "<pandas.io.formats.style.Styler at 0x1e5127cbe20>"
      ]
     },
     "execution_count": 101,
     "metadata": {},
     "output_type": "execute_result"
    }
   ],
   "source": [
    "traits_churn_2_filtr = (\n",
    "    traits_churn_2\n",
    "    .query(f'churn_count >= {q1_2} and share >= {total_outflow_share * 2}')\n",
    "    .drop_duplicates(subset='share')\n",
    "    .sort_values(by='share', ascending=False)\n",
    "    ).reset_index(drop=True)\n",
    "traits_churn_2_filtr.style.background_gradient(subset=['total_count','churn_count','share'])"
   ]
  },
  {
   "cell_type": "markdown",
   "id": "1e007c66",
   "metadata": {
    "id": "1e007c66"
   },
   "source": [
    "Перебрав разные признаки друг с другом, выделяем следующие сегменты:\n",
    "\n",
    "- _Сегмент 1._ **Мужчины** с **активностью** за последний месяц, владеют от **2 объектов** собственности;\n",
    "\n",
    "- _Сегмент 2._ С **активностью**, с большим **балансом** (от 500000), владеют от **2 объектов** собственности;\n",
    "\n",
    "- _Сегмент 3._ С **активностью**, с большим **балансом** (от 500000), оформлено  от **2 продуктов**;\n",
    "\n",
    "- _Сегмент 4._ **Мужчины** с большим **балансом** (от 500000), владеют от **2 объектов собственности**;\n",
    "\n",
    "- _Сегмент 5._ С **активностью** владеют от **2 объектов** собственности, оформлено  от **2 продуктов**."
   ]
  },
  {
   "cell_type": "code",
   "execution_count": 102,
   "id": "3114bde1",
   "metadata": {},
   "outputs": [
    {
     "data": {
      "text/html": [
       "<div>\n",
       "<style scoped>\n",
       "    .dataframe tbody tr th:only-of-type {\n",
       "        vertical-align: middle;\n",
       "    }\n",
       "\n",
       "    .dataframe tbody tr th {\n",
       "        vertical-align: top;\n",
       "    }\n",
       "\n",
       "    .dataframe thead th {\n",
       "        text-align: right;\n",
       "    }\n",
       "</style>\n",
       "<table border=\"1\" class=\"dataframe\">\n",
       "  <thead>\n",
       "    <tr style=\"text-align: right;\">\n",
       "      <th></th>\n",
       "      <th>segments</th>\n",
       "      <th>names</th>\n",
       "      <th>total_count</th>\n",
       "      <th>churn_count</th>\n",
       "      <th>share</th>\n",
       "    </tr>\n",
       "  </thead>\n",
       "  <tbody>\n",
       "    <tr>\n",
       "      <th>0</th>\n",
       "      <td>Сегмент 1</td>\n",
       "      <td>от 2 объектов с активностью мужчины</td>\n",
       "      <td>1637</td>\n",
       "      <td>714</td>\n",
       "      <td>43.62</td>\n",
       "    </tr>\n",
       "    <tr>\n",
       "      <th>1</th>\n",
       "      <td>Сегмент 2</td>\n",
       "      <td>от 2 объектов с активностью баланс больше 500000</td>\n",
       "      <td>2056</td>\n",
       "      <td>875</td>\n",
       "      <td>42.56</td>\n",
       "    </tr>\n",
       "    <tr>\n",
       "      <th>2</th>\n",
       "      <td>Сегмент 3</td>\n",
       "      <td>с активностью от 2 продуктов баланс больше 500000</td>\n",
       "      <td>1991</td>\n",
       "      <td>807</td>\n",
       "      <td>40.53</td>\n",
       "    </tr>\n",
       "    <tr>\n",
       "      <th>3</th>\n",
       "      <td>Сегмент 4</td>\n",
       "      <td>мужчины от 2 объектов баланс больше 500000</td>\n",
       "      <td>1942</td>\n",
       "      <td>771</td>\n",
       "      <td>39.70</td>\n",
       "    </tr>\n",
       "    <tr>\n",
       "      <th>4</th>\n",
       "      <td>Сегмент 5</td>\n",
       "      <td>от 2 объектов с активностью от 2 продуктов</td>\n",
       "      <td>2867</td>\n",
       "      <td>1041</td>\n",
       "      <td>36.31</td>\n",
       "    </tr>\n",
       "  </tbody>\n",
       "</table>\n",
       "</div>"
      ],
      "text/plain": [
       "    segments                                              names  total_count  \\\n",
       "0  Сегмент 1                от 2 объектов с активностью мужчины         1637   \n",
       "1  Сегмент 2   от 2 объектов с активностью баланс больше 500000         2056   \n",
       "2  Сегмент 3  с активностью от 2 продуктов баланс больше 500000         1991   \n",
       "3  Сегмент 4         мужчины от 2 объектов баланс больше 500000         1942   \n",
       "4  Сегмент 5         от 2 объектов с активностью от 2 продуктов         2867   \n",
       "\n",
       "   churn_count  share  \n",
       "0          714  43.62  \n",
       "1          875  42.56  \n",
       "2          807  40.53  \n",
       "3          771  39.70  \n",
       "4         1041  36.31  "
      ]
     },
     "execution_count": 102,
     "metadata": {},
     "output_type": "execute_result"
    }
   ],
   "source": [
    "# фильтруем таблицу оставляя сегменты для визуализации\n",
    "segments = traits_churn_2_filtr.query('index in [0,2,4,6,9]').reset_index(drop=True)\n",
    "# проверка\n",
    "segments['segments'] = ['Сегмент 1', 'Сегмент 2','Сегмент 3','Сегмент 4','Сегмент 5']\n",
    "segments = segments[['segments','names','total_count','churn_count','share']]\n",
    "segments"
   ]
  },
  {
   "cell_type": "code",
   "execution_count": 103,
   "id": "45dc7a2b",
   "metadata": {},
   "outputs": [
    {
     "data": {
      "image/png": "[encoded data removed]",
      "text/plain": [
       "<Figure size 1440x360 with 1 Axes>"
      ]
     },
     "metadata": {},
     "output_type": "display_data"
    }
   ],
   "source": [
    "# визуализация\n",
    "fig = plt.subplots(figsize =(20, 5))\n",
    "sns.barplot(data=segments, x=segments['total_count'], y=segments['segments'], color = 'lightgrey')\n",
    "sns.barplot(data=segments, x=segments['churn_count'], y=segments['segments'], color = 'tomato')\n",
    "plt.title('Количестов лояльных и ушедших клиентов в каждом сегменте', size=22, loc='left')\n",
    "plt.ylabel(' ')\n",
    "plt.xlabel('Количество', size=15)\n",
    "share = list(segments['share'])\n",
    "yticks = ['Сегмент 1', 'Сегмент 2','Сегмент 3','Сегмент 4','Сегмент 5']\n",
    "for i in range(len(share)):\n",
    "    plt.text(470, i+0.15, share[i], color='white', size=25)\n",
    "plt.xticks(size=15)\n",
    "plt.yticks(size=15)\n",
    "sns.despine(left=True, bottom=True)\n",
    "plt.show()"
   ]
  },
  {
   "cell_type": "markdown",
   "id": "9a463223",
   "metadata": {
    "id": "9a463223"
   },
   "source": [
    "## Выводы и рекомендации"
   ]
  },
  {
   "cell_type": "markdown",
   "id": "f44157f8",
   "metadata": {
    "id": "f44157f8"
   },
   "source": [
    "#### Общие выводы"
   ]
  },
  {
   "cell_type": "markdown",
   "id": "94af4024",
   "metadata": {
    "id": "94af4024"
   },
   "source": [
    "Представленный датафрейм состоит из 12 столбцов на 10000 строк и содержит информацию о клиентах разных филиалов банка и их признаков. Во время проведения предварительной обработки данных мы исправили названия столбцов, убрали пропущенные значения и привели форматы данных к одному типу. Кроме того, мы удалили дубликаты записей и рассмотрев распределения, провели категоризацию признаков с непрерывными и дискретными значениями для более точного анализа.\n",
    "Далее в начале анализа мы рассмотрели различия значений признаков клиентов, которые ушли, и клиентов, которые остались, и выделили следующие признаки отточности:\n",
    "- мужчины;\n",
    "- без кредитной карты;\n",
    "- 25–35 лет и 50–60  лет;\n",
    "- баланс больше 500000;\n",
    "- предположительная зарплата 120000-240000 и больше 260000;\n",
    "- рейтинг 840–940;\n",
    "- из Ярославля.\n",
    "\n",
    "Потом мы рассчитали корреляцию признаков и сделали дополнительные вывод: чем больше баллов собственности и количество продуктов, тем выше уход.\n",
    "\n",
    "Проведя ряд статистических тестов и рассматривая результаты вместе с предыдущими выводами о портретах клиентов, следует предположить, что уровень баланса, зарплаты и кредитного рейтинга у лояльных клиентов и у ушедших разный. \n",
    "\n",
    "И наконец во время сегментации признаков мы перебрали разные признаки друг с другом, для того чтобы выделить следующие предположительные сегменты:\n",
    "\n",
    "- Мужчины с активностью за последний месяц, владеют от 2 объектов собственности;\n",
    "\n",
    "- С активностью, с большим балансом (от 500000), владеют от 2 объектов собственности;\n",
    "\n",
    "- С активностью, с большим балансом (от 500000), оформлено  от 2 продуктов;\n",
    "\n",
    "- Мужчины с большим балансом (от 500000), владеют от 2 объектов собственности;\n",
    "\n",
    "- С активностью, владеют от 2 объектов собственности, оформлено  от 2 продуктов."
   ]
  },
  {
   "cell_type": "markdown",
   "id": "740453eb",
   "metadata": {
    "id": "740453eb"
   },
   "source": [
    "#### Рекомендации"
   ]
  },
  {
   "cell_type": "markdown",
   "id": "05bc3db9",
   "metadata": {},
   "source": [
    "Мы сформулировали проблемные сегменты по признакам с большой долей оттока. Для выявления причин оттока данных сегментов в рамках данного исследования не представляется возможным, поэтому следует порекомендовать следующее:\n",
    "- установить обратную связь с ушедшими клиентами из сформулированных сегментов для выявления причин и возможных проблем, с которыми могли столкнуться клиенты;\n",
    "- отдельно проанализировать поведение и активность клиентов за определённое время до ухода, если обратная связь с клиентом не была установлена;\n",
    "- установить специальную информационную коммуникацию об условиях, акциях и продуктах для клиентов из сформулированных сегментов, которые еще не ушли, для минимизирования риска ухода;\n",
    "- при возможности разработать систему специальных предложений и поощрений для данных сегментов, для минимизирования риска ухода."
   ]
  }
 ],
 "metadata": {
  "ExecuteTimeLog": [
   {
    "duration": 1317,
    "start_time": "2023-08-09T10:20:25.807Z"
   },
   {
    "duration": 4,
    "start_time": "2023-08-09T10:20:27.127Z"
   },
   {
    "duration": 150,
    "start_time": "2023-08-09T10:20:27.133Z"
   },
   {
    "duration": 46,
    "start_time": "2023-08-09T10:20:27.293Z"
   },
   {
    "duration": 9,
    "start_time": "2023-08-09T10:20:27.341Z"
   },
   {
    "duration": 107,
    "start_time": "2023-08-09T10:20:27.352Z"
   },
   {
    "duration": 45,
    "start_time": "2023-08-09T10:20:27.460Z"
   },
   {
    "duration": 41,
    "start_time": "2023-08-09T10:20:27.506Z"
   },
   {
    "duration": 79,
    "start_time": "2023-08-09T10:20:27.549Z"
   },
   {
    "duration": 157,
    "start_time": "2023-08-09T10:20:27.632Z"
   },
   {
    "duration": 54,
    "start_time": "2023-08-09T10:20:27.794Z"
   },
   {
    "duration": 14,
    "start_time": "2023-08-09T10:20:27.850Z"
   },
   {
    "duration": 58,
    "start_time": "2023-08-09T10:20:27.866Z"
   },
   {
    "duration": 37,
    "start_time": "2023-08-09T10:20:27.926Z"
   },
   {
    "duration": 74,
    "start_time": "2023-08-09T10:20:27.965Z"
   },
   {
    "duration": 17,
    "start_time": "2023-08-09T10:20:28.041Z"
   },
   {
    "duration": 59,
    "start_time": "2023-08-09T10:20:28.059Z"
   },
   {
    "duration": 33,
    "start_time": "2023-08-09T10:20:28.120Z"
   },
   {
    "duration": 80,
    "start_time": "2023-08-09T10:20:28.155Z"
   },
   {
    "duration": 46,
    "start_time": "2023-08-09T10:20:28.237Z"
   },
   {
    "duration": 62,
    "start_time": "2023-08-09T10:20:28.285Z"
   },
   {
    "duration": 54,
    "start_time": "2023-08-09T10:20:28.349Z"
   },
   {
    "duration": 25,
    "start_time": "2023-08-09T10:20:28.404Z"
   },
   {
    "duration": 45,
    "start_time": "2023-08-09T10:20:28.431Z"
   },
   {
    "duration": 52,
    "start_time": "2023-08-09T10:20:28.478Z"
   },
   {
    "duration": 86,
    "start_time": "2023-08-09T10:20:28.532Z"
   },
   {
    "duration": 12,
    "start_time": "2023-08-09T10:20:28.620Z"
   },
   {
    "duration": 1142,
    "start_time": "2023-08-09T10:20:28.637Z"
   },
   {
    "duration": 283,
    "start_time": "2023-08-09T10:20:29.786Z"
   },
   {
    "duration": 30,
    "start_time": "2023-08-09T10:20:30.071Z"
   },
   {
    "duration": 98,
    "start_time": "2023-08-09T10:20:30.103Z"
   },
   {
    "duration": 27,
    "start_time": "2023-08-09T10:20:30.203Z"
   },
   {
    "duration": 40,
    "start_time": "2023-08-09T10:20:30.232Z"
   },
   {
    "duration": 78,
    "start_time": "2023-08-09T10:20:30.274Z"
   },
   {
    "duration": 384,
    "start_time": "2023-08-09T10:20:30.354Z"
   },
   {
    "duration": 6,
    "start_time": "2023-08-09T10:20:30.740Z"
   },
   {
    "duration": 63,
    "start_time": "2023-08-09T10:20:30.747Z"
   },
   {
    "duration": 59,
    "start_time": "2023-08-09T10:20:30.813Z"
   },
   {
    "duration": 372,
    "start_time": "2023-08-09T10:20:30.875Z"
   },
   {
    "duration": 5,
    "start_time": "2023-08-09T10:20:31.249Z"
   },
   {
    "duration": 44,
    "start_time": "2023-08-09T10:20:31.260Z"
   },
   {
    "duration": 175,
    "start_time": "2023-08-09T10:20:31.306Z"
   },
   {
    "duration": 358,
    "start_time": "2023-08-09T10:20:31.483Z"
   },
   {
    "duration": 93,
    "start_time": "2023-08-09T10:20:31.843Z"
   },
   {
    "duration": 375,
    "start_time": "2023-08-09T10:20:31.940Z"
   },
   {
    "duration": 3,
    "start_time": "2023-08-09T10:20:32.317Z"
   },
   {
    "duration": 504,
    "start_time": "2023-08-09T10:20:32.323Z"
   },
   {
    "duration": 280,
    "start_time": "2023-08-09T10:20:32.829Z"
   },
   {
    "duration": 696,
    "start_time": "2023-08-09T10:20:33.111Z"
   },
   {
    "duration": 18,
    "start_time": "2023-08-09T10:20:33.811Z"
   },
   {
    "duration": 16,
    "start_time": "2023-08-09T10:20:33.832Z"
   },
   {
    "duration": 35,
    "start_time": "2023-08-09T10:20:33.850Z"
   },
   {
    "duration": 77,
    "start_time": "2023-08-09T10:20:33.887Z"
   },
   {
    "duration": 78,
    "start_time": "2023-08-09T10:20:33.965Z"
   },
   {
    "duration": 597,
    "start_time": "2023-08-09T10:20:34.045Z"
   },
   {
    "duration": 4,
    "start_time": "2023-08-09T10:20:34.645Z"
   },
   {
    "duration": 123,
    "start_time": "2023-08-09T10:20:34.650Z"
   },
   {
    "duration": 110,
    "start_time": "2023-08-09T10:20:34.775Z"
   },
   {
    "duration": 114,
    "start_time": "2023-08-09T10:20:34.890Z"
   },
   {
    "duration": 32,
    "start_time": "2023-08-09T10:20:35.006Z"
   },
   {
    "duration": 387,
    "start_time": "2023-08-09T10:20:35.043Z"
   },
   {
    "duration": 4,
    "start_time": "2023-08-09T10:20:35.433Z"
   },
   {
    "duration": 45,
    "start_time": "2023-08-09T10:20:35.439Z"
   },
   {
    "duration": 74,
    "start_time": "2023-08-09T10:20:35.487Z"
   },
   {
    "duration": 26,
    "start_time": "2023-08-09T10:20:35.564Z"
   },
   {
    "duration": 74,
    "start_time": "2023-08-09T10:20:35.593Z"
   },
   {
    "duration": 80,
    "start_time": "2023-08-09T10:20:35.670Z"
   },
   {
    "duration": 43,
    "start_time": "2023-08-09T10:20:35.752Z"
   },
   {
    "duration": 2535,
    "start_time": "2023-08-09T10:20:35.796Z"
   },
   {
    "duration": 282,
    "start_time": "2023-08-09T10:20:38.333Z"
   },
   {
    "duration": 32,
    "start_time": "2023-08-09T10:20:38.617Z"
   },
   {
    "duration": 946,
    "start_time": "2023-08-09T10:20:38.651Z"
   },
   {
    "duration": 15,
    "start_time": "2023-08-09T10:20:39.599Z"
   },
   {
    "duration": 42,
    "start_time": "2023-08-09T10:20:39.616Z"
   },
   {
    "duration": 23,
    "start_time": "2023-08-09T10:20:39.660Z"
   },
   {
    "duration": 45,
    "start_time": "2023-08-09T10:20:39.685Z"
   },
   {
    "duration": 28,
    "start_time": "2023-08-09T10:20:39.734Z"
   },
   {
    "duration": 261,
    "start_time": "2023-08-09T10:20:39.765Z"
   },
   {
    "duration": 282,
    "start_time": "2023-08-09T10:20:40.028Z"
   }
  ],
  "colab": {
   "collapsed_sections": [
    "40db2779",
    "8e5dba5c",
    "a82219f0",
    "ec3de4a8",
    "95d2f976",
    "45522516",
    "ac69b243",
    "ee9f7222",
    "258dd2be",
    "872d5d1c",
    "5441f49c"
   ],
   "provenance": []
  },
  "kernelspec": {
   "display_name": "Python 3 (ipykernel)",
   "language": "python",
   "name": "python3"
  },
  "language_info": {
   "codemirror_mode": {
    "name": "ipython",
    "version": 3
   },
   "file_extension": ".py",
   "mimetype": "text/x-python",
   "name": "python",
   "nbconvert_exporter": "python",
   "pygments_lexer": "ipython3",
   "version": "3.9.12"
  },
  "toc": {
   "base_numbering": 1,
   "nav_menu": {},
   "number_sections": true,
   "sideBar": true,
   "skip_h1_title": true,
   "title_cell": "Table of Contents",
   "title_sidebar": "Contents",
   "toc_cell": false,
   "toc_position": {},
   "toc_section_display": true,
   "toc_window_display": false
  }
 },
 "nbformat": 4,
 "nbformat_minor": 5
}
